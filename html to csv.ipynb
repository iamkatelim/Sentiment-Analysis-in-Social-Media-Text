{
 "cells": [
  {
   "cell_type": "markdown",
   "metadata": {},
   "source": [
    "### Import Libraries"
   ]
  },
  {
   "cell_type": "code",
   "execution_count": 1,
   "metadata": {},
   "outputs": [],
   "source": [
    "from bs4 import BeautifulSoup as bs\n",
    "import re\n",
    "import os\n",
    "import csv"
   ]
  },
  {
   "cell_type": "code",
   "execution_count": 2,
   "metadata": {},
   "outputs": [],
   "source": [
    "overall_data = []"
   ]
  },
  {
   "cell_type": "code",
   "execution_count": 3,
   "metadata": {},
   "outputs": [],
   "source": [
    "html_files = []\n",
    "def find_html_files():\n",
    "    path = \"./raw html\"\n",
    "    ext = \".html\"\n",
    "    for _, _, dirfiles in os.walk(path):\n",
    "        matches = (f for f in dirfiles if f.endswith(ext))\n",
    "        break\n",
    "\n",
    "    for filename in matches:\n",
    "        html_files.append(filename)"
   ]
  },
  {
   "cell_type": "code",
   "execution_count": 4,
   "metadata": {},
   "outputs": [
    {
     "name": "stdout",
     "output_type": "stream",
     "text": [
      "20210316.html\n",
      "20210318.html\n",
      "20210315.html\n",
      "20210311.html\n",
      "20210317.html\n",
      "20210314.html\n",
      "20210312.html\n",
      "20210313.html\n"
     ]
    }
   ],
   "source": [
    "find_html_files()\n",
    "for file in html_files:\n",
    "    print(file)\n",
    "    with open(\"./raw html/\"+file, encoding=\"utf-8\") as fp:\n",
    "        data = fp.read()\n",
    "        soup = bs(data, 'html.parser')\n",
    "\n",
    "        # extract post comments\n",
    "        postComments = soup.select(\".l9j0dhe7.ecm0bbzt.rz4wbd8a.qt6c0cv9.dati1w0a.j83agx80.btwxx1t3.lzcic4wl\")\n",
    "\n",
    "        # extract comments\n",
    "        raw_comments = []\n",
    "        for comment in postComments:\n",
    "            comment_text = comment.select(\".cxmmr5t8.oygrvhab.hcukyx3x.c1et5uql\")\n",
    "            x = re.findall(\"start;\\\">(.*?)<\\/div>\", str(comment_text))\n",
    "            raw_comments.append(' '.join(x))\n",
    "\n",
    "        cleaned_comments = []\n",
    "        for comment in raw_comments:\n",
    "            emojis = re.findall(\"img alt=\\\"(.*?)\\\"\", str(comment))\n",
    "            if emojis:\n",
    "                if len(emojis) > 1:\n",
    "                    for emoji in emojis:\n",
    "                        img_tags = re.findall(\"<img alt.*?/>\", str(comment))\n",
    "                        for img_tag in img_tags:\n",
    "                            comment = re.sub(img_tag, emoji, str(comment))\n",
    "                else:\n",
    "                    comment = re.sub(\"<img alt.*?/>\", emojis[0], str(comment))\n",
    "\n",
    "            soup_remove_tags = bs(comment)\n",
    "            final_text = soup_remove_tags.get_text()\n",
    "            cleaned_comments.append(final_text)\n",
    "\n",
    "            date = re.match(\"[0-9]+\", file).group(0)\n",
    "            date = [date] * len(cleaned_comments)\n",
    "\n",
    "            # list -> dict\n",
    "            final_dataset = list(zip(date, cleaned_comments))\n",
    "    \n",
    "    overall_data.append(final_dataset)"
   ]
  },
  {
   "cell_type": "code",
   "execution_count": 5,
   "metadata": {},
   "outputs": [],
   "source": [
    "with open('facebook_health_cases.csv','w', encoding='utf-8') as result_file:\n",
    "    wr = csv.writer(result_file)\n",
    "    #wr.writerow(['date','text'])\n",
    "    for i in overall_data:\n",
    "        wr.writerows(i)"
   ]
  },
  {
   "cell_type": "code",
   "execution_count": null,
   "metadata": {},
   "outputs": [],
   "source": []
  }
 ],
 "metadata": {
  "kernelspec": {
   "display_name": "Python 3",
   "language": "python",
   "name": "python3"
  },
  "language_info": {
   "codemirror_mode": {
    "name": "ipython",
    "version": 3
   },
   "file_extension": ".py",
   "mimetype": "text/x-python",
   "name": "python",
   "nbconvert_exporter": "python",
   "pygments_lexer": "ipython3",
   "version": "3.8.3"
  }
 },
 "nbformat": 4,
 "nbformat_minor": 4
}
