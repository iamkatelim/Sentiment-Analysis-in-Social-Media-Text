{
 "cells": [
  {
   "cell_type": "markdown",
   "metadata": {},
   "source": [
    "https://www.tensorflow.org/tutorials/text/text_classification_rnn"
   ]
  },
  {
   "cell_type": "code",
   "execution_count": 1,
   "metadata": {},
   "outputs": [],
   "source": [
    "import numpy as np\n",
    "import tensorflow as tf\n",
    "import tensorflow_addons as tfa\n",
    "from tensorflow.keras import losses\n",
    "from keras import regularizers\n",
    "from keras.models import load_model\n",
    "import os\n",
    "import tensorflow_datasets as tfds\n",
    "from sklearn.model_selection import train_test_split"
   ]
  },
  {
   "cell_type": "code",
   "execution_count": 2,
   "metadata": {},
   "outputs": [
    {
     "name": "stdout",
     "output_type": "stream",
     "text": [
      "2.4.1\n"
     ]
    }
   ],
   "source": [
    "print(tf.version.VERSION)"
   ]
  },
  {
   "cell_type": "code",
   "execution_count": 3,
   "metadata": {},
   "outputs": [],
   "source": [
    "import matplotlib.pyplot as plt\n",
    "\n",
    "def plot_graphs(history, metric):\n",
    "    plt.plot(history.history[metric])\n",
    "    plt.plot(history.history['val_'+metric], '')\n",
    "    plt.xlabel(\"Epochs\")\n",
    "    plt.ylabel(metric)\n",
    "    plt.legend([metric, 'val_'+metric])"
   ]
  },
  {
   "cell_type": "code",
   "execution_count": 4,
   "metadata": {},
   "outputs": [],
   "source": [
    "import pandas as pd"
   ]
  },
  {
   "cell_type": "code",
   "execution_count": 5,
   "metadata": {},
   "outputs": [
    {
     "data": {
      "text/html": [
       "<div>\n",
       "<style scoped>\n",
       "    .dataframe tbody tr th:only-of-type {\n",
       "        vertical-align: middle;\n",
       "    }\n",
       "\n",
       "    .dataframe tbody tr th {\n",
       "        vertical-align: top;\n",
       "    }\n",
       "\n",
       "    .dataframe thead th {\n",
       "        text-align: right;\n",
       "    }\n",
       "</style>\n",
       "<table border=\"1\" class=\"dataframe\">\n",
       "  <thead>\n",
       "    <tr style=\"text-align: right;\">\n",
       "      <th></th>\n",
       "      <th>date</th>\n",
       "      <th>text</th>\n",
       "      <th>sentiment</th>\n",
       "      <th>processed</th>\n",
       "      <th>normalized</th>\n",
       "      <th>check</th>\n",
       "      <th>check_stop</th>\n",
       "    </tr>\n",
       "  </thead>\n",
       "  <tbody>\n",
       "    <tr>\n",
       "      <th>0</th>\n",
       "      <td>20210221</td>\n",
       "      <td>#dsnr salam dato.. lebih kurang 15km dari ruma...</td>\n",
       "      <td>negative</td>\n",
       "      <td>salam dato lebih kurang  km dari rumah ke kila...</td>\n",
       "      <td>salam dato lebih kurang km dari rumah ke kilan...</td>\n",
       "      <td>salam dato lebih kurang kkm dari rumah ke kila...</td>\n",
       "      <td>kurang kkm rumah kilang pkp pkb pkpp tidak tur...</td>\n",
       "    </tr>\n",
       "    <tr>\n",
       "      <th>1</th>\n",
       "      <td>20210204</td>\n",
       "      <td>#noorhishamabdullah you’re not dr.fauci materi...</td>\n",
       "      <td>negative</td>\n",
       "      <td>you re not dr fauci material you re just pn gr...</td>\n",
       "      <td>you re not dr fauci material you re just pun g...</td>\n",
       "      <td>you re not dr fauci material you re just pun g...</td>\n",
       "      <td>not fauci material grabmart boy</td>\n",
       "    </tr>\n",
       "    <tr>\n",
       "      <th>2</th>\n",
       "      <td>20210130</td>\n",
       "      <td>#share dan #like page #the_information_news un...</td>\n",
       "      <td>neutral</td>\n",
       "      <td>dan page untuk mendapatkan khabar berita yang ...</td>\n",
       "      <td>dan page untuk mendapatkan khabar berita yang ...</td>\n",
       "      <td>dan page untuk mendapatkan khabar berita yang ...</td>\n",
       "      <td>page khabar berita saudara patani selatan thai...</td>\n",
       "    </tr>\n",
       "    <tr>\n",
       "      <th>3</th>\n",
       "      <td>20210202</td>\n",
       "      <td>1 dunia sedang &amp; terus diperbodohkan dgn agend...</td>\n",
       "      <td>negative</td>\n",
       "      <td>satu dunia sedang and terus diperbodohkan dgn ...</td>\n",
       "      <td>satu dunia sedang and terus diperbodohkan deng...</td>\n",
       "      <td>satu dunia sedang and terus diperbodohkan deng...</td>\n",
       "      <td>dunia diperbodohkan agenda yahudi ekonomi duni...</td>\n",
       "    </tr>\n",
       "    <tr>\n",
       "      <th>4</th>\n",
       "      <td>20210206</td>\n",
       "      <td>1 hari sy harap angka nie turun single digit m...</td>\n",
       "      <td>positive</td>\n",
       "      <td>satu hari sy harap angka nie turun single digi...</td>\n",
       "      <td>satu hari sy harap angka ini turun single digi...</td>\n",
       "      <td>satu hari sy harap angka ini turun single digi...</td>\n",
       "      <td>harap angka turun single digit capai zero case...</td>\n",
       "    </tr>\n",
       "    <tr>\n",
       "      <th>...</th>\n",
       "      <td>...</td>\n",
       "      <td>...</td>\n",
       "      <td>...</td>\n",
       "      <td>...</td>\n",
       "      <td>...</td>\n",
       "      <td>...</td>\n",
       "      <td>...</td>\n",
       "    </tr>\n",
       "    <tr>\n",
       "      <th>7902</th>\n",
       "      <td>20210121</td>\n",
       "      <td>wish</td>\n",
       "      <td>positive</td>\n",
       "      <td>wish</td>\n",
       "      <td>wish</td>\n",
       "      <td>wish</td>\n",
       "      <td>wish</td>\n",
       "    </tr>\n",
       "    <tr>\n",
       "      <th>7903</th>\n",
       "      <td>20210123</td>\n",
       "      <td>ya allah.. sy rasa satu pkra kita terlepas pan...</td>\n",
       "      <td>positive</td>\n",
       "      <td>ya allah sy rasa satu pkra kita terlepas panda...</td>\n",
       "      <td>ya allah sy rasa satu pkra kita terlepas panda...</td>\n",
       "      <td>ya allah sy rasa satu pkra kita terlepas panda...</td>\n",
       "      <td>pkra terlepas pandang lupa solat hajat bacaan ...</td>\n",
       "    </tr>\n",
       "    <tr>\n",
       "      <th>7904</th>\n",
       "      <td>20210124</td>\n",
       "      <td>ya allah mari kita brdoa bnyk2 smoga allah amp...</td>\n",
       "      <td>positive</td>\n",
       "      <td>ya allah mari kita brdoa bnyk  smoga allah amp...</td>\n",
       "      <td>ya allah mari kita brdoa banyak semoga allah a...</td>\n",
       "      <td>ya allah mari kita berdoa banyak semoga allah ...</td>\n",
       "      <td>mari berdoa banyak semoga ampunkan dosa harap ...</td>\n",
       "    </tr>\n",
       "    <tr>\n",
       "      <th>7905</th>\n",
       "      <td>20210125</td>\n",
       "      <td>yaallah ya tuhan ku sembuhkan la semua pesakit...</td>\n",
       "      <td>positive</td>\n",
       "      <td>yaallah ya tuhan ku sembuhkan la semua pesakit...</td>\n",
       "      <td>yaal lah ya tuhan ku sembuhkan la semua pesaki...</td>\n",
       "      <td>yaal lah ya tuhan aku sembuhkan la semua pesak...</td>\n",
       "      <td>tuhan sembuhkan pesakit covid tuhan lindungi k...</td>\n",
       "    </tr>\n",
       "    <tr>\n",
       "      <th>7906</th>\n",
       "      <td>20210121</td>\n",
       "      <td>😰more deaths. god have mercy 😰</td>\n",
       "      <td>negative</td>\n",
       "      <td>😰 more deaths god have mercy 😰</td>\n",
       "      <td>😰 more deaths god have mercy 😰</td>\n",
       "      <td>😰 more deaths god have mercy 😰</td>\n",
       "      <td>😰 deaths god mercy 😰</td>\n",
       "    </tr>\n",
       "  </tbody>\n",
       "</table>\n",
       "<p>7907 rows × 7 columns</p>\n",
       "</div>"
      ],
      "text/plain": [
       "          date                                               text sentiment  \\\n",
       "0     20210221  #dsnr salam dato.. lebih kurang 15km dari ruma...  negative   \n",
       "1     20210204  #noorhishamabdullah you’re not dr.fauci materi...  negative   \n",
       "2     20210130  #share dan #like page #the_information_news un...   neutral   \n",
       "3     20210202  1 dunia sedang & terus diperbodohkan dgn agend...  negative   \n",
       "4     20210206  1 hari sy harap angka nie turun single digit m...  positive   \n",
       "...        ...                                                ...       ...   \n",
       "7902  20210121                                               wish  positive   \n",
       "7903  20210123  ya allah.. sy rasa satu pkra kita terlepas pan...  positive   \n",
       "7904  20210124  ya allah mari kita brdoa bnyk2 smoga allah amp...  positive   \n",
       "7905  20210125  yaallah ya tuhan ku sembuhkan la semua pesakit...  positive   \n",
       "7906  20210121                     😰more deaths. god have mercy 😰  negative   \n",
       "\n",
       "                                              processed  \\\n",
       "0     salam dato lebih kurang  km dari rumah ke kila...   \n",
       "1     you re not dr fauci material you re just pn gr...   \n",
       "2     dan page untuk mendapatkan khabar berita yang ...   \n",
       "3     satu dunia sedang and terus diperbodohkan dgn ...   \n",
       "4     satu hari sy harap angka nie turun single digi...   \n",
       "...                                                 ...   \n",
       "7902                                               wish   \n",
       "7903  ya allah sy rasa satu pkra kita terlepas panda...   \n",
       "7904  ya allah mari kita brdoa bnyk  smoga allah amp...   \n",
       "7905  yaallah ya tuhan ku sembuhkan la semua pesakit...   \n",
       "7906                     😰 more deaths god have mercy 😰   \n",
       "\n",
       "                                             normalized  \\\n",
       "0     salam dato lebih kurang km dari rumah ke kilan...   \n",
       "1     you re not dr fauci material you re just pun g...   \n",
       "2     dan page untuk mendapatkan khabar berita yang ...   \n",
       "3     satu dunia sedang and terus diperbodohkan deng...   \n",
       "4     satu hari sy harap angka ini turun single digi...   \n",
       "...                                                 ...   \n",
       "7902                                               wish   \n",
       "7903  ya allah sy rasa satu pkra kita terlepas panda...   \n",
       "7904  ya allah mari kita brdoa banyak semoga allah a...   \n",
       "7905  yaal lah ya tuhan ku sembuhkan la semua pesaki...   \n",
       "7906                     😰 more deaths god have mercy 😰   \n",
       "\n",
       "                                                  check  \\\n",
       "0     salam dato lebih kurang kkm dari rumah ke kila...   \n",
       "1     you re not dr fauci material you re just pun g...   \n",
       "2     dan page untuk mendapatkan khabar berita yang ...   \n",
       "3     satu dunia sedang and terus diperbodohkan deng...   \n",
       "4     satu hari sy harap angka ini turun single digi...   \n",
       "...                                                 ...   \n",
       "7902                                               wish   \n",
       "7903  ya allah sy rasa satu pkra kita terlepas panda...   \n",
       "7904  ya allah mari kita berdoa banyak semoga allah ...   \n",
       "7905  yaal lah ya tuhan aku sembuhkan la semua pesak...   \n",
       "7906                     😰 more deaths god have mercy 😰   \n",
       "\n",
       "                                             check_stop  \n",
       "0     kurang kkm rumah kilang pkp pkb pkpp tidak tur...  \n",
       "1                       not fauci material grabmart boy  \n",
       "2     page khabar berita saudara patani selatan thai...  \n",
       "3     dunia diperbodohkan agenda yahudi ekonomi duni...  \n",
       "4     harap angka turun single digit capai zero case...  \n",
       "...                                                 ...  \n",
       "7902                                               wish  \n",
       "7903  pkra terlepas pandang lupa solat hajat bacaan ...  \n",
       "7904  mari berdoa banyak semoga ampunkan dosa harap ...  \n",
       "7905  tuhan sembuhkan pesakit covid tuhan lindungi k...  \n",
       "7906                               😰 deaths god mercy 😰  \n",
       "\n",
       "[7907 rows x 7 columns]"
      ]
     },
     "execution_count": 5,
     "metadata": {},
     "output_type": "execute_result"
    }
   ],
   "source": [
    "texts = pd.read_csv('3 classes/with emoji.csv')\n",
    "df = pd.DataFrame(texts)\n",
    "df"
   ]
  },
  {
   "cell_type": "code",
   "execution_count": 6,
   "metadata": {},
   "outputs": [
    {
     "name": "stdout",
     "output_type": "stream",
     "text": [
      "before cleaned:  (7907, 7)\n",
      "After:  (7905, 7)\n"
     ]
    }
   ],
   "source": [
    "# remove possible empty text cell\n",
    "print(\"before cleaned: \", df.shape)\n",
    "df['text'].replace('', np.nan, inplace=True)\n",
    "df = df.dropna()\n",
    "df = df.reset_index(drop=True)\n",
    "print(\"After: \", df.shape)"
   ]
  },
  {
   "cell_type": "code",
   "execution_count": 7,
   "metadata": {},
   "outputs": [],
   "source": [
    "df['sentiment'] = pd.Categorical(df['sentiment'])\n",
    "df['sentiment'] = df.sentiment.cat.codes"
   ]
  },
  {
   "cell_type": "code",
   "execution_count": 8,
   "metadata": {
    "scrolled": false
   },
   "outputs": [
    {
     "data": {
      "text/html": [
       "<div>\n",
       "<style scoped>\n",
       "    .dataframe tbody tr th:only-of-type {\n",
       "        vertical-align: middle;\n",
       "    }\n",
       "\n",
       "    .dataframe tbody tr th {\n",
       "        vertical-align: top;\n",
       "    }\n",
       "\n",
       "    .dataframe thead th {\n",
       "        text-align: right;\n",
       "    }\n",
       "</style>\n",
       "<table border=\"1\" class=\"dataframe\">\n",
       "  <thead>\n",
       "    <tr style=\"text-align: right;\">\n",
       "      <th></th>\n",
       "      <th>date</th>\n",
       "      <th>text</th>\n",
       "      <th>sentiment</th>\n",
       "      <th>processed</th>\n",
       "      <th>normalized</th>\n",
       "      <th>check</th>\n",
       "      <th>check_stop</th>\n",
       "    </tr>\n",
       "  </thead>\n",
       "  <tbody>\n",
       "    <tr>\n",
       "      <th>0</th>\n",
       "      <td>20210221</td>\n",
       "      <td>#dsnr salam dato.. lebih kurang 15km dari ruma...</td>\n",
       "      <td>0</td>\n",
       "      <td>salam dato lebih kurang  km dari rumah ke kila...</td>\n",
       "      <td>salam dato lebih kurang km dari rumah ke kilan...</td>\n",
       "      <td>salam dato lebih kurang kkm dari rumah ke kila...</td>\n",
       "      <td>kurang kkm rumah kilang pkp pkb pkpp tidak tur...</td>\n",
       "    </tr>\n",
       "    <tr>\n",
       "      <th>1</th>\n",
       "      <td>20210204</td>\n",
       "      <td>#noorhishamabdullah you’re not dr.fauci materi...</td>\n",
       "      <td>0</td>\n",
       "      <td>you re not dr fauci material you re just pn gr...</td>\n",
       "      <td>you re not dr fauci material you re just pun g...</td>\n",
       "      <td>you re not dr fauci material you re just pun g...</td>\n",
       "      <td>not fauci material grabmart boy</td>\n",
       "    </tr>\n",
       "    <tr>\n",
       "      <th>2</th>\n",
       "      <td>20210130</td>\n",
       "      <td>#share dan #like page #the_information_news un...</td>\n",
       "      <td>1</td>\n",
       "      <td>dan page untuk mendapatkan khabar berita yang ...</td>\n",
       "      <td>dan page untuk mendapatkan khabar berita yang ...</td>\n",
       "      <td>dan page untuk mendapatkan khabar berita yang ...</td>\n",
       "      <td>page khabar berita saudara patani selatan thai...</td>\n",
       "    </tr>\n",
       "    <tr>\n",
       "      <th>3</th>\n",
       "      <td>20210202</td>\n",
       "      <td>1 dunia sedang &amp; terus diperbodohkan dgn agend...</td>\n",
       "      <td>0</td>\n",
       "      <td>satu dunia sedang and terus diperbodohkan dgn ...</td>\n",
       "      <td>satu dunia sedang and terus diperbodohkan deng...</td>\n",
       "      <td>satu dunia sedang and terus diperbodohkan deng...</td>\n",
       "      <td>dunia diperbodohkan agenda yahudi ekonomi duni...</td>\n",
       "    </tr>\n",
       "    <tr>\n",
       "      <th>4</th>\n",
       "      <td>20210206</td>\n",
       "      <td>1 hari sy harap angka nie turun single digit m...</td>\n",
       "      <td>2</td>\n",
       "      <td>satu hari sy harap angka nie turun single digi...</td>\n",
       "      <td>satu hari sy harap angka ini turun single digi...</td>\n",
       "      <td>satu hari sy harap angka ini turun single digi...</td>\n",
       "      <td>harap angka turun single digit capai zero case...</td>\n",
       "    </tr>\n",
       "    <tr>\n",
       "      <th>...</th>\n",
       "      <td>...</td>\n",
       "      <td>...</td>\n",
       "      <td>...</td>\n",
       "      <td>...</td>\n",
       "      <td>...</td>\n",
       "      <td>...</td>\n",
       "      <td>...</td>\n",
       "    </tr>\n",
       "    <tr>\n",
       "      <th>7900</th>\n",
       "      <td>20210121</td>\n",
       "      <td>wish</td>\n",
       "      <td>2</td>\n",
       "      <td>wish</td>\n",
       "      <td>wish</td>\n",
       "      <td>wish</td>\n",
       "      <td>wish</td>\n",
       "    </tr>\n",
       "    <tr>\n",
       "      <th>7901</th>\n",
       "      <td>20210123</td>\n",
       "      <td>ya allah.. sy rasa satu pkra kita terlepas pan...</td>\n",
       "      <td>2</td>\n",
       "      <td>ya allah sy rasa satu pkra kita terlepas panda...</td>\n",
       "      <td>ya allah sy rasa satu pkra kita terlepas panda...</td>\n",
       "      <td>ya allah sy rasa satu pkra kita terlepas panda...</td>\n",
       "      <td>pkra terlepas pandang lupa solat hajat bacaan ...</td>\n",
       "    </tr>\n",
       "    <tr>\n",
       "      <th>7902</th>\n",
       "      <td>20210124</td>\n",
       "      <td>ya allah mari kita brdoa bnyk2 smoga allah amp...</td>\n",
       "      <td>2</td>\n",
       "      <td>ya allah mari kita brdoa bnyk  smoga allah amp...</td>\n",
       "      <td>ya allah mari kita brdoa banyak semoga allah a...</td>\n",
       "      <td>ya allah mari kita berdoa banyak semoga allah ...</td>\n",
       "      <td>mari berdoa banyak semoga ampunkan dosa harap ...</td>\n",
       "    </tr>\n",
       "    <tr>\n",
       "      <th>7903</th>\n",
       "      <td>20210125</td>\n",
       "      <td>yaallah ya tuhan ku sembuhkan la semua pesakit...</td>\n",
       "      <td>2</td>\n",
       "      <td>yaallah ya tuhan ku sembuhkan la semua pesakit...</td>\n",
       "      <td>yaal lah ya tuhan ku sembuhkan la semua pesaki...</td>\n",
       "      <td>yaal lah ya tuhan aku sembuhkan la semua pesak...</td>\n",
       "      <td>tuhan sembuhkan pesakit covid tuhan lindungi k...</td>\n",
       "    </tr>\n",
       "    <tr>\n",
       "      <th>7904</th>\n",
       "      <td>20210121</td>\n",
       "      <td>😰more deaths. god have mercy 😰</td>\n",
       "      <td>0</td>\n",
       "      <td>😰 more deaths god have mercy 😰</td>\n",
       "      <td>😰 more deaths god have mercy 😰</td>\n",
       "      <td>😰 more deaths god have mercy 😰</td>\n",
       "      <td>😰 deaths god mercy 😰</td>\n",
       "    </tr>\n",
       "  </tbody>\n",
       "</table>\n",
       "<p>7905 rows × 7 columns</p>\n",
       "</div>"
      ],
      "text/plain": [
       "          date                                               text  sentiment  \\\n",
       "0     20210221  #dsnr salam dato.. lebih kurang 15km dari ruma...          0   \n",
       "1     20210204  #noorhishamabdullah you’re not dr.fauci materi...          0   \n",
       "2     20210130  #share dan #like page #the_information_news un...          1   \n",
       "3     20210202  1 dunia sedang & terus diperbodohkan dgn agend...          0   \n",
       "4     20210206  1 hari sy harap angka nie turun single digit m...          2   \n",
       "...        ...                                                ...        ...   \n",
       "7900  20210121                                               wish          2   \n",
       "7901  20210123  ya allah.. sy rasa satu pkra kita terlepas pan...          2   \n",
       "7902  20210124  ya allah mari kita brdoa bnyk2 smoga allah amp...          2   \n",
       "7903  20210125  yaallah ya tuhan ku sembuhkan la semua pesakit...          2   \n",
       "7904  20210121                     😰more deaths. god have mercy 😰          0   \n",
       "\n",
       "                                              processed  \\\n",
       "0     salam dato lebih kurang  km dari rumah ke kila...   \n",
       "1     you re not dr fauci material you re just pn gr...   \n",
       "2     dan page untuk mendapatkan khabar berita yang ...   \n",
       "3     satu dunia sedang and terus diperbodohkan dgn ...   \n",
       "4     satu hari sy harap angka nie turun single digi...   \n",
       "...                                                 ...   \n",
       "7900                                               wish   \n",
       "7901  ya allah sy rasa satu pkra kita terlepas panda...   \n",
       "7902  ya allah mari kita brdoa bnyk  smoga allah amp...   \n",
       "7903  yaallah ya tuhan ku sembuhkan la semua pesakit...   \n",
       "7904                     😰 more deaths god have mercy 😰   \n",
       "\n",
       "                                             normalized  \\\n",
       "0     salam dato lebih kurang km dari rumah ke kilan...   \n",
       "1     you re not dr fauci material you re just pun g...   \n",
       "2     dan page untuk mendapatkan khabar berita yang ...   \n",
       "3     satu dunia sedang and terus diperbodohkan deng...   \n",
       "4     satu hari sy harap angka ini turun single digi...   \n",
       "...                                                 ...   \n",
       "7900                                               wish   \n",
       "7901  ya allah sy rasa satu pkra kita terlepas panda...   \n",
       "7902  ya allah mari kita brdoa banyak semoga allah a...   \n",
       "7903  yaal lah ya tuhan ku sembuhkan la semua pesaki...   \n",
       "7904                     😰 more deaths god have mercy 😰   \n",
       "\n",
       "                                                  check  \\\n",
       "0     salam dato lebih kurang kkm dari rumah ke kila...   \n",
       "1     you re not dr fauci material you re just pun g...   \n",
       "2     dan page untuk mendapatkan khabar berita yang ...   \n",
       "3     satu dunia sedang and terus diperbodohkan deng...   \n",
       "4     satu hari sy harap angka ini turun single digi...   \n",
       "...                                                 ...   \n",
       "7900                                               wish   \n",
       "7901  ya allah sy rasa satu pkra kita terlepas panda...   \n",
       "7902  ya allah mari kita berdoa banyak semoga allah ...   \n",
       "7903  yaal lah ya tuhan aku sembuhkan la semua pesak...   \n",
       "7904                     😰 more deaths god have mercy 😰   \n",
       "\n",
       "                                             check_stop  \n",
       "0     kurang kkm rumah kilang pkp pkb pkpp tidak tur...  \n",
       "1                       not fauci material grabmart boy  \n",
       "2     page khabar berita saudara patani selatan thai...  \n",
       "3     dunia diperbodohkan agenda yahudi ekonomi duni...  \n",
       "4     harap angka turun single digit capai zero case...  \n",
       "...                                                 ...  \n",
       "7900                                               wish  \n",
       "7901  pkra terlepas pandang lupa solat hajat bacaan ...  \n",
       "7902  mari berdoa banyak semoga ampunkan dosa harap ...  \n",
       "7903  tuhan sembuhkan pesakit covid tuhan lindungi k...  \n",
       "7904                               😰 deaths god mercy 😰  \n",
       "\n",
       "[7905 rows x 7 columns]"
      ]
     },
     "execution_count": 8,
     "metadata": {},
     "output_type": "execute_result"
    }
   ],
   "source": [
    "df\n",
    "# 0:negative 1:neutral 2:positive"
   ]
  },
  {
   "cell_type": "code",
   "execution_count": 9,
   "metadata": {},
   "outputs": [],
   "source": [
    "x_train, x_test, y_train, y_test = train_test_split(df['check_stop'], df['sentiment'], test_size=0.10, random_state=2012)\n",
    "x_val, x_test, y_val, y_test = train_test_split(x_test, y_test, test_size=0.75, random_state=2012)"
   ]
  },
  {
   "cell_type": "code",
   "execution_count": 10,
   "metadata": {},
   "outputs": [],
   "source": [
    "a = tf.keras.utils.to_categorical(y_train, num_classes=3)\n",
    "dataset = tf.data.Dataset.from_tensor_slices((x_train.values, a))"
   ]
  },
  {
   "cell_type": "code",
   "execution_count": 11,
   "metadata": {},
   "outputs": [],
   "source": [
    "a = tf.keras.utils.to_categorical(y_val, num_classes=3)\n",
    "dataset_val = tf.data.Dataset.from_tensor_slices((x_val.values, a))"
   ]
  },
  {
   "cell_type": "code",
   "execution_count": 12,
   "metadata": {},
   "outputs": [],
   "source": [
    "a = tf.keras.utils.to_categorical(y_test, num_classes=3)\n",
    "dataset_test = tf.data.Dataset.from_tensor_slices((x_test.values, a))"
   ]
  },
  {
   "cell_type": "code",
   "execution_count": 13,
   "metadata": {},
   "outputs": [],
   "source": [
    "BUFFER_SIZE = 10000\n",
    "BATCH_SIZE = 64"
   ]
  },
  {
   "cell_type": "code",
   "execution_count": 14,
   "metadata": {},
   "outputs": [],
   "source": [
    "train_ds_size = int(x_train.shape[0])\n",
    "val_ds_size = int(x_val.shape[0])\n",
    "test_ds_size = int(x_test.shape[0])\n",
    "\n",
    "train_data = dataset.take(train_ds_size)\n",
    "val_data = dataset_val.take(val_ds_size)\n",
    "test_data = dataset_test.take(test_ds_size)"
   ]
  },
  {
   "cell_type": "code",
   "execution_count": 15,
   "metadata": {},
   "outputs": [
    {
     "name": "stdout",
     "output_type": "stream",
     "text": [
      "7114\n",
      "197\n",
      "594\n"
     ]
    }
   ],
   "source": [
    "print(len(list(train_data.as_numpy_iterator())))\n",
    "print(len(list(val_data.as_numpy_iterator())))\n",
    "print(len(list(test_data.as_numpy_iterator())))"
   ]
  },
  {
   "cell_type": "code",
   "execution_count": 16,
   "metadata": {},
   "outputs": [],
   "source": [
    "#all_dataset = dataset.shuffle(BUFFER_SIZE).batch(BATCH_SIZE).prefetch(tf.data.AUTOTUNE)\n",
    "train_dataset = train_data.shuffle(BUFFER_SIZE).batch(BATCH_SIZE).prefetch(tf.data.AUTOTUNE)\n",
    "val_dataset = val_data.shuffle(BUFFER_SIZE).batch(BATCH_SIZE).prefetch(tf.data.AUTOTUNE)\n",
    "test_dataset = test_data.shuffle(BUFFER_SIZE).batch(BATCH_SIZE).prefetch(tf.data.AUTOTUNE)"
   ]
  },
  {
   "cell_type": "code",
   "execution_count": 17,
   "metadata": {},
   "outputs": [
    {
     "name": "stdout",
     "output_type": "stream",
     "text": [
      "texts:  [b'jadi pkp lockdown kwsp luluskan pegeluaran ringgit tanpa syarat'\n",
      " b'syukur menurun jaga sop jaga'\n",
      " b'alhamdulillah ramai sembuh tapi kes kematian tinggi setakat']\n",
      "\n",
      "labels:  [[0. 1. 0.]\n",
      " [0. 0. 1.]\n",
      " [1. 0. 0.]]\n"
     ]
    }
   ],
   "source": [
    "for example, label in val_dataset.take(1):\n",
    "    print('texts: ', example.numpy()[:3])\n",
    "    print()\n",
    "    print('labels: ', label.numpy()[:3])"
   ]
  },
  {
   "cell_type": "code",
   "execution_count": 18,
   "metadata": {},
   "outputs": [
    {
     "name": "stdout",
     "output_type": "stream",
     "text": [
      "texts:  [b'jangan salahkan kerajaan pm sebalik salah rakyat malaysia berbuihh kerajaan duduk suruh jaga sop tpp pantang pluang redah masa tak bolah rentas negeri sstngah mengelupurr bila sampai tak sempadan redah selagi bolah pantang viral penuh pakat bawa sekluarga'\n",
      " b'kurang swap test turun kes'\n",
      " b'pkp ikut nampk kedai buka kul keluar ikut pkp tidak lokdown baru takut']\n",
      "\n",
      "labels:  [[1. 0. 0.]\n",
      " [1. 0. 0.]\n",
      " [1. 0. 0.]]\n"
     ]
    }
   ],
   "source": [
    "for example, label in test_dataset.take(1):\n",
    "    print('texts: ', example.numpy()[:3])\n",
    "    print()\n",
    "    print('labels: ', label.numpy()[:3])"
   ]
  },
  {
   "cell_type": "markdown",
   "metadata": {},
   "source": [
    "### Create Text Encoder"
   ]
  },
  {
   "cell_type": "code",
   "execution_count": 19,
   "metadata": {},
   "outputs": [],
   "source": [
    "VOCAB_SIZE=10155\n",
    "encoder = tf.keras.layers.experimental.preprocessing.TextVectorization(max_tokens=VOCAB_SIZE)\n",
    "encoder.adapt(train_dataset.map(lambda text, label: text))"
   ]
  },
  {
   "cell_type": "code",
   "execution_count": 20,
   "metadata": {
    "scrolled": true
   },
   "outputs": [
    {
     "data": {
      "text/plain": [
       "10155"
      ]
     },
     "execution_count": 20,
     "metadata": {},
     "output_type": "execute_result"
    }
   ],
   "source": [
    "len(encoder.get_vocabulary())"
   ]
  },
  {
   "cell_type": "markdown",
   "metadata": {},
   "source": [
    "The .adapt method sets the layer's vocabulary. Here are the first 20 tokens. After the padding and unknown tokens they're sorted by frequency:"
   ]
  },
  {
   "cell_type": "code",
   "execution_count": 21,
   "metadata": {
    "scrolled": true
   },
   "outputs": [
    {
     "data": {
      "text/plain": [
       "array(['', '[UNK]', 'kes', 'tidak', 'pkp', 'covid', 'boleh', 'tak',\n",
       "       'turun', 'alhamdulillah', 'rakyat', 'tapi', 'sop', 'negeri',\n",
       "       'baru', 'kena', 'semoga', 'jangan', 'bila', 'banyak'], dtype='<U32')"
      ]
     },
     "execution_count": 21,
     "metadata": {},
     "output_type": "execute_result"
    }
   ],
   "source": [
    "vocab = np.array(encoder.get_vocabulary())\n",
    "vocab[:20]"
   ]
  },
  {
   "cell_type": "markdown",
   "metadata": {},
   "source": [
    "Once the vocabulary is set, the layer can encode text into indices. The tensors of indices are 0-padded to the longest sequence in the batch (unless you set a fixed output_sequence_length):"
   ]
  },
  {
   "cell_type": "code",
   "execution_count": 22,
   "metadata": {},
   "outputs": [
    {
     "data": {
      "text/plain": [
       "array([[  17,  144,   24,  319, 1554,   90,   10,   22,    1,   24,   35,\n",
       "         132,   36,   12, 5705, 4224,    1,    1,   59,    7, 5013,   25,\n",
       "          13,    1,    1,   18,   31,    7,  303,    1,  111, 5013, 4224,\n",
       "        5481,  200,  475,  100,    1,    0,    0,    0,    0,    0,    0,\n",
       "           0,    0,    0,    0,    0,    0],\n",
       "       [  60,  591,   89,    8,    2,    0,    0,    0,    0,    0,    0,\n",
       "           0,    0,    0,    0,    0,    0,    0,    0,    0,    0,    0,\n",
       "           0,    0,    0,    0,    0,    0,    0,    0,    0,    0,    0,\n",
       "           0,    0,    0,    0,    0,    0,    0,    0,    0,    0,    0,\n",
       "           0,    0,    0,    0,    0,    0],\n",
       "       [   4,   56, 7744,   78,   23, 4502,   50,   56,    4,    3,    1,\n",
       "          14,  109,    0,    0,    0,    0,    0,    0,    0,    0,    0,\n",
       "           0,    0,    0,    0,    0,    0,    0,    0,    0,    0,    0,\n",
       "           0,    0,    0,    0,    0,    0,    0,    0,    0,    0,    0,\n",
       "           0,    0,    0,    0,    0,    0]], dtype=int64)"
      ]
     },
     "execution_count": 22,
     "metadata": {},
     "output_type": "execute_result"
    }
   ],
   "source": [
    "encoded_example = encoder(example)[:3].numpy()\n",
    "encoded_example"
   ]
  },
  {
   "cell_type": "markdown",
   "metadata": {},
   "source": [
    "With the default settings, the process is not completely reversible. There are three main reasons for that:\n",
    "\n",
    "1. The default value for preprocessing.TextVectorization's standardize argument is \"lower_and_strip_punctuation\".\n",
    "2. The limited vocabulary size and lack of character-based fallback results in some unknown tokens."
   ]
  },
  {
   "cell_type": "code",
   "execution_count": 23,
   "metadata": {},
   "outputs": [
    {
     "name": "stdout",
     "output_type": "stream",
     "text": [
      "Original:  b'jangan salahkan kerajaan pm sebalik salah rakyat malaysia berbuihh kerajaan duduk suruh jaga sop tpp pantang pluang redah masa tak bolah rentas negeri sstngah mengelupurr bila sampai tak sempadan redah selagi bolah pantang viral penuh pakat bawa sekluarga'\n",
      "Round-trip:  jangan salahkan kerajaan pm sebalik salah rakyat malaysia [UNK] kerajaan duduk suruh jaga sop tpp pantang [UNK] [UNK] masa tak bolah rentas negeri [UNK] [UNK] bila sampai tak sempadan [UNK] selagi bolah pantang viral penuh pakat bawa [UNK]            \n",
      "\n",
      "Original:  b'kurang swap test turun kes'\n",
      "Round-trip:  kurang swap test turun kes                                             \n",
      "\n",
      "Original:  b'pkp ikut nampk kedai buka kul keluar ikut pkp tidak lokdown baru takut'\n",
      "Round-trip:  pkp ikut nampk kedai buka kul keluar ikut pkp tidak [UNK] baru takut                                     \n",
      "\n"
     ]
    }
   ],
   "source": [
    "for n in range(3):\n",
    "    print(\"Original: \", example[n].numpy())\n",
    "    print(\"Round-trip: \", \" \".join(vocab[encoded_example[n]]))\n",
    "    print()"
   ]
  },
  {
   "cell_type": "markdown",
   "metadata": {},
   "source": [
    "1. This model can be build as a tf.keras.Sequential.\n",
    "\n",
    "2. The **first layer** is the *encoder*, which converts the text to a sequence of token indices.\n",
    "\n",
    "3. After the encoder is an **embedding layer**. An embedding layer stores one vector per word. When called, it converts the sequences of word indices to sequences of vectors. These vectors are trainable. After training (on enough data), words with similar meanings often have similar vectors.\n",
    "\n",
    "4. This index-lookup is much more efficient than the equivalent operation of passing a one-hot encoded vector through a tf.keras.layers.Dense layer.\n",
    "\n",
    "5. A **recurrent neural network (RNN)** processes sequence input by iterating through the elements. RNNs pass the outputs from one timestep to their input on the next timestep.\n",
    "\n",
    "6. The **tf.keras.layers.Bidirectional** wrapper can also be used with an RNN layer. This propagates the input *forward and backwards* through the RNN layer and then *concatenates the final output*.\n",
    "\n",
    "- The main advantage to a bidirectional RNN is that the signal from the beginning of the input doesn't need to be processed all the way through every timestep to affect the output.\n",
    "\n",
    "- The main disadvantage of a bidirectional RNN is that you can't efficiently stream predictions as words are being added to the end.\n",
    "\n",
    "7. After the RNN has converted the sequence to a single vector the two layers.Dense do some final processing, and *convert from this vector representation to a single logit* as the classification output.\n"
   ]
  },
  {
   "cell_type": "markdown",
   "metadata": {},
   "source": [
    "<img src=\"bidirectional.png\">"
   ]
  },
  {
   "cell_type": "code",
   "execution_count": 24,
   "metadata": {},
   "outputs": [],
   "source": [
    "model = tf.keras.Sequential([\n",
    "    encoder,\n",
    "    tf.keras.layers.Embedding(\n",
    "        input_dim=len(encoder.get_vocabulary()),\n",
    "        output_dim=64,\n",
    "        #embeddings_regularizer = tf.keras.regularizers.L2(0.01),\n",
    "        # Use masking to handle the variable sequence lengths\n",
    "        mask_zero=True),\n",
    "    tf.keras.layers.Bidirectional(tf.keras.layers.LSTM(64)),\n",
    "    tf.keras.layers.Dense(64, activation='softmax'),\n",
    "    tf.keras.layers.Dense(3)\n",
    "])"
   ]
  },
  {
   "cell_type": "markdown",
   "metadata": {},
   "source": [
    "Please note that Keras sequential model is used here since all the layers in the model only have single input and produce single output. In case you want to use stateful RNN layer, you might want to build your model with Keras functional API or model subclassing so that you can retrieve and reuse the RNN layer states. Please check Keras RNN guide for more details.\n",
    "\n",
    "The embedding layer uses masking to handle the varying sequence-lengths. All the layers after the Embedding support masking:\n"
   ]
  },
  {
   "cell_type": "markdown",
   "metadata": {},
   "source": [
    "The embedding layer uses masking to handle the varying sequence-lengths. All the layers after the Embedding support masking:"
   ]
  },
  {
   "cell_type": "code",
   "execution_count": 25,
   "metadata": {
    "scrolled": false
   },
   "outputs": [
    {
     "name": "stdout",
     "output_type": "stream",
     "text": [
      "[False, True, True, True, True]\n"
     ]
    }
   ],
   "source": [
    "print([layer.supports_masking for layer in model.layers])"
   ]
  },
  {
   "cell_type": "markdown",
   "metadata": {},
   "source": [
    "To confirm that this works as expected, evaluate a sentence twice. First, alone so there's no padding to mask:"
   ]
  },
  {
   "cell_type": "code",
   "execution_count": 26,
   "metadata": {
    "scrolled": true
   },
   "outputs": [
    {
     "name": "stdout",
     "output_type": "stream",
     "text": [
      "[-0.01339152  0.00278233  0.00684387]\n"
     ]
    }
   ],
   "source": [
    "# predict on a sample text without padding.\n",
    "\n",
    "sample_text = ('alhamdulillah kes aktif menurun')\n",
    "predictions = model.predict(np.array([sample_text]))\n",
    "print(predictions[0])"
   ]
  },
  {
   "cell_type": "markdown",
   "metadata": {},
   "source": [
    "reference: [class 0 (**negative**), class 1 (**neutral**), class 2 (**positive**)]"
   ]
  },
  {
   "cell_type": "markdown",
   "metadata": {},
   "source": [
    "Now, evaluate it again in a batch with a longer sentence. The result should be identical:\n",
    "\n"
   ]
  },
  {
   "cell_type": "code",
   "execution_count": 27,
   "metadata": {},
   "outputs": [
    {
     "name": "stdout",
     "output_type": "stream",
     "text": [
      "[-0.01339152  0.00278233  0.00684387]\n"
     ]
    }
   ],
   "source": [
    "# predict on a sample text with padding\n",
    "\n",
    "padding = \"the \" * 2000\n",
    "predictions = model.predict(np.array([sample_text, padding]))\n",
    "print(predictions[0])"
   ]
  },
  {
   "cell_type": "markdown",
   "metadata": {},
   "source": [
    "Compile the Keras model to configure the training process:"
   ]
  },
  {
   "cell_type": "code",
   "execution_count": 28,
   "metadata": {},
   "outputs": [],
   "source": [
    "model.compile(loss=tf.keras.losses.CategoricalCrossentropy(from_logits=True),\n",
    "              optimizer=tf.keras.optimizers.Adam(0.001),\n",
    "              metrics=['accuracy',\n",
    "                        tfa.metrics.F1Score(num_classes= 3, name = 'micro_f1_score', average='micro'),\n",
    "                        tfa.metrics.F1Score(num_classes= 3, name = 'macro_f1_score', average='macro')])"
   ]
  },
  {
   "cell_type": "code",
   "execution_count": 29,
   "metadata": {
    "scrolled": true
   },
   "outputs": [],
   "source": [
    "metric = 'val_macro_f1_score'\n",
    "reduce_lr = tf.keras.callbacks.ReduceLROnPlateau(monitor= metric,\n",
    "                                                 factor= 0.1,\n",
    "                                                 patience= 20,\n",
    "                                                 verbose= 1,\n",
    "                                                 min_lr= 0.00001)\n",
    "\n",
    "#file_path = \"cnn_weights.{epoch:02d}-{val_loss:.2f}.hdf5\"\n",
    "checkpoint_path = \"training_1/one_layer_lstm_emoji.ckpt\"\n",
    "checkpoint_dir = os.path.dirname(checkpoint_path)\n",
    "#model_chkpt = callbacks.ModelCheckpoint(filepath=file_path,monitor= metric, save_best_only=True)\n",
    "model_chkpt = tf.keras.callbacks.ModelCheckpoint(filepath=checkpoint_path, \n",
    "                                                 monitor=metric, \n",
    "                                                 save_weights_only=True,\n",
    "                                                 verbose=1, save_best_only=True, mode='max')\n",
    "early_stopping_callback = tf.keras.callbacks.EarlyStopping(monitor = metric, patience = 30)"
   ]
  },
  {
   "cell_type": "markdown",
   "metadata": {},
   "source": [
    "### Train the Model"
   ]
  },
  {
   "cell_type": "code",
   "execution_count": 30,
   "metadata": {
    "scrolled": true
   },
   "outputs": [
    {
     "name": "stdout",
     "output_type": "stream",
     "text": [
      "Epoch 1/100\n",
      "112/112 [==============================] - 61s 306ms/step - loss: 1.0531 - accuracy: 0.5118 - micro_f1_score: 0.5118 - macro_f1_score: 0.2820 - val_loss: 0.9936 - val_accuracy: 0.5990 - val_micro_f1_score: 0.5990 - val_macro_f1_score: 0.4495\n",
      "\n",
      "Epoch 00001: val_macro_f1_score improved from -inf to 0.44946, saving model to training_1\\one_layer_lstm_emoji.ckpt\n",
      "Epoch 2/100\n",
      "112/112 [==============================] - 20s 182ms/step - loss: 0.8715 - accuracy: 0.7274 - micro_f1_score: 0.7274 - macro_f1_score: 0.5204 - val_loss: 0.9261 - val_accuracy: 0.6041 - val_micro_f1_score: 0.6041 - val_macro_f1_score: 0.4522\n",
      "\n",
      "Epoch 00002: val_macro_f1_score improved from 0.44946 to 0.45222, saving model to training_1\\one_layer_lstm_emoji.ckpt\n",
      "Epoch 3/100\n",
      "112/112 [==============================] - 22s 199ms/step - loss: 0.7703 - accuracy: 0.7516 - micro_f1_score: 0.7516 - macro_f1_score: 0.5452 - val_loss: 0.9127 - val_accuracy: 0.6244 - val_micro_f1_score: 0.6244 - val_macro_f1_score: 0.4700o_f1_score:\n",
      "\n",
      "Epoch 00003: val_macro_f1_score improved from 0.45222 to 0.47004, saving model to training_1\\one_layer_lstm_emoji.ckpt\n",
      "Epoch 4/100\n",
      "112/112 [==============================] - 21s 190ms/step - loss: 0.7210 - accuracy: 0.7527 - micro_f1_score: 0.7527 - macro_f1_score: 0.5484 - val_loss: 0.8613 - val_accuracy: 0.6396 - val_micro_f1_score: 0.6396 - val_macro_f1_score: 0.4850\n",
      "\n",
      "Epoch 00004: val_macro_f1_score improved from 0.47004 to 0.48503, saving model to training_1\\one_layer_lstm_emoji.ckpt\n",
      "Epoch 5/100\n",
      "112/112 [==============================] - 20s 182ms/step - loss: 0.6693 - accuracy: 0.7663 - micro_f1_score: 0.7663 - macro_f1_score: 0.5722 - val_loss: 0.8190 - val_accuracy: 0.6650 - val_micro_f1_score: 0.6650 - val_macro_f1_score: 0.5051\n",
      "\n",
      "Epoch 00005: val_macro_f1_score improved from 0.48503 to 0.50509, saving model to training_1\\one_layer_lstm_emoji.ckpt\n",
      "Epoch 6/100\n",
      "112/112 [==============================] - 19s 166ms/step - loss: 0.5953 - accuracy: 0.8124 - micro_f1_score: 0.8124 - macro_f1_score: 0.6580 - val_loss: 0.7717 - val_accuracy: 0.6853 - val_micro_f1_score: 0.6853 - val_macro_f1_score: 0.5884\n",
      "\n",
      "Epoch 00006: val_macro_f1_score improved from 0.50509 to 0.58840, saving model to training_1\\one_layer_lstm_emoji.ckpt\n",
      "Epoch 7/100\n",
      "112/112 [==============================] - 18s 158ms/step - loss: 0.5356 - accuracy: 0.8625 - micro_f1_score: 0.8625 - macro_f1_score: 0.7953 - val_loss: 0.7928 - val_accuracy: 0.7005 - val_micro_f1_score: 0.7005 - val_macro_f1_score: 0.6312\n",
      "\n",
      "Epoch 00007: val_macro_f1_score improved from 0.58840 to 0.63120, saving model to training_1\\one_layer_lstm_emoji.ckpt\n",
      "Epoch 8/100\n",
      "112/112 [==============================] - 20s 176ms/step - loss: 0.4722 - accuracy: 0.8832 - micro_f1_score: 0.8832 - macro_f1_score: 0.8336 - val_loss: 0.8420 - val_accuracy: 0.6650 - val_micro_f1_score: 0.6650 - val_macro_f1_score: 0.6017\n",
      "\n",
      "Epoch 00008: val_macro_f1_score did not improve from 0.63120\n",
      "Epoch 9/100\n",
      "112/112 [==============================] - 24s 216ms/step - loss: 0.4217 - accuracy: 0.8954 - micro_f1_score: 0.8954 - macro_f1_score: 0.8564 - val_loss: 0.8526 - val_accuracy: 0.6751 - val_micro_f1_score: 0.6751 - val_macro_f1_score: 0.6104\n",
      "\n",
      "Epoch 00009: val_macro_f1_score did not improve from 0.63120\n",
      "Epoch 10/100\n",
      "112/112 [==============================] - 22s 195ms/step - loss: 0.3759 - accuracy: 0.9071 - micro_f1_score: 0.9071 - macro_f1_score: 0.8708 - val_loss: 0.8643 - val_accuracy: 0.6650 - val_micro_f1_score: 0.6650 - val_macro_f1_score: 0.6053\n",
      "\n",
      "Epoch 00010: val_macro_f1_score did not improve from 0.63120\n",
      "Epoch 11/100\n",
      "112/112 [==============================] - 18s 163ms/step - loss: 0.3322 - accuracy: 0.9232 - micro_f1_score: 0.9232 - macro_f1_score: 0.8971 - val_loss: 0.7992 - val_accuracy: 0.7005 - val_micro_f1_score: 0.7005 - val_macro_f1_score: 0.6534\n",
      "\n",
      "Epoch 00011: ReduceLROnPlateau reducing learning rate to 0.00010000000474974513.\n",
      "\n",
      "Epoch 00011: val_macro_f1_score improved from 0.63120 to 0.65343, saving model to training_1\\one_layer_lstm_emoji.ckpt\n",
      "Epoch 12/100\n",
      "112/112 [==============================] - 17s 155ms/step - loss: 0.3001 - accuracy: 0.9341 - micro_f1_score: 0.9341 - macro_f1_score: 0.9137 - val_loss: 0.8072 - val_accuracy: 0.7056 - val_micro_f1_score: 0.7056 - val_macro_f1_score: 0.6660\n",
      "\n",
      "Epoch 00012: val_macro_f1_score improved from 0.65343 to 0.66601, saving model to training_1\\one_layer_lstm_emoji.ckpt\n",
      "Epoch 13/100\n",
      "112/112 [==============================] - 17s 154ms/step - loss: 0.2879 - accuracy: 0.9367 - micro_f1_score: 0.9367 - macro_f1_score: 0.9181 - val_loss: 0.8238 - val_accuracy: 0.7005 - val_micro_f1_score: 0.7005 - val_macro_f1_score: 0.6648\n",
      "\n",
      "Epoch 00013: val_macro_f1_score did not improve from 0.66601\n",
      "Epoch 14/100\n",
      "112/112 [==============================] - 16s 147ms/step - loss: 0.2842 - accuracy: 0.9410 - micro_f1_score: 0.9410 - macro_f1_score: 0.9213 - val_loss: 0.8283 - val_accuracy: 0.7005 - val_micro_f1_score: 0.7005 - val_macro_f1_score: 0.6648\n",
      "\n",
      "Epoch 00014: val_macro_f1_score did not improve from 0.66601\n",
      "Epoch 15/100\n",
      "112/112 [==============================] - 17s 150ms/step - loss: 0.2771 - accuracy: 0.9423 - micro_f1_score: 0.9423 - macro_f1_score: 0.9251 - val_loss: 0.8365 - val_accuracy: 0.7005 - val_micro_f1_score: 0.7005 - val_macro_f1_score: 0.6614\n",
      "\n",
      "Epoch 00015: val_macro_f1_score did not improve from 0.66601\n",
      "Epoch 16/100\n",
      "112/112 [==============================] - 17s 155ms/step - loss: 0.2767 - accuracy: 0.9405 - micro_f1_score: 0.9405 - macro_f1_score: 0.9213 - val_loss: 0.8417 - val_accuracy: 0.6954 - val_micro_f1_score: 0.6954 - val_macro_f1_score: 0.6610\n",
      "\n",
      "Epoch 00016: val_macro_f1_score did not improve from 0.66601\n"
     ]
    }
   ],
   "source": [
    "history = model.fit(train_dataset, epochs=100,\n",
    "                    validation_data=val_dataset,\n",
    "                    shuffle=True,\n",
    "                    batch_size=32,\n",
    "                    callbacks = [early_stopping_callback, reduce_lr, model_chkpt])"
   ]
  },
  {
   "cell_type": "code",
   "execution_count": 31,
   "metadata": {
    "scrolled": true
   },
   "outputs": [
    {
     "data": {
      "text/plain": [
       "(0.0, 1.0457487016916276)"
      ]
     },
     "execution_count": 31,
     "metadata": {},
     "output_type": "execute_result"
    },
    {
     "data": {
      "image/png": "[encoded data removed]",
      "text/plain": [
       "<Figure size 1152x576 with 2 Axes>"
      ]
     },
     "metadata": {
      "needs_background": "light"
     },
     "output_type": "display_data"
    }
   ],
   "source": [
    "plt.figure(figsize=(16,8))\n",
    "plt.subplot(1,2,1)\n",
    "plot_graphs(history, 'accuracy')\n",
    "plt.ylim(None,1)\n",
    "plt.subplot(1,2,2)\n",
    "plot_graphs(history, 'loss')\n",
    "plt.ylim(0,None)"
   ]
  },
  {
   "cell_type": "code",
   "execution_count": 32,
   "metadata": {
    "scrolled": true
   },
   "outputs": [
    {
     "data": {
      "text/plain": [
       "(0.0, 0.9562917247414588)"
      ]
     },
     "execution_count": 32,
     "metadata": {},
     "output_type": "execute_result"
    },
    {
     "data": {
      "image/png": "[encoded data removed]",
      "text/plain": [
       "<Figure size 1152x576 with 2 Axes>"
      ]
     },
     "metadata": {
      "needs_background": "light"
     },
     "output_type": "display_data"
    }
   ],
   "source": [
    "plt.figure(figsize=(16,8))\n",
    "plt.subplot(1,2,1)\n",
    "plot_graphs(history, 'micro_f1_score')\n",
    "plt.ylim(None,1)\n",
    "plt.subplot(1,2,2)\n",
    "plot_graphs(history, 'macro_f1_score')\n",
    "plt.ylim(0,None)"
   ]
  },
  {
   "cell_type": "code",
   "execution_count": 33,
   "metadata": {},
   "outputs": [
    {
     "name": "stdout",
     "output_type": "stream",
     "text": [
      "10/10 - 0s - loss: 0.7037 - accuracy: 0.7391 - micro_f1_score: 0.7391 - macro_f1_score: 0.6760\n",
      "lss: 0.7037\n",
      "acc: 0.7391\n",
      "micro f1: 0.7391\n",
      "macro f1: 0.6760\n"
     ]
    }
   ],
   "source": [
    "loss,acc,micro_f1,macro_f1 = model.evaluate(test_dataset, verbose = 2, batch_size = 32)\n",
    "print(\"lss: %.4f\" % (loss))\n",
    "print(\"acc: %.4f\" % (acc))\n",
    "print(\"micro f1: %.4f\" % (micro_f1))\n",
    "print(\"macro f1: %.4f\" % (macro_f1))"
   ]
  },
  {
   "cell_type": "code",
   "execution_count": 34,
   "metadata": {
    "scrolled": true
   },
   "outputs": [
    {
     "data": {
      "text/plain": [
       "<tensorflow.python.training.tracking.util.CheckpointLoadStatus at 0x26091ffe340>"
      ]
     },
     "execution_count": 34,
     "metadata": {},
     "output_type": "execute_result"
    }
   ],
   "source": [
    "model.load_weights(checkpoint_path)"
   ]
  },
  {
   "cell_type": "code",
   "execution_count": 35,
   "metadata": {
    "scrolled": false
   },
   "outputs": [
    {
     "name": "stdout",
     "output_type": "stream",
     "text": [
      "10/10 - 0s - loss: 0.6863 - accuracy: 0.7525 - micro_f1_score: 0.7525 - macro_f1_score: 0.6836\n",
      "lss: 0.6863\n",
      "acc: 0.7525\n",
      "micro f1: 0.7525\n",
      "macro f1: 0.6836\n"
     ]
    }
   ],
   "source": [
    "loss,acc,micro_f1,macro_f1 = model.evaluate(test_dataset, verbose = 2, batch_size = 32)\n",
    "print(\"lss: %.4f\" % (loss))\n",
    "print(\"acc: %.4f\" % (acc))\n",
    "print(\"micro f1: %.4f\" % (micro_f1))\n",
    "print(\"macro f1: %.4f\" % (macro_f1))"
   ]
  },
  {
   "cell_type": "markdown",
   "metadata": {},
   "source": [
    "## Basic LSTM"
   ]
  },
  {
   "cell_type": "code",
   "execution_count": null,
   "metadata": {},
   "outputs": [],
   "source": [
    "model = tf.keras.Sequential([\n",
    "    encoder,\n",
    "    tf.keras.layers.Embedding(\n",
    "        input_dim=len(encoder.get_vocabulary()),\n",
    "        output_dim=64,\n",
    "        #embeddings_regularizer = tf.keras.regularizers.L2(0.01),\n",
    "        # Use masking to handle the variable sequence lengths\n",
    "        mask_zero=True),\n",
    "    tf.keras.layers.LSTM(64),\n",
    "    tf.keras.layers.Dense(64, activation='softmax'),\n",
    "    tf.keras.layers.Dense(3)\n",
    "])"
   ]
  },
  {
   "cell_type": "code",
   "execution_count": null,
   "metadata": {},
   "outputs": [],
   "source": [
    "model.compile(loss=tf.keras.losses.CategoricalCrossentropy(from_logits=True),\n",
    "              optimizer=tf.keras.optimizers.Adam(0.001),\n",
    "              metrics=['accuracy',\n",
    "                        tfa.metrics.F1Score(num_classes= 3, name = 'micro_f1_score', average='micro'),\n",
    "                        tfa.metrics.F1Score(num_classes= 3, name = 'macro_f1_score', average='macro')])"
   ]
  },
  {
   "cell_type": "code",
   "execution_count": null,
   "metadata": {},
   "outputs": [],
   "source": []
  },
  {
   "cell_type": "code",
   "execution_count": null,
   "metadata": {},
   "outputs": [],
   "source": []
  },
  {
   "cell_type": "markdown",
   "metadata": {},
   "source": [
    "### Stack two or more LSTM layers\n",
    "\n",
    "Keras recurrent layers have two available modes that are controlled by the return_sequences constructor argument:\n",
    "\n",
    "- If False it returns only the last output for each input sequence (a 2D tensor of shape (batch_size, output_features)). This is the default, used in the previous model.\n",
    "\n",
    "- If True the full sequences of successive outputs for each timestep is returned (a 3D tensor of shape (batch_size, timesteps, output_features)).\n",
    "\n",
    "Here is what the flow of information looks like with return_sequences=True:\n"
   ]
  },
  {
   "cell_type": "markdown",
   "metadata": {},
   "source": [
    "<img src=\"image/layered_bidirectional.png\">\n",
    "\n",
    "The interesting thing about using an RNN with return_sequences=True is that the output still has 3-axes, like the input, so it can be passed to another RNN layer, like this:"
   ]
  },
  {
   "cell_type": "code",
   "execution_count": 36,
   "metadata": {},
   "outputs": [],
   "source": [
    "model = tf.keras.Sequential([\n",
    "    encoder,\n",
    "    tf.keras.layers.Embedding(len(encoder.get_vocabulary()), 64, mask_zero=True),\n",
    "    tf.keras.layers.Bidirectional(tf.keras.layers.LSTM(64,  return_sequences=True)),\n",
    "    tf.keras.layers.Bidirectional(tf.keras.layers.LSTM(32)),\n",
    "    tf.keras.layers.Dense(64, activation='relu'),\n",
    "    tf.keras.layers.Dropout(0.5),\n",
    "    tf.keras.layers.Dense(3)\n",
    "])"
   ]
  },
  {
   "cell_type": "code",
   "execution_count": 37,
   "metadata": {},
   "outputs": [],
   "source": [
    "model.compile(loss=tf.keras.losses.CategoricalCrossentropy(from_logits=True),\n",
    "              optimizer=tf.keras.optimizers.Adam(0.001),\n",
    "              metrics=['accuracy',\n",
    "                        tfa.metrics.F1Score(num_classes= 3, name = 'micro_f1_score', average='micro'),\n",
    "                        tfa.metrics.F1Score(num_classes= 3, name = 'macro_f1_score', average='macro')])"
   ]
  },
  {
   "cell_type": "code",
   "execution_count": 38,
   "metadata": {},
   "outputs": [],
   "source": [
    "metric = 'val_macro_f1_score'\n",
    "reduce_lr = tf.keras.callbacks.ReduceLROnPlateau(monitor= metric,\n",
    "                                                 factor= 0.1,\n",
    "                                                 patience= 20,\n",
    "                                                 verbose= 1,\n",
    "                                                 min_lr= 0.00001)\n",
    "\n",
    "#file_path = \"cnn_weights.{epoch:02d}-{val_loss:.2f}.hdf5\"\n",
    "checkpoint_path = \"training_1/one_layer_lstm_emoji.ckpt\"\n",
    "checkpoint_dir = os.path.dirname(checkpoint_path)\n",
    "#model_chkpt = callbacks.ModelCheckpoint(filepath=file_path,monitor= metric, save_best_only=True)\n",
    "model_chkpt = tf.keras.callbacks.ModelCheckpoint(filepath=checkpoint_path, \n",
    "                                                 monitor=metric, \n",
    "                                                 save_weights_only=True,\n",
    "                                                 verbose=1, save_best_only=True, mode='max')\n",
    "early_stopping_callback = tf.keras.callbacks.EarlyStopping(monitor = metric, patience = 30)"
   ]
  },
  {
   "cell_type": "markdown",
   "metadata": {},
   "source": [
    "acc metric increases, while your val_acc metric decreases. This means that your model is fitting the training set better, but is losing it's ability to predict on new data, indicating that your model is starting to fit on noise and is beginning to overfit."
   ]
  },
  {
   "cell_type": "code",
   "execution_count": 39,
   "metadata": {
    "scrolled": true
   },
   "outputs": [
    {
     "name": "stdout",
     "output_type": "stream",
     "text": [
      "Epoch 1/100\n",
      "112/112 [==============================] - 100s 422ms/step - loss: 0.9329 - accuracy: 0.5926 - micro_f1_score: 0.5926 - macro_f1_score: 0.3730 - val_loss: 0.7578 - val_accuracy: 0.6650 - val_micro_f1_score: 0.6650 - val_macro_f1_score: 0.5061\n",
      "\n",
      "Epoch 00001: val_macro_f1_score improved from -inf to 0.50609, saving model to training_1\\one_layer_lstm_emoji.ckpt\n",
      "Epoch 2/100\n",
      "112/112 [==============================] - 34s 306ms/step - loss: 0.5193 - accuracy: 0.7916 - micro_f1_score: 0.7916 - macro_f1_score: 0.6636 - val_loss: 0.6942 - val_accuracy: 0.7005 - val_micro_f1_score: 0.7005 - val_macro_f1_score: 0.6297\n",
      "\n",
      "Epoch 00002: val_macro_f1_score improved from 0.50609 to 0.62972, saving model to training_1\\one_layer_lstm_emoji.ckpt\n",
      "Epoch 3/100\n",
      "112/112 [==============================] - 40s 359ms/step - loss: 0.3369 - accuracy: 0.8843 - micro_f1_score: 0.8843 - macro_f1_score: 0.8454 - val_loss: 0.7801 - val_accuracy: 0.7005 - val_micro_f1_score: 0.7005 - val_macro_f1_score: 0.6535\n",
      "\n",
      "Epoch 00003: val_macro_f1_score improved from 0.62972 to 0.65354, saving model to training_1\\one_layer_lstm_emoji.ckpt\n",
      "Epoch 4/100\n",
      "112/112 [==============================] - 41s 369ms/step - loss: 0.2309 - accuracy: 0.9245 - micro_f1_score: 0.9245 - macro_f1_score: 0.9045 - val_loss: 0.9474 - val_accuracy: 0.7107 - val_micro_f1_score: 0.7107 - val_macro_f1_score: 0.6702\n",
      "\n",
      "Epoch 00004: val_macro_f1_score improved from 0.65354 to 0.67016, saving model to training_1\\one_layer_lstm_emoji.ckpt\n",
      "Epoch 5/100\n",
      "112/112 [==============================] - 40s 357ms/step - loss: 0.1538 - accuracy: 0.9528 - micro_f1_score: 0.9528 - macro_f1_score: 0.9404 - val_loss: 1.1387 - val_accuracy: 0.7107 - val_micro_f1_score: 0.7107 - val_macro_f1_score: 0.6525\n",
      "\n",
      "Epoch 00005: val_macro_f1_score did not improve from 0.67016\n",
      "Epoch 6/100\n",
      "112/112 [==============================] - 39s 344ms/step - loss: 0.1198 - accuracy: 0.9617 - micro_f1_score: 0.9617 - macro_f1_score: 0.9496 - val_loss: 1.2479 - val_accuracy: 0.7208 - val_micro_f1_score: 0.7208 - val_macro_f1_score: 0.6669\n",
      "\n",
      "Epoch 00006: val_macro_f1_score did not improve from 0.67016\n",
      "Epoch 7/100\n",
      "112/112 [==============================] - 35s 316ms/step - loss: 0.0907 - accuracy: 0.9706 - micro_f1_score: 0.9706 - macro_f1_score: 0.9622 - val_loss: 1.2591 - val_accuracy: 0.7056 - val_micro_f1_score: 0.7056 - val_macro_f1_score: 0.6540\n",
      "\n",
      "Epoch 00007: val_macro_f1_score did not improve from 0.67016\n",
      "Epoch 8/100\n",
      "112/112 [==============================] - 33s 294ms/step - loss: 0.0776 - accuracy: 0.9738 - micro_f1_score: 0.9738 - macro_f1_score: 0.9674 - val_loss: 1.5327 - val_accuracy: 0.6954 - val_micro_f1_score: 0.6954 - val_macro_f1_score: 0.6403\n",
      "\n",
      "Epoch 00008: val_macro_f1_score did not improve from 0.67016\n",
      "Epoch 9/100\n",
      "112/112 [==============================] - 34s 308ms/step - loss: 0.0658 - accuracy: 0.9806 - micro_f1_score: 0.9806 - macro_f1_score: 0.9757 - val_loss: 1.5319 - val_accuracy: 0.6751 - val_micro_f1_score: 0.6751 - val_macro_f1_score: 0.6356\n",
      "\n",
      "Epoch 00009: val_macro_f1_score did not improve from 0.67016\n",
      "Epoch 10/100\n",
      "112/112 [==============================] - 40s 360ms/step - loss: 0.0580 - accuracy: 0.9838 - micro_f1_score: 0.9838 - macro_f1_score: 0.9793 - val_loss: 1.8126 - val_accuracy: 0.6751 - val_micro_f1_score: 0.6751 - val_macro_f1_score: 0.6172\n",
      "\n",
      "Epoch 00010: val_macro_f1_score did not improve from 0.67016\n",
      "Epoch 11/100\n",
      "112/112 [==============================] - 43s 381ms/step - loss: 0.0653 - accuracy: 0.9787 - micro_f1_score: 0.9787 - macro_f1_score: 0.9725 - val_loss: 1.8145 - val_accuracy: 0.6853 - val_micro_f1_score: 0.6853 - val_macro_f1_score: 0.6464\n",
      "\n",
      "Epoch 00011: ReduceLROnPlateau reducing learning rate to 0.00010000000474974513.\n",
      "\n",
      "Epoch 00011: val_macro_f1_score did not improve from 0.67016\n",
      "Epoch 12/100\n",
      "112/112 [==============================] - 40s 357ms/step - loss: 0.0364 - accuracy: 0.9894 - micro_f1_score: 0.9894 - macro_f1_score: 0.9861 - val_loss: 1.9273 - val_accuracy: 0.6853 - val_micro_f1_score: 0.6853 - val_macro_f1_score: 0.6387\n",
      "\n",
      "Epoch 00012: val_macro_f1_score did not improve from 0.67016\n",
      "Epoch 13/100\n",
      "112/112 [==============================] - 41s 363ms/step - loss: 0.0286 - accuracy: 0.9918 - micro_f1_score: 0.9918 - macro_f1_score: 0.9894 - val_loss: 1.9959 - val_accuracy: 0.6954 - val_micro_f1_score: 0.6954 - val_macro_f1_score: 0.6559\n",
      "\n",
      "Epoch 00013: val_macro_f1_score did not improve from 0.67016\n",
      "Epoch 14/100\n",
      "112/112 [==============================] - 41s 367ms/step - loss: 0.0302 - accuracy: 0.9907 - micro_f1_score: 0.9907 - macro_f1_score: 0.9882 - val_loss: 2.0921 - val_accuracy: 0.6904 - val_micro_f1_score: 0.6904 - val_macro_f1_score: 0.6509\n",
      "\n",
      "Epoch 00014: val_macro_f1_score did not improve from 0.67016\n",
      "Epoch 15/100\n",
      "112/112 [==============================] - 32s 284ms/step - loss: 0.0281 - accuracy: 0.9910 - micro_f1_score: 0.9910 - macro_f1_score: 0.9883 - val_loss: 2.1874 - val_accuracy: 0.6904 - val_micro_f1_score: 0.6904 - val_macro_f1_score: 0.6509\n",
      "\n",
      "Epoch 00015: val_macro_f1_score did not improve from 0.67016\n",
      "Epoch 16/100\n",
      "112/112 [==============================] - 33s 297ms/step - loss: 0.0320 - accuracy: 0.9913 - micro_f1_score: 0.9913 - macro_f1_score: 0.9889 - val_loss: 2.2734 - val_accuracy: 0.6853 - val_micro_f1_score: 0.6853 - val_macro_f1_score: 0.6430\n",
      "\n",
      "Epoch 00016: val_macro_f1_score did not improve from 0.67016\n"
     ]
    }
   ],
   "source": [
    "history = model.fit(train_dataset, epochs=100,\n",
    "                    validation_data=val_dataset,\n",
    "                    #shuffle=True,\n",
    "                    batch_size=32,\n",
    "                    callbacks = [early_stopping_callback, reduce_lr, model_chkpt])"
   ]
  },
  {
   "cell_type": "code",
   "execution_count": 40,
   "metadata": {},
   "outputs": [
    {
     "name": "stdout",
     "output_type": "stream",
     "text": [
      "10/10 - 0s - loss: 1.6640 - accuracy: 0.7357 - micro_f1_score: 0.7357 - macro_f1_score: 0.6651\n",
      "lss: 1.6640\n",
      "acc: 0.7357\n",
      "micro f1: 0.7357\n",
      "macro f1: 0.6651\n"
     ]
    }
   ],
   "source": [
    "loss,acc,micro_f1,macro_f1 = model.evaluate(test_dataset, verbose = 2, batch_size = 32)\n",
    "print(\"lss: %.4f\" % (loss))\n",
    "print(\"acc: %.4f\" % (acc))\n",
    "print(\"micro f1: %.4f\" % (micro_f1))\n",
    "print(\"macro f1: %.4f\" % (macro_f1))"
   ]
  },
  {
   "cell_type": "code",
   "execution_count": 41,
   "metadata": {
    "scrolled": true
   },
   "outputs": [
    {
     "name": "stdout",
     "output_type": "stream",
     "text": [
      "10/10 - 0s - loss: 0.7557 - accuracy: 0.7508 - micro_f1_score: 0.7508 - macro_f1_score: 0.6760\n",
      "lss: 0.7557\n",
      "acc: 0.7508\n",
      "micro f1: 0.7508\n",
      "macro f1: 0.6760\n"
     ]
    }
   ],
   "source": [
    "model.load_weights(checkpoint_path)\n",
    "loss,acc,micro_f1,macro_f1 = model.evaluate(test_dataset, verbose = 2, batch_size = 32)\n",
    "print(\"lss: %.4f\" % (loss))\n",
    "print(\"acc: %.4f\" % (acc))\n",
    "print(\"micro f1: %.4f\" % (micro_f1))\n",
    "print(\"macro f1: %.4f\" % (macro_f1))"
   ]
  },
  {
   "cell_type": "code",
   "execution_count": 42,
   "metadata": {},
   "outputs": [
    {
     "data": {
      "text/plain": [
       "(0.0, 1.016630880534649)"
      ]
     },
     "execution_count": 42,
     "metadata": {},
     "output_type": "execute_result"
    },
    {
     "data": {
      "image/png": "[encoded data removed]",
      "text/plain": [
       "<Figure size 1152x576 with 2 Axes>"
      ]
     },
     "metadata": {
      "needs_background": "light"
     },
     "output_type": "display_data"
    }
   ],
   "source": [
    "plt.figure(figsize=(16,8))\n",
    "plt.subplot(1,2,1)\n",
    "plot_graphs(history, 'micro_f1_score')\n",
    "plt.ylim(None,1)\n",
    "plt.subplot(1,2,2)\n",
    "plot_graphs(history, 'macro_f1_score')\n",
    "plt.ylim(0,None)"
   ]
  },
  {
   "cell_type": "code",
   "execution_count": 43,
   "metadata": {
    "scrolled": true
   },
   "outputs": [
    {
     "data": {
      "text/plain": [
       "(0.0, 2.3857190806418656)"
      ]
     },
     "execution_count": 43,
     "metadata": {},
     "output_type": "execute_result"
    },
    {
     "data": {
      "image/png": "[encoded data removed]",
      "text/plain": [
       "<Figure size 1152x576 with 2 Axes>"
      ]
     },
     "metadata": {
      "needs_background": "light"
     },
     "output_type": "display_data"
    }
   ],
   "source": [
    "plt.figure(figsize=(16,8))\n",
    "plt.subplot(1,2,1)\n",
    "plot_graphs(history, 'accuracy')\n",
    "plt.ylim(None,1)\n",
    "plt.subplot(1,2,2)\n",
    "plot_graphs(history, 'loss')\n",
    "plt.ylim(0,None)"
   ]
  },
  {
   "cell_type": "code",
   "execution_count": 44,
   "metadata": {},
   "outputs": [
    {
     "name": "stdout",
     "output_type": "stream",
     "text": [
      "Model: \"sequential_1\"\n",
      "_________________________________________________________________\n",
      "Layer (type)                 Output Shape              Param #   \n",
      "=================================================================\n",
      "text_vectorization (TextVect (None, None)              0         \n",
      "_________________________________________________________________\n",
      "embedding_1 (Embedding)      (None, None, 64)          649920    \n",
      "_________________________________________________________________\n",
      "bidirectional_1 (Bidirection (None, None, 128)         66048     \n",
      "_________________________________________________________________\n",
      "bidirectional_2 (Bidirection (None, 64)                41216     \n",
      "_________________________________________________________________\n",
      "dense_2 (Dense)              (None, 64)                4160      \n",
      "_________________________________________________________________\n",
      "dropout (Dropout)            (None, 64)                0         \n",
      "_________________________________________________________________\n",
      "dense_3 (Dense)              (None, 3)                 195       \n",
      "=================================================================\n",
      "Total params: 761,539\n",
      "Trainable params: 761,539\n",
      "Non-trainable params: 0\n",
      "_________________________________________________________________\n"
     ]
    }
   ],
   "source": [
    "model.summary()"
   ]
  }
 ],
 "metadata": {
  "kernelspec": {
   "display_name": "Python 3",
   "language": "python",
   "name": "python3"
  },
  "language_info": {
   "codemirror_mode": {
    "name": "ipython",
    "version": 3
   },
   "file_extension": ".py",
   "mimetype": "text/x-python",
   "name": "python",
   "nbconvert_exporter": "python",
   "pygments_lexer": "ipython3",
   "version": "3.8.3"
  }
 },
 "nbformat": 4,
 "nbformat_minor": 4
}
