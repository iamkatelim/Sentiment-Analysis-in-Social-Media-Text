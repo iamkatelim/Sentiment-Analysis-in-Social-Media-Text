{
 "cells": [
  {
   "cell_type": "markdown",
   "metadata": {},
   "source": [
    "reference: https://github.com/sismetanin/sentiment-analysis-of-tweets-in-russian/blob/master/Word2Vec%20for%20Sentiment%20Analysis%20in%20Russian.ipynb"
   ]
  },
  {
   "cell_type": "markdown",
   "metadata": {},
   "source": [
    "## Title: Sentiment Analysis in Social Media Text using Neural Network <a class=\"anchor\" id=\"intro\"></a>\n",
    "\n",
    "#### Description:\n",
    "Train and visualize word2vec model"
   ]
  },
  {
   "cell_type": "markdown",
   "metadata": {},
   "source": [
    "Types of word2vec:\n",
    "- skip gram\n",
    "- CBOW (continuous bow)"
   ]
  },
  {
   "cell_type": "code",
   "execution_count": 1,
   "metadata": {},
   "outputs": [],
   "source": [
    "import pandas as pd\n",
    "import numpy as np\n",
    "import matplotlib.pyplot as plt\n",
    "import logging\n",
    "import multiprocessing\n",
    "import gensim\n",
    "from gensim.models import Word2Vec\n",
    "from sklearn.manifold import TSNE\n",
    "import matplotlib.cm as cm\n",
    "import time\n",
    "\n",
    "%matplotlib inline"
   ]
  },
  {
   "cell_type": "markdown",
   "metadata": {},
   "source": [
    "### Train word2vec"
   ]
  },
  {
   "cell_type": "markdown",
   "metadata": {},
   "source": [
    "### Visualize"
   ]
  },
  {
   "cell_type": "code",
   "execution_count": 2,
   "metadata": {},
   "outputs": [],
   "source": [
    "from matplotlib.axes._axes import _log as matplotlib_axes_logger\n",
    "matplotlib_axes_logger.setLevel('ERROR')"
   ]
  },
  {
   "cell_type": "code",
   "execution_count": 3,
   "metadata": {},
   "outputs": [],
   "source": [
    "def tsne_plot(labels, tokens, classes, clusters):\n",
    "    tsne_model = TSNE(perplexity=15, n_components=2, init='pca', n_iter=3500, random_state=33)\n",
    "    new_values = tsne_model.fit_transform(tokens)\n",
    "\n",
    "    x = []\n",
    "    y = []\n",
    "\n",
    "    for value in new_values:\n",
    "        x.append(value[0])\n",
    "        y.append(value[1])\n",
    "\n",
    "    #colors = cm.rainbow(np.linspace(0, 1, len(ax.collections)))\n",
    "    colormap = plt.cm.gist_ncar #nipy_spectral, Set1,Paired  \n",
    "    colorst = [colormap(i) for i in np.linspace(0, 0.9, clusters)]\n",
    "    plt.figure(figsize=(16, 9))\n",
    "    for i in range(len(x)):\n",
    "        plt.scatter(x[i], y[i], c=colorst[classes[i]], alpha=0.75)\n",
    "        plt.annotate(labels[i], alpha=0.75, xy=(x[i], y[i]), xytext=(5, 2), \n",
    "                     textcoords='offset points', ha='right', va='bottom', size=10)\n",
    "    plt.grid(True)\n",
    "    plt.show()"
   ]
  },
  {
   "cell_type": "code",
   "execution_count": 4,
   "metadata": {},
   "outputs": [
    {
     "data": {
      "text/html": [
       "<div>\n",
       "<style scoped>\n",
       "    .dataframe tbody tr th:only-of-type {\n",
       "        vertical-align: middle;\n",
       "    }\n",
       "\n",
       "    .dataframe tbody tr th {\n",
       "        vertical-align: top;\n",
       "    }\n",
       "\n",
       "    .dataframe thead th {\n",
       "        text-align: right;\n",
       "    }\n",
       "</style>\n",
       "<table border=\"1\" class=\"dataframe\">\n",
       "  <thead>\n",
       "    <tr style=\"text-align: right;\">\n",
       "      <th></th>\n",
       "      <th>date</th>\n",
       "      <th>text</th>\n",
       "      <th>sentiment</th>\n",
       "      <th>processed</th>\n",
       "      <th>normalized</th>\n",
       "      <th>check</th>\n",
       "      <th>check_stop</th>\n",
       "    </tr>\n",
       "  </thead>\n",
       "  <tbody>\n",
       "    <tr>\n",
       "      <th>0</th>\n",
       "      <td>20210221</td>\n",
       "      <td>#dsnr salam dato.. lebih kurang 15km dari ruma...</td>\n",
       "      <td>negative</td>\n",
       "      <td>salam dato lebih kurang  km dari rumah ke kila...</td>\n",
       "      <td>salam dato lebih kurang km dari rumah ke kilan...</td>\n",
       "      <td>salam dato lebih kurang kkm dari rumah ke kila...</td>\n",
       "      <td>kurang kkm rumah ke kilang pkp pkb pkpp tidak ...</td>\n",
       "    </tr>\n",
       "    <tr>\n",
       "      <th>1</th>\n",
       "      <td>20210204</td>\n",
       "      <td>#noorhishamabdullah you’re not dr.fauci materi...</td>\n",
       "      <td>negative</td>\n",
       "      <td>you re not dr fauci material you re just pn gr...</td>\n",
       "      <td>you re not dr fauci material you re just pun g...</td>\n",
       "      <td>you re not dr fauci material you re just pun g...</td>\n",
       "      <td>not fauci material grabmart boy</td>\n",
       "    </tr>\n",
       "    <tr>\n",
       "      <th>2</th>\n",
       "      <td>20210130</td>\n",
       "      <td>#share dan #like page #the_information_news un...</td>\n",
       "      <td>neutral</td>\n",
       "      <td>dan page untuk mendapatkan khabar berita yang ...</td>\n",
       "      <td>dan page untuk mendapatkan khabar berita yang ...</td>\n",
       "      <td>dan page untuk mendapatkan khabar berita yang ...</td>\n",
       "      <td>page khabar berita saudara patani selatan thai...</td>\n",
       "    </tr>\n",
       "    <tr>\n",
       "      <th>3</th>\n",
       "      <td>20210202</td>\n",
       "      <td>1 dunia sedang &amp; terus diperbodohkan dgn agend...</td>\n",
       "      <td>negative</td>\n",
       "      <td>satu dunia sedang and terus diperbodohkan dgn ...</td>\n",
       "      <td>satu dunia sedang and terus diperbodohkan deng...</td>\n",
       "      <td>satu dunia sedang and terus diperbodohkan deng...</td>\n",
       "      <td>dunia diperbodohkan agenda yahudi ekonomi duni...</td>\n",
       "    </tr>\n",
       "    <tr>\n",
       "      <th>4</th>\n",
       "      <td>20210206</td>\n",
       "      <td>1 hari sy harap angka nie turun single digit m...</td>\n",
       "      <td>positive</td>\n",
       "      <td>satu hari sy harap angka nie turun single digi...</td>\n",
       "      <td>satu hari sy harap angka ini turun single digi...</td>\n",
       "      <td>satu hari sy harap angka ini turun single digi...</td>\n",
       "      <td>harap angka turun single digit capai zero case...</td>\n",
       "    </tr>\n",
       "  </tbody>\n",
       "</table>\n",
       "</div>"
      ],
      "text/plain": [
       "       date                                               text sentiment  \\\n",
       "0  20210221  #dsnr salam dato.. lebih kurang 15km dari ruma...  negative   \n",
       "1  20210204  #noorhishamabdullah you’re not dr.fauci materi...  negative   \n",
       "2  20210130  #share dan #like page #the_information_news un...   neutral   \n",
       "3  20210202  1 dunia sedang & terus diperbodohkan dgn agend...  negative   \n",
       "4  20210206  1 hari sy harap angka nie turun single digit m...  positive   \n",
       "\n",
       "                                           processed  \\\n",
       "0  salam dato lebih kurang  km dari rumah ke kila...   \n",
       "1  you re not dr fauci material you re just pn gr...   \n",
       "2  dan page untuk mendapatkan khabar berita yang ...   \n",
       "3  satu dunia sedang and terus diperbodohkan dgn ...   \n",
       "4  satu hari sy harap angka nie turun single digi...   \n",
       "\n",
       "                                          normalized  \\\n",
       "0  salam dato lebih kurang km dari rumah ke kilan...   \n",
       "1  you re not dr fauci material you re just pun g...   \n",
       "2  dan page untuk mendapatkan khabar berita yang ...   \n",
       "3  satu dunia sedang and terus diperbodohkan deng...   \n",
       "4  satu hari sy harap angka ini turun single digi...   \n",
       "\n",
       "                                               check  \\\n",
       "0  salam dato lebih kurang kkm dari rumah ke kila...   \n",
       "1  you re not dr fauci material you re just pun g...   \n",
       "2  dan page untuk mendapatkan khabar berita yang ...   \n",
       "3  satu dunia sedang and terus diperbodohkan deng...   \n",
       "4  satu hari sy harap angka ini turun single digi...   \n",
       "\n",
       "                                          check_stop  \n",
       "0  kurang kkm rumah ke kilang pkp pkb pkpp tidak ...  \n",
       "1                    not fauci material grabmart boy  \n",
       "2  page khabar berita saudara patani selatan thai...  \n",
       "3  dunia diperbodohkan agenda yahudi ekonomi duni...  \n",
       "4  harap angka turun single digit capai zero case...  "
      ]
     },
     "execution_count": 4,
     "metadata": {},
     "output_type": "execute_result"
    }
   ],
   "source": [
    "texts = pd.read_csv('3 classes/facebook_health_cases (all).csv')\n",
    "df = pd.DataFrame(texts)\n",
    "df.head()"
   ]
  },
  {
   "cell_type": "code",
   "execution_count": 5,
   "metadata": {},
   "outputs": [
    {
     "data": {
      "text/plain": [
       "(7907, 7)"
      ]
     },
     "execution_count": 5,
     "metadata": {},
     "output_type": "execute_result"
    }
   ],
   "source": [
    "df.shape"
   ]
  },
  {
   "cell_type": "code",
   "execution_count": 6,
   "metadata": {},
   "outputs": [
    {
     "name": "stdout",
     "output_type": "stream",
     "text": [
      "before cleaned:  (7907, 7)\n",
      "After:  (7905, 7)\n"
     ]
    }
   ],
   "source": [
    "# remove possible empty text cell\n",
    "print(\"before cleaned: \", df.shape)\n",
    "df['check_stop'].replace('', np.nan, inplace=True)\n",
    "df = df.dropna()\n",
    "df = df.reset_index(drop=True)\n",
    "print(\"After: \", df.shape)"
   ]
  },
  {
   "cell_type": "code",
   "execution_count": 7,
   "metadata": {},
   "outputs": [],
   "source": [
    "tokenize_text = df['check_stop'].apply(lambda x: x.split())"
   ]
  },
  {
   "cell_type": "markdown",
   "metadata": {},
   "source": [
    "size: dimensionality of the vector.<br>\n"
   ]
  },
  {
   "cell_type": "code",
   "execution_count": 8,
   "metadata": {
    "scrolled": true
   },
   "outputs": [
    {
     "name": "stderr",
     "output_type": "stream",
     "text": [
      "2021-05-23 14:47:34,245 : INFO : collecting all words and their counts\n",
      "2021-05-23 14:47:34,247 : INFO : PROGRESS: at sentence #0, processed 0 words, keeping 0 word types\n",
      "2021-05-23 14:47:34,327 : INFO : collected 12119 word types from a corpus of 112152 raw words and 7905 sentences\n",
      "2021-05-23 14:47:34,330 : INFO : Loading a fresh vocabulary\n",
      "2021-05-23 14:47:34,365 : INFO : effective_min_count=1 retains 12119 unique words (100% of original 12119, drops 0)\n",
      "2021-05-23 14:47:34,366 : INFO : effective_min_count=1 leaves 112152 word corpus (100% of original 112152, drops 0)\n",
      "2021-05-23 14:47:34,429 : INFO : deleting the raw counts dictionary of 12119 items\n",
      "2021-05-23 14:47:34,430 : INFO : sample=0.001 downsamples 59 most-common words\n",
      "2021-05-23 14:47:34,431 : INFO : downsampling leaves estimated 91865 word corpus (81.9% of prior 112152)\n",
      "2021-05-23 14:47:34,486 : INFO : estimated required memory for 12119 words and 128 dimensions: 18469356 bytes\n",
      "2021-05-23 14:47:34,487 : INFO : resetting layer weights\n",
      "2021-05-23 14:47:38,257 : INFO : training model with 4 workers on 12119 vocabulary and 128 features, using sg=0 hs=0 sample=0.001 negative=5 window=2\n",
      "2021-05-23 14:47:38,405 : INFO : worker thread finished; awaiting finish of 3 more threads\n",
      "2021-05-23 14:47:38,417 : INFO : worker thread finished; awaiting finish of 2 more threads\n",
      "2021-05-23 14:47:38,422 : INFO : worker thread finished; awaiting finish of 1 more threads\n",
      "2021-05-23 14:47:38,425 : INFO : worker thread finished; awaiting finish of 0 more threads\n",
      "2021-05-23 14:47:38,429 : INFO : EPOCH - 1 : training on 112152 raw words (91816 effective words) took 0.2s, 592607 effective words/s\n",
      "2021-05-23 14:47:38,559 : INFO : worker thread finished; awaiting finish of 3 more threads\n",
      "2021-05-23 14:47:38,562 : INFO : worker thread finished; awaiting finish of 2 more threads\n",
      "2021-05-23 14:47:38,573 : INFO : worker thread finished; awaiting finish of 1 more threads\n",
      "2021-05-23 14:47:38,582 : INFO : worker thread finished; awaiting finish of 0 more threads\n",
      "2021-05-23 14:47:38,584 : INFO : EPOCH - 2 : training on 112152 raw words (91787 effective words) took 0.1s, 660053 effective words/s\n",
      "2021-05-23 14:47:38,705 : INFO : worker thread finished; awaiting finish of 3 more threads\n",
      "2021-05-23 14:47:38,710 : INFO : worker thread finished; awaiting finish of 2 more threads\n",
      "2021-05-23 14:47:38,713 : INFO : worker thread finished; awaiting finish of 1 more threads\n",
      "2021-05-23 14:47:38,726 : INFO : worker thread finished; awaiting finish of 0 more threads\n",
      "2021-05-23 14:47:38,728 : INFO : EPOCH - 3 : training on 112152 raw words (91920 effective words) took 0.1s, 721793 effective words/s\n",
      "2021-05-23 14:47:38,847 : INFO : worker thread finished; awaiting finish of 3 more threads\n",
      "2021-05-23 14:47:38,850 : INFO : worker thread finished; awaiting finish of 2 more threads\n",
      "2021-05-23 14:47:38,851 : INFO : worker thread finished; awaiting finish of 1 more threads\n",
      "2021-05-23 14:47:38,862 : INFO : worker thread finished; awaiting finish of 0 more threads\n",
      "2021-05-23 14:47:38,864 : INFO : EPOCH - 4 : training on 112152 raw words (91933 effective words) took 0.1s, 759597 effective words/s\n",
      "2021-05-23 14:47:38,991 : INFO : worker thread finished; awaiting finish of 3 more threads\n",
      "2021-05-23 14:47:38,997 : INFO : worker thread finished; awaiting finish of 2 more threads\n",
      "2021-05-23 14:47:39,006 : INFO : worker thread finished; awaiting finish of 1 more threads\n",
      "2021-05-23 14:47:39,028 : INFO : worker thread finished; awaiting finish of 0 more threads\n",
      "2021-05-23 14:47:39,030 : INFO : EPOCH - 5 : training on 112152 raw words (91927 effective words) took 0.1s, 614486 effective words/s\n",
      "2021-05-23 14:47:39,031 : INFO : training on a 560760 raw words (459383 effective words) took 0.8s, 595189 effective words/s\n"
     ]
    }
   ],
   "source": [
    "logging.basicConfig(format='%(asctime)s : %(levelname)s : %(message)s', level=logging.INFO)\n",
    "\n",
    "model = Word2Vec(tokenize_text, size=128, window=2, min_count=1, workers=multiprocessing.cpu_count())"
   ]
  },
  {
   "cell_type": "code",
   "execution_count": 9,
   "metadata": {
    "scrolled": true
   },
   "outputs": [
    {
     "name": "stderr",
     "output_type": "stream",
     "text": [
      "2021-05-23 14:47:39,040 : WARNING : Effective 'alpha' higher than previous training cycles\n",
      "2021-05-23 14:47:39,045 : INFO : training model with 4 workers on 12119 vocabulary and 128 features, using sg=0 hs=0 sample=0.001 negative=5 window=2\n",
      "2021-05-23 14:47:39,183 : INFO : worker thread finished; awaiting finish of 3 more threads\n",
      "2021-05-23 14:47:39,185 : INFO : worker thread finished; awaiting finish of 2 more threads\n",
      "2021-05-23 14:47:39,204 : INFO : worker thread finished; awaiting finish of 1 more threads\n",
      "2021-05-23 14:47:39,229 : INFO : worker thread finished; awaiting finish of 0 more threads\n",
      "2021-05-23 14:47:39,231 : INFO : EPOCH - 1 : training on 112152 raw words (91859 effective words) took 0.2s, 578550 effective words/s\n",
      "2021-05-23 14:47:39,361 : INFO : worker thread finished; awaiting finish of 3 more threads\n",
      "2021-05-23 14:47:39,364 : INFO : worker thread finished; awaiting finish of 2 more threads\n",
      "2021-05-23 14:47:39,371 : INFO : worker thread finished; awaiting finish of 1 more threads\n",
      "2021-05-23 14:47:39,394 : INFO : worker thread finished; awaiting finish of 0 more threads\n",
      "2021-05-23 14:47:39,398 : INFO : EPOCH - 2 : training on 112152 raw words (91894 effective words) took 0.2s, 605904 effective words/s\n",
      "2021-05-23 14:47:39,520 : INFO : worker thread finished; awaiting finish of 3 more threads\n",
      "2021-05-23 14:47:39,524 : INFO : worker thread finished; awaiting finish of 2 more threads\n",
      "2021-05-23 14:47:39,530 : INFO : worker thread finished; awaiting finish of 1 more threads\n",
      "2021-05-23 14:47:39,538 : INFO : worker thread finished; awaiting finish of 0 more threads\n",
      "2021-05-23 14:47:39,543 : INFO : EPOCH - 3 : training on 112152 raw words (91841 effective words) took 0.1s, 718294 effective words/s\n",
      "2021-05-23 14:47:39,684 : INFO : worker thread finished; awaiting finish of 3 more threads\n",
      "2021-05-23 14:47:39,687 : INFO : worker thread finished; awaiting finish of 2 more threads\n",
      "2021-05-23 14:47:39,694 : INFO : worker thread finished; awaiting finish of 1 more threads\n",
      "2021-05-23 14:47:39,715 : INFO : worker thread finished; awaiting finish of 0 more threads\n",
      "2021-05-23 14:47:39,716 : INFO : EPOCH - 4 : training on 112152 raw words (91937 effective words) took 0.2s, 562330 effective words/s\n",
      "2021-05-23 14:47:39,854 : INFO : worker thread finished; awaiting finish of 3 more threads\n",
      "2021-05-23 14:47:39,856 : INFO : worker thread finished; awaiting finish of 2 more threads\n",
      "2021-05-23 14:47:39,864 : INFO : worker thread finished; awaiting finish of 1 more threads\n",
      "2021-05-23 14:47:39,880 : INFO : worker thread finished; awaiting finish of 0 more threads\n",
      "2021-05-23 14:47:39,882 : INFO : EPOCH - 5 : training on 112152 raw words (92017 effective words) took 0.1s, 616893 effective words/s\n",
      "2021-05-23 14:47:40,056 : INFO : worker thread finished; awaiting finish of 3 more threads\n",
      "2021-05-23 14:47:40,058 : INFO : worker thread finished; awaiting finish of 2 more threads\n",
      "2021-05-23 14:47:40,065 : INFO : worker thread finished; awaiting finish of 1 more threads\n",
      "2021-05-23 14:47:40,099 : INFO : worker thread finished; awaiting finish of 0 more threads\n",
      "2021-05-23 14:47:40,102 : INFO : EPOCH - 6 : training on 112152 raw words (92054 effective words) took 0.2s, 474472 effective words/s\n",
      "2021-05-23 14:47:40,227 : INFO : worker thread finished; awaiting finish of 3 more threads\n",
      "2021-05-23 14:47:40,231 : INFO : worker thread finished; awaiting finish of 2 more threads\n",
      "2021-05-23 14:47:40,239 : INFO : worker thread finished; awaiting finish of 1 more threads\n",
      "2021-05-23 14:47:40,248 : INFO : worker thread finished; awaiting finish of 0 more threads\n",
      "2021-05-23 14:47:40,249 : INFO : EPOCH - 7 : training on 112152 raw words (91926 effective words) took 0.1s, 696028 effective words/s\n",
      "2021-05-23 14:47:40,366 : INFO : worker thread finished; awaiting finish of 3 more threads\n",
      "2021-05-23 14:47:40,368 : INFO : worker thread finished; awaiting finish of 2 more threads\n",
      "2021-05-23 14:47:40,370 : INFO : worker thread finished; awaiting finish of 1 more threads\n",
      "2021-05-23 14:47:40,414 : INFO : worker thread finished; awaiting finish of 0 more threads\n",
      "2021-05-23 14:47:40,415 : INFO : EPOCH - 8 : training on 112152 raw words (91835 effective words) took 0.2s, 604041 effective words/s\n",
      "2021-05-23 14:47:40,533 : INFO : worker thread finished; awaiting finish of 3 more threads\n",
      "2021-05-23 14:47:40,539 : INFO : worker thread finished; awaiting finish of 2 more threads\n",
      "2021-05-23 14:47:40,541 : INFO : worker thread finished; awaiting finish of 1 more threads\n",
      "2021-05-23 14:47:40,556 : INFO : worker thread finished; awaiting finish of 0 more threads\n",
      "2021-05-23 14:47:40,558 : INFO : EPOCH - 9 : training on 112152 raw words (91793 effective words) took 0.1s, 732767 effective words/s\n",
      "2021-05-23 14:47:40,671 : INFO : worker thread finished; awaiting finish of 3 more threads\n",
      "2021-05-23 14:47:40,674 : INFO : worker thread finished; awaiting finish of 2 more threads\n",
      "2021-05-23 14:47:40,681 : INFO : worker thread finished; awaiting finish of 1 more threads\n",
      "2021-05-23 14:47:40,692 : INFO : worker thread finished; awaiting finish of 0 more threads\n",
      "2021-05-23 14:47:40,693 : INFO : EPOCH - 10 : training on 112152 raw words (91860 effective words) took 0.1s, 767968 effective words/s\n",
      "2021-05-23 14:47:40,695 : INFO : training on a 1121520 raw words (919016 effective words) took 1.6s, 557898 effective words/s\n"
     ]
    },
    {
     "name": "stdout",
     "output_type": "stream",
     "text": [
      "Wall time: 1.66 s\n"
     ]
    },
    {
     "data": {
      "text/plain": [
       "(919016, 1121520)"
      ]
     },
     "execution_count": 9,
     "metadata": {},
     "output_type": "execute_result"
    }
   ],
   "source": [
    "%%time\n",
    "model.train(tokenize_text, total_examples=model.corpus_count, \n",
    "                        epochs=10, compute_loss=True, report_delay=60*10)"
   ]
  },
  {
   "cell_type": "code",
   "execution_count": 53,
   "metadata": {
    "scrolled": true
   },
   "outputs": [
    {
     "name": "stderr",
     "output_type": "stream",
     "text": [
      "2021-04-30 18:05:04,242 : INFO : saving Word2Vec object under w2v/no_emoji_30_epochs_week5.w2v, separately None\n",
      "2021-04-30 18:05:04,249 : INFO : not storing attribute vectors_norm\n",
      "2021-04-30 18:05:04,259 : INFO : not storing attribute cum_table\n",
      "2021-04-30 18:05:04,523 : INFO : saved w2v/no_emoji_30_epochs_week5.w2v\n"
     ]
    }
   ],
   "source": [
    "#model.save(\"w2v/no_emoji_30_epochs_week5.w2v\")"
   ]
  },
  {
   "cell_type": "code",
   "execution_count": null,
   "metadata": {},
   "outputs": [],
   "source": [
    "model.wv.index_to_key[:10]"
   ]
  },
  {
   "cell_type": "code",
   "execution_count": 10,
   "metadata": {
    "scrolled": true
   },
   "outputs": [
    {
     "name": "stderr",
     "output_type": "stream",
     "text": [
      "2021-05-23 14:47:51,966 : INFO : precomputing L2-norms of word weight vectors\n"
     ]
    },
    {
     "data": {
      "text/plain": [
       "[('edarkan', 0.9065426588058472),\n",
       " ('tkdpt', 0.8923076391220093),\n",
       " ('data', 0.8910322785377502),\n",
       " ('cucuk', 0.8879120349884033),\n",
       " ('suntik', 0.8814105987548828),\n",
       " ('menjangkau', 0.8788141012191772),\n",
       " ('maheran', 0.8768213391304016),\n",
       " ('diberitahu', 0.8731939792633057),\n",
       " ('menakutkan', 0.8712925314903259),\n",
       " ('menjemah', 0.8711556792259216)]"
      ]
     },
     "execution_count": 10,
     "metadata": {},
     "output_type": "execute_result"
    }
   ],
   "source": [
    "model.wv.most_similar(positive='vaksin')"
   ]
  },
  {
   "cell_type": "code",
   "execution_count": 20,
   "metadata": {},
   "outputs": [
    {
     "name": "stderr",
     "output_type": "stream",
     "text": [
      "2021-04-30 17:07:25,146 : INFO : precomputing L2-norms of word weight vectors\n"
     ]
    },
    {
     "data": {
      "text/plain": [
       "[('suntikan', 0.5892865657806396),\n",
       " ('cucuk', 0.5445693731307983),\n",
       " ('menerima', 0.5374664068222046),\n",
       " ('adakah', 0.5310397148132324),\n",
       " ('divaksin', 0.5141162276268005),\n",
       " ('suntik', 0.47344398498535156),\n",
       " ('bersedia', 0.4716215431690216),\n",
       " ('sehat', 0.4700673818588257),\n",
       " ('daftar', 0.46294039487838745),\n",
       " ('keluarkan', 0.4622390866279602)]"
      ]
     },
     "execution_count": 20,
     "metadata": {},
     "output_type": "execute_result"
    }
   ],
   "source": [
    "model.wv.most_similar(positive='vaksin')"
   ]
  },
  {
   "cell_type": "code",
   "execution_count": 21,
   "metadata": {
    "scrolled": true
   },
   "outputs": [
    {
     "data": {
      "text/plain": [
       "[('cadangan', 0.7041925191879272),\n",
       " ('membimbangkan', 0.6919119358062744),\n",
       " ('mempertimbangkan', 0.6857717037200928),\n",
       " ('membantu', 0.6838850975036621),\n",
       " ('pimpinan', 0.66923987865448),\n",
       " ('langkah', 0.6666144728660583),\n",
       " ('diharapkan', 0.6461904048919678),\n",
       " ('malangnya', 0.64322429895401),\n",
       " ('lakukan', 0.6405465602874756),\n",
       " ('kegagalan', 0.640526533126831)]"
      ]
     },
     "execution_count": 21,
     "metadata": {},
     "output_type": "execute_result"
    }
   ],
   "source": [
    "model.wv.most_similar(positive='terbaik')"
   ]
  },
  {
   "cell_type": "code",
   "execution_count": 15,
   "metadata": {},
   "outputs": [
    {
     "data": {
      "text/plain": [
       "[('pkpb', 0.99854975938797),\n",
       " ('rindu', 0.9984679222106934),\n",
       " ('puasa', 0.9983760714530945),\n",
       " ('lama', 0.9982637763023376),\n",
       " ('ngeri', 0.9982354640960693),\n",
       " ('sekatan', 0.9980382323265076),\n",
       " ('tunggu', 0.9979707598686218),\n",
       " ('sabar', 0.997939944267273),\n",
       " ('kmpung', 0.997938871383667),\n",
       " ('sekejap', 0.997911810874939)]"
      ]
     },
     "execution_count": 15,
     "metadata": {},
     "output_type": "execute_result"
    }
   ],
   "source": [
    "model.wv.most_similar(positive='raya')"
   ]
  },
  {
   "cell_type": "code",
   "execution_count": 11,
   "metadata": {},
   "outputs": [],
   "source": [
    "from matplotlib.axes._axes import _log as matplotlib_axes_logger\n",
    "matplotlib_axes_logger.setLevel('ERROR')"
   ]
  },
  {
   "cell_type": "code",
   "execution_count": 16,
   "metadata": {},
   "outputs": [],
   "source": [
    "labels = []\n",
    "tokens = []\n",
    "classes = []\n",
    "\n",
    "samples = 10\n",
    "#random.sample(list(model.wv.vocab), samples)):#['ссора', 'iphone', 'обидел', 'красивый', 'нравится', 'домашка']):#random.sample(list(model.wv.vocab), 10):\n",
    "for i, word in enumerate(['covid']):\n",
    "    tokens.append(model.wv[word])\n",
    "    labels.append(word)\n",
    "    classes.append(i)\n",
    "    for similar_word, similarity in model.wv.most_similar(word, topn=24):\n",
    "        tokens.append(model.wv[similar_word])\n",
    "        labels.append(similar_word)\n",
    "        classes.append(i)"
   ]
  },
  {
   "cell_type": "code",
   "execution_count": 17,
   "metadata": {
    "scrolled": false
   },
   "outputs": [
    {
     "data": {
      "image/png": "[encoded data removed]",
      "text/plain": [
       "<Figure size 1152x648 with 1 Axes>"
      ]
     },
     "metadata": {
      "needs_background": "light"
     },
     "output_type": "display_data"
    }
   ],
   "source": [
    "tsne_plot(labels, tokens, classes, samples)"
   ]
  },
  {
   "cell_type": "markdown",
   "metadata": {},
   "source": [
    "Model sparsity can be reduced by collect more dataset"
   ]
  }
 ],
 "metadata": {
  "kernelspec": {
   "display_name": "Python 3",
   "language": "python",
   "name": "python3"
  },
  "language_info": {
   "codemirror_mode": {
    "name": "ipython",
    "version": 3
   },
   "file_extension": ".py",
   "mimetype": "text/x-python",
   "name": "python",
   "nbconvert_exporter": "python",
   "pygments_lexer": "ipython3",
   "version": "3.8.3"
  }
 },
 "nbformat": 4,
 "nbformat_minor": 4
}
