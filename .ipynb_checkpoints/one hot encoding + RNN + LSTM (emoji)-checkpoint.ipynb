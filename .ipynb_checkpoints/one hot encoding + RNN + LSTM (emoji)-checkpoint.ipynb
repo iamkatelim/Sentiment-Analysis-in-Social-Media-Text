{
 "cells": [
  {
   "cell_type": "markdown",
   "metadata": {},
   "source": [
    "https://www.tensorflow.org/tutorials/text/text_classification_rnn"
   ]
  },
  {
   "cell_type": "code",
   "execution_count": 1,
   "metadata": {},
   "outputs": [],
   "source": [
    "import numpy as np\n",
    "import tensorflow as tf\n",
    "from tensorflow.keras import losses\n",
    "from keras import regularizers\n",
    "from keras.models import load_model\n",
    "import os\n",
    "import tensorflow_datasets as tfds"
   ]
  },
  {
   "cell_type": "code",
   "execution_count": 2,
   "metadata": {},
   "outputs": [
    {
     "name": "stdout",
     "output_type": "stream",
     "text": [
      "2.4.1\n"
     ]
    }
   ],
   "source": [
    "print(tf.version.VERSION)"
   ]
  },
  {
   "cell_type": "code",
   "execution_count": 2,
   "metadata": {},
   "outputs": [],
   "source": [
    "import matplotlib.pyplot as plt\n",
    "\n",
    "def plot_graphs(history, metric):\n",
    "    plt.plot(history.history[metric])\n",
    "    plt.plot(history.history['val_'+metric], '')\n",
    "    plt.xlabel(\"Epochs\")\n",
    "    plt.ylabel(metric)\n",
    "    plt.legend([metric, 'val_'+metric])"
   ]
  },
  {
   "cell_type": "code",
   "execution_count": 3,
   "metadata": {},
   "outputs": [],
   "source": [
    "import pandas as pd"
   ]
  },
  {
   "cell_type": "code",
   "execution_count": 4,
   "metadata": {},
   "outputs": [
    {
     "data": {
      "text/html": [
       "<div>\n",
       "<style scoped>\n",
       "    .dataframe tbody tr th:only-of-type {\n",
       "        vertical-align: middle;\n",
       "    }\n",
       "\n",
       "    .dataframe tbody tr th {\n",
       "        vertical-align: top;\n",
       "    }\n",
       "\n",
       "    .dataframe thead th {\n",
       "        text-align: right;\n",
       "    }\n",
       "</style>\n",
       "<table border=\"1\" class=\"dataframe\">\n",
       "  <thead>\n",
       "    <tr style=\"text-align: right;\">\n",
       "      <th></th>\n",
       "      <th>date</th>\n",
       "      <th>text</th>\n",
       "      <th>sentiment</th>\n",
       "      <th>processed</th>\n",
       "      <th>normalized</th>\n",
       "      <th>check</th>\n",
       "      <th>check_stop</th>\n",
       "    </tr>\n",
       "  </thead>\n",
       "  <tbody>\n",
       "    <tr>\n",
       "      <th>0</th>\n",
       "      <td>20210221</td>\n",
       "      <td>#dsnr salam dato.. lebih kurang 15km dari ruma...</td>\n",
       "      <td>negative</td>\n",
       "      <td>salam dato lebih kurang  km dari rumah ke kila...</td>\n",
       "      <td>salam dato lebih kurang km dari rumah ke kilan...</td>\n",
       "      <td>salam dato lebih kurang kkm dari rumah ke kila...</td>\n",
       "      <td>kurang kkm rumah kilang pkp pkb pkpp tidak tur...</td>\n",
       "    </tr>\n",
       "    <tr>\n",
       "      <th>1</th>\n",
       "      <td>20210204</td>\n",
       "      <td>#noorhishamabdullah you’re not dr.fauci materi...</td>\n",
       "      <td>negative</td>\n",
       "      <td>you re not dr fauci material you re just pn gr...</td>\n",
       "      <td>you re not dr fauci material you re just pun g...</td>\n",
       "      <td>you re not dr fauci material you re just pun g...</td>\n",
       "      <td>not fauci material grabmart boy</td>\n",
       "    </tr>\n",
       "    <tr>\n",
       "      <th>2</th>\n",
       "      <td>20210130</td>\n",
       "      <td>#share dan #like page #the_information_news un...</td>\n",
       "      <td>neutral</td>\n",
       "      <td>dan page untuk mendapatkan khabar berita yang ...</td>\n",
       "      <td>dan page untuk mendapatkan khabar berita yang ...</td>\n",
       "      <td>dan page untuk mendapatkan khabar berita yang ...</td>\n",
       "      <td>page khabar berita saudara patani selatan thai...</td>\n",
       "    </tr>\n",
       "    <tr>\n",
       "      <th>3</th>\n",
       "      <td>20210202</td>\n",
       "      <td>1 dunia sedang &amp; terus diperbodohkan dgn agend...</td>\n",
       "      <td>negative</td>\n",
       "      <td>satu dunia sedang and terus diperbodohkan dgn ...</td>\n",
       "      <td>satu dunia sedang and terus diperbodohkan deng...</td>\n",
       "      <td>satu dunia sedang and terus diperbodohkan deng...</td>\n",
       "      <td>dunia diperbodohkan agenda yahudi ekonomi duni...</td>\n",
       "    </tr>\n",
       "    <tr>\n",
       "      <th>4</th>\n",
       "      <td>20210206</td>\n",
       "      <td>1 hari sy harap angka nie turun single digit m...</td>\n",
       "      <td>positive</td>\n",
       "      <td>satu hari sy harap angka nie turun single digi...</td>\n",
       "      <td>satu hari sy harap angka ini turun single digi...</td>\n",
       "      <td>satu hari sy harap angka ini turun single digi...</td>\n",
       "      <td>harap angka turun single digit capai zero case...</td>\n",
       "    </tr>\n",
       "    <tr>\n",
       "      <th>...</th>\n",
       "      <td>...</td>\n",
       "      <td>...</td>\n",
       "      <td>...</td>\n",
       "      <td>...</td>\n",
       "      <td>...</td>\n",
       "      <td>...</td>\n",
       "      <td>...</td>\n",
       "    </tr>\n",
       "    <tr>\n",
       "      <th>7902</th>\n",
       "      <td>20210121</td>\n",
       "      <td>wish</td>\n",
       "      <td>positive</td>\n",
       "      <td>wish</td>\n",
       "      <td>wish</td>\n",
       "      <td>wish</td>\n",
       "      <td>wish</td>\n",
       "    </tr>\n",
       "    <tr>\n",
       "      <th>7903</th>\n",
       "      <td>20210123</td>\n",
       "      <td>ya allah.. sy rasa satu pkra kita terlepas pan...</td>\n",
       "      <td>positive</td>\n",
       "      <td>ya allah sy rasa satu pkra kita terlepas panda...</td>\n",
       "      <td>ya allah sy rasa satu pkra kita terlepas panda...</td>\n",
       "      <td>ya allah sy rasa satu pkra kita terlepas panda...</td>\n",
       "      <td>pkra terlepas pandang lupa solat hajat bacaan ...</td>\n",
       "    </tr>\n",
       "    <tr>\n",
       "      <th>7904</th>\n",
       "      <td>20210124</td>\n",
       "      <td>ya allah mari kita brdoa bnyk2 smoga allah amp...</td>\n",
       "      <td>positive</td>\n",
       "      <td>ya allah mari kita brdoa bnyk  smoga allah amp...</td>\n",
       "      <td>ya allah mari kita brdoa banyak semoga allah a...</td>\n",
       "      <td>ya allah mari kita berdoa banyak semoga allah ...</td>\n",
       "      <td>mari berdoa banyak semoga ampunkan dosa harap ...</td>\n",
       "    </tr>\n",
       "    <tr>\n",
       "      <th>7905</th>\n",
       "      <td>20210125</td>\n",
       "      <td>yaallah ya tuhan ku sembuhkan la semua pesakit...</td>\n",
       "      <td>positive</td>\n",
       "      <td>yaallah ya tuhan ku sembuhkan la semua pesakit...</td>\n",
       "      <td>yaal lah ya tuhan ku sembuhkan la semua pesaki...</td>\n",
       "      <td>yaal lah ya tuhan aku sembuhkan la semua pesak...</td>\n",
       "      <td>tuhan sembuhkan pesakit covid tuhan lindungi k...</td>\n",
       "    </tr>\n",
       "    <tr>\n",
       "      <th>7906</th>\n",
       "      <td>20210121</td>\n",
       "      <td>😰more deaths. god have mercy 😰</td>\n",
       "      <td>negative</td>\n",
       "      <td>😰 more deaths god have mercy 😰</td>\n",
       "      <td>😰 more deaths god have mercy 😰</td>\n",
       "      <td>😰 more deaths god have mercy 😰</td>\n",
       "      <td>😰 deaths god mercy 😰</td>\n",
       "    </tr>\n",
       "  </tbody>\n",
       "</table>\n",
       "<p>7907 rows × 7 columns</p>\n",
       "</div>"
      ],
      "text/plain": [
       "          date                                               text sentiment  \\\n",
       "0     20210221  #dsnr salam dato.. lebih kurang 15km dari ruma...  negative   \n",
       "1     20210204  #noorhishamabdullah you’re not dr.fauci materi...  negative   \n",
       "2     20210130  #share dan #like page #the_information_news un...   neutral   \n",
       "3     20210202  1 dunia sedang & terus diperbodohkan dgn agend...  negative   \n",
       "4     20210206  1 hari sy harap angka nie turun single digit m...  positive   \n",
       "...        ...                                                ...       ...   \n",
       "7902  20210121                                               wish  positive   \n",
       "7903  20210123  ya allah.. sy rasa satu pkra kita terlepas pan...  positive   \n",
       "7904  20210124  ya allah mari kita brdoa bnyk2 smoga allah amp...  positive   \n",
       "7905  20210125  yaallah ya tuhan ku sembuhkan la semua pesakit...  positive   \n",
       "7906  20210121                     😰more deaths. god have mercy 😰  negative   \n",
       "\n",
       "                                              processed  \\\n",
       "0     salam dato lebih kurang  km dari rumah ke kila...   \n",
       "1     you re not dr fauci material you re just pn gr...   \n",
       "2     dan page untuk mendapatkan khabar berita yang ...   \n",
       "3     satu dunia sedang and terus diperbodohkan dgn ...   \n",
       "4     satu hari sy harap angka nie turun single digi...   \n",
       "...                                                 ...   \n",
       "7902                                               wish   \n",
       "7903  ya allah sy rasa satu pkra kita terlepas panda...   \n",
       "7904  ya allah mari kita brdoa bnyk  smoga allah amp...   \n",
       "7905  yaallah ya tuhan ku sembuhkan la semua pesakit...   \n",
       "7906                     😰 more deaths god have mercy 😰   \n",
       "\n",
       "                                             normalized  \\\n",
       "0     salam dato lebih kurang km dari rumah ke kilan...   \n",
       "1     you re not dr fauci material you re just pun g...   \n",
       "2     dan page untuk mendapatkan khabar berita yang ...   \n",
       "3     satu dunia sedang and terus diperbodohkan deng...   \n",
       "4     satu hari sy harap angka ini turun single digi...   \n",
       "...                                                 ...   \n",
       "7902                                               wish   \n",
       "7903  ya allah sy rasa satu pkra kita terlepas panda...   \n",
       "7904  ya allah mari kita brdoa banyak semoga allah a...   \n",
       "7905  yaal lah ya tuhan ku sembuhkan la semua pesaki...   \n",
       "7906                     😰 more deaths god have mercy 😰   \n",
       "\n",
       "                                                  check  \\\n",
       "0     salam dato lebih kurang kkm dari rumah ke kila...   \n",
       "1     you re not dr fauci material you re just pun g...   \n",
       "2     dan page untuk mendapatkan khabar berita yang ...   \n",
       "3     satu dunia sedang and terus diperbodohkan deng...   \n",
       "4     satu hari sy harap angka ini turun single digi...   \n",
       "...                                                 ...   \n",
       "7902                                               wish   \n",
       "7903  ya allah sy rasa satu pkra kita terlepas panda...   \n",
       "7904  ya allah mari kita berdoa banyak semoga allah ...   \n",
       "7905  yaal lah ya tuhan aku sembuhkan la semua pesak...   \n",
       "7906                     😰 more deaths god have mercy 😰   \n",
       "\n",
       "                                             check_stop  \n",
       "0     kurang kkm rumah kilang pkp pkb pkpp tidak tur...  \n",
       "1                       not fauci material grabmart boy  \n",
       "2     page khabar berita saudara patani selatan thai...  \n",
       "3     dunia diperbodohkan agenda yahudi ekonomi duni...  \n",
       "4     harap angka turun single digit capai zero case...  \n",
       "...                                                 ...  \n",
       "7902                                               wish  \n",
       "7903  pkra terlepas pandang lupa solat hajat bacaan ...  \n",
       "7904  mari berdoa banyak semoga ampunkan dosa harap ...  \n",
       "7905  tuhan sembuhkan pesakit covid tuhan lindungi k...  \n",
       "7906                               😰 deaths god mercy 😰  \n",
       "\n",
       "[7907 rows x 7 columns]"
      ]
     },
     "execution_count": 4,
     "metadata": {},
     "output_type": "execute_result"
    }
   ],
   "source": [
    "texts = pd.read_csv('3 classes/with emoji.csv')\n",
    "df = pd.DataFrame(texts)\n",
    "df"
   ]
  },
  {
   "cell_type": "code",
   "execution_count": 5,
   "metadata": {},
   "outputs": [],
   "source": [
    "df['sentiment'] = pd.Categorical(df['sentiment'])\n",
    "df['sentiment'] = df.sentiment.cat.codes"
   ]
  },
  {
   "cell_type": "code",
   "execution_count": 6,
   "metadata": {
    "scrolled": false
   },
   "outputs": [
    {
     "data": {
      "text/html": [
       "<div>\n",
       "<style scoped>\n",
       "    .dataframe tbody tr th:only-of-type {\n",
       "        vertical-align: middle;\n",
       "    }\n",
       "\n",
       "    .dataframe tbody tr th {\n",
       "        vertical-align: top;\n",
       "    }\n",
       "\n",
       "    .dataframe thead th {\n",
       "        text-align: right;\n",
       "    }\n",
       "</style>\n",
       "<table border=\"1\" class=\"dataframe\">\n",
       "  <thead>\n",
       "    <tr style=\"text-align: right;\">\n",
       "      <th></th>\n",
       "      <th>date</th>\n",
       "      <th>text</th>\n",
       "      <th>sentiment</th>\n",
       "      <th>processed</th>\n",
       "      <th>normalized</th>\n",
       "      <th>check</th>\n",
       "      <th>check_stop</th>\n",
       "    </tr>\n",
       "  </thead>\n",
       "  <tbody>\n",
       "    <tr>\n",
       "      <th>0</th>\n",
       "      <td>20210221</td>\n",
       "      <td>#dsnr salam dato.. lebih kurang 15km dari ruma...</td>\n",
       "      <td>0</td>\n",
       "      <td>salam dato lebih kurang  km dari rumah ke kila...</td>\n",
       "      <td>salam dato lebih kurang km dari rumah ke kilan...</td>\n",
       "      <td>salam dato lebih kurang kkm dari rumah ke kila...</td>\n",
       "      <td>kurang kkm rumah kilang pkp pkb pkpp tidak tur...</td>\n",
       "    </tr>\n",
       "    <tr>\n",
       "      <th>1</th>\n",
       "      <td>20210204</td>\n",
       "      <td>#noorhishamabdullah you’re not dr.fauci materi...</td>\n",
       "      <td>0</td>\n",
       "      <td>you re not dr fauci material you re just pn gr...</td>\n",
       "      <td>you re not dr fauci material you re just pun g...</td>\n",
       "      <td>you re not dr fauci material you re just pun g...</td>\n",
       "      <td>not fauci material grabmart boy</td>\n",
       "    </tr>\n",
       "    <tr>\n",
       "      <th>2</th>\n",
       "      <td>20210130</td>\n",
       "      <td>#share dan #like page #the_information_news un...</td>\n",
       "      <td>1</td>\n",
       "      <td>dan page untuk mendapatkan khabar berita yang ...</td>\n",
       "      <td>dan page untuk mendapatkan khabar berita yang ...</td>\n",
       "      <td>dan page untuk mendapatkan khabar berita yang ...</td>\n",
       "      <td>page khabar berita saudara patani selatan thai...</td>\n",
       "    </tr>\n",
       "    <tr>\n",
       "      <th>3</th>\n",
       "      <td>20210202</td>\n",
       "      <td>1 dunia sedang &amp; terus diperbodohkan dgn agend...</td>\n",
       "      <td>0</td>\n",
       "      <td>satu dunia sedang and terus diperbodohkan dgn ...</td>\n",
       "      <td>satu dunia sedang and terus diperbodohkan deng...</td>\n",
       "      <td>satu dunia sedang and terus diperbodohkan deng...</td>\n",
       "      <td>dunia diperbodohkan agenda yahudi ekonomi duni...</td>\n",
       "    </tr>\n",
       "    <tr>\n",
       "      <th>4</th>\n",
       "      <td>20210206</td>\n",
       "      <td>1 hari sy harap angka nie turun single digit m...</td>\n",
       "      <td>2</td>\n",
       "      <td>satu hari sy harap angka nie turun single digi...</td>\n",
       "      <td>satu hari sy harap angka ini turun single digi...</td>\n",
       "      <td>satu hari sy harap angka ini turun single digi...</td>\n",
       "      <td>harap angka turun single digit capai zero case...</td>\n",
       "    </tr>\n",
       "    <tr>\n",
       "      <th>...</th>\n",
       "      <td>...</td>\n",
       "      <td>...</td>\n",
       "      <td>...</td>\n",
       "      <td>...</td>\n",
       "      <td>...</td>\n",
       "      <td>...</td>\n",
       "      <td>...</td>\n",
       "    </tr>\n",
       "    <tr>\n",
       "      <th>7902</th>\n",
       "      <td>20210121</td>\n",
       "      <td>wish</td>\n",
       "      <td>2</td>\n",
       "      <td>wish</td>\n",
       "      <td>wish</td>\n",
       "      <td>wish</td>\n",
       "      <td>wish</td>\n",
       "    </tr>\n",
       "    <tr>\n",
       "      <th>7903</th>\n",
       "      <td>20210123</td>\n",
       "      <td>ya allah.. sy rasa satu pkra kita terlepas pan...</td>\n",
       "      <td>2</td>\n",
       "      <td>ya allah sy rasa satu pkra kita terlepas panda...</td>\n",
       "      <td>ya allah sy rasa satu pkra kita terlepas panda...</td>\n",
       "      <td>ya allah sy rasa satu pkra kita terlepas panda...</td>\n",
       "      <td>pkra terlepas pandang lupa solat hajat bacaan ...</td>\n",
       "    </tr>\n",
       "    <tr>\n",
       "      <th>7904</th>\n",
       "      <td>20210124</td>\n",
       "      <td>ya allah mari kita brdoa bnyk2 smoga allah amp...</td>\n",
       "      <td>2</td>\n",
       "      <td>ya allah mari kita brdoa bnyk  smoga allah amp...</td>\n",
       "      <td>ya allah mari kita brdoa banyak semoga allah a...</td>\n",
       "      <td>ya allah mari kita berdoa banyak semoga allah ...</td>\n",
       "      <td>mari berdoa banyak semoga ampunkan dosa harap ...</td>\n",
       "    </tr>\n",
       "    <tr>\n",
       "      <th>7905</th>\n",
       "      <td>20210125</td>\n",
       "      <td>yaallah ya tuhan ku sembuhkan la semua pesakit...</td>\n",
       "      <td>2</td>\n",
       "      <td>yaallah ya tuhan ku sembuhkan la semua pesakit...</td>\n",
       "      <td>yaal lah ya tuhan ku sembuhkan la semua pesaki...</td>\n",
       "      <td>yaal lah ya tuhan aku sembuhkan la semua pesak...</td>\n",
       "      <td>tuhan sembuhkan pesakit covid tuhan lindungi k...</td>\n",
       "    </tr>\n",
       "    <tr>\n",
       "      <th>7906</th>\n",
       "      <td>20210121</td>\n",
       "      <td>😰more deaths. god have mercy 😰</td>\n",
       "      <td>0</td>\n",
       "      <td>😰 more deaths god have mercy 😰</td>\n",
       "      <td>😰 more deaths god have mercy 😰</td>\n",
       "      <td>😰 more deaths god have mercy 😰</td>\n",
       "      <td>😰 deaths god mercy 😰</td>\n",
       "    </tr>\n",
       "  </tbody>\n",
       "</table>\n",
       "<p>7907 rows × 7 columns</p>\n",
       "</div>"
      ],
      "text/plain": [
       "          date                                               text  sentiment  \\\n",
       "0     20210221  #dsnr salam dato.. lebih kurang 15km dari ruma...          0   \n",
       "1     20210204  #noorhishamabdullah you’re not dr.fauci materi...          0   \n",
       "2     20210130  #share dan #like page #the_information_news un...          1   \n",
       "3     20210202  1 dunia sedang & terus diperbodohkan dgn agend...          0   \n",
       "4     20210206  1 hari sy harap angka nie turun single digit m...          2   \n",
       "...        ...                                                ...        ...   \n",
       "7902  20210121                                               wish          2   \n",
       "7903  20210123  ya allah.. sy rasa satu pkra kita terlepas pan...          2   \n",
       "7904  20210124  ya allah mari kita brdoa bnyk2 smoga allah amp...          2   \n",
       "7905  20210125  yaallah ya tuhan ku sembuhkan la semua pesakit...          2   \n",
       "7906  20210121                     😰more deaths. god have mercy 😰          0   \n",
       "\n",
       "                                              processed  \\\n",
       "0     salam dato lebih kurang  km dari rumah ke kila...   \n",
       "1     you re not dr fauci material you re just pn gr...   \n",
       "2     dan page untuk mendapatkan khabar berita yang ...   \n",
       "3     satu dunia sedang and terus diperbodohkan dgn ...   \n",
       "4     satu hari sy harap angka nie turun single digi...   \n",
       "...                                                 ...   \n",
       "7902                                               wish   \n",
       "7903  ya allah sy rasa satu pkra kita terlepas panda...   \n",
       "7904  ya allah mari kita brdoa bnyk  smoga allah amp...   \n",
       "7905  yaallah ya tuhan ku sembuhkan la semua pesakit...   \n",
       "7906                     😰 more deaths god have mercy 😰   \n",
       "\n",
       "                                             normalized  \\\n",
       "0     salam dato lebih kurang km dari rumah ke kilan...   \n",
       "1     you re not dr fauci material you re just pun g...   \n",
       "2     dan page untuk mendapatkan khabar berita yang ...   \n",
       "3     satu dunia sedang and terus diperbodohkan deng...   \n",
       "4     satu hari sy harap angka ini turun single digi...   \n",
       "...                                                 ...   \n",
       "7902                                               wish   \n",
       "7903  ya allah sy rasa satu pkra kita terlepas panda...   \n",
       "7904  ya allah mari kita brdoa banyak semoga allah a...   \n",
       "7905  yaal lah ya tuhan ku sembuhkan la semua pesaki...   \n",
       "7906                     😰 more deaths god have mercy 😰   \n",
       "\n",
       "                                                  check  \\\n",
       "0     salam dato lebih kurang kkm dari rumah ke kila...   \n",
       "1     you re not dr fauci material you re just pun g...   \n",
       "2     dan page untuk mendapatkan khabar berita yang ...   \n",
       "3     satu dunia sedang and terus diperbodohkan deng...   \n",
       "4     satu hari sy harap angka ini turun single digi...   \n",
       "...                                                 ...   \n",
       "7902                                               wish   \n",
       "7903  ya allah sy rasa satu pkra kita terlepas panda...   \n",
       "7904  ya allah mari kita berdoa banyak semoga allah ...   \n",
       "7905  yaal lah ya tuhan aku sembuhkan la semua pesak...   \n",
       "7906                     😰 more deaths god have mercy 😰   \n",
       "\n",
       "                                             check_stop  \n",
       "0     kurang kkm rumah kilang pkp pkb pkpp tidak tur...  \n",
       "1                       not fauci material grabmart boy  \n",
       "2     page khabar berita saudara patani selatan thai...  \n",
       "3     dunia diperbodohkan agenda yahudi ekonomi duni...  \n",
       "4     harap angka turun single digit capai zero case...  \n",
       "...                                                 ...  \n",
       "7902                                               wish  \n",
       "7903  pkra terlepas pandang lupa solat hajat bacaan ...  \n",
       "7904  mari berdoa banyak semoga ampunkan dosa harap ...  \n",
       "7905  tuhan sembuhkan pesakit covid tuhan lindungi k...  \n",
       "7906                               😰 deaths god mercy 😰  \n",
       "\n",
       "[7907 rows x 7 columns]"
      ]
     },
     "execution_count": 6,
     "metadata": {},
     "output_type": "execute_result"
    }
   ],
   "source": [
    "df\n",
    "# 0:negative 1:neutral 2:positive"
   ]
  },
  {
   "cell_type": "code",
   "execution_count": 7,
   "metadata": {
    "scrolled": true
   },
   "outputs": [
    {
     "name": "stdout",
     "output_type": "stream",
     "text": [
      "before cleaned:  (7907, 7)\n",
      "After:  (7905, 7)\n"
     ]
    }
   ],
   "source": [
    "# remove possible empty text cell\n",
    "print(\"before cleaned: \", df.shape)\n",
    "df['check_stop'].replace('', np.nan, inplace=True)\n",
    "df = df.dropna()\n",
    "df = df.reset_index(drop=True)\n",
    "print(\"After: \", df.shape)"
   ]
  },
  {
   "cell_type": "code",
   "execution_count": 8,
   "metadata": {},
   "outputs": [],
   "source": [
    "target = df['sentiment']"
   ]
  },
  {
   "cell_type": "code",
   "execution_count": 9,
   "metadata": {},
   "outputs": [
    {
     "data": {
      "text/plain": [
       "(7905, 3)"
      ]
     },
     "execution_count": 9,
     "metadata": {},
     "output_type": "execute_result"
    }
   ],
   "source": [
    "a = tf.keras.utils.to_categorical(df['sentiment'], num_classes=3)\n",
    "a.shape"
   ]
  },
  {
   "cell_type": "code",
   "execution_count": 10,
   "metadata": {},
   "outputs": [],
   "source": [
    "feature = df['check_stop']"
   ]
  },
  {
   "cell_type": "code",
   "execution_count": 11,
   "metadata": {},
   "outputs": [],
   "source": [
    "dataset = tf.data.Dataset.from_tensor_slices((feature.values, a))"
   ]
  },
  {
   "cell_type": "code",
   "execution_count": 12,
   "metadata": {},
   "outputs": [
    {
     "name": "stdout",
     "output_type": "stream",
     "text": [
      "Features: b'kurang kkm rumah kilang pkp pkb pkpp tidak turun kes pengurusan tunggang terbalik kejap buka kejap tutup kejap buka kejap tutup gayanya tidak habis', Target: [1. 0. 0.]\n",
      "Features: b'not fauci material grabmart boy', Target: [1. 0. 0.]\n",
      "Features: b'page khabar berita saudara patani selatan thailand link', Target: [0. 1. 0.]\n",
      "Features: b'dunia diperbodohkan agenda yahudi ekonomi dunia covid pkp rakyat bosan serik tidak kais tidak sodok kena kais halal swt sampai ajal mati \\xe2\\x98\\x9d \\xf0\\x9f\\x8f\\xbe', Target: [1. 0. 0.]\n",
      "Features: b'harap angka turun single digit capai zero case doakan follow sop guys \\xf0\\x9f\\xa4\\xb2', Target: [0. 0. 1.]\n"
     ]
    }
   ],
   "source": [
    "for feat, targ in dataset.take(5):\n",
    "    print ('Features: {}, Target: {}'.format(feat, targ))"
   ]
  },
  {
   "cell_type": "code",
   "execution_count": 13,
   "metadata": {},
   "outputs": [],
   "source": [
    "BUFFER_SIZE = 10000\n",
    "BATCH_SIZE = 64"
   ]
  },
  {
   "cell_type": "code",
   "execution_count": 14,
   "metadata": {},
   "outputs": [],
   "source": [
    "train_ds_size = int(0.80 * df.shape[0])\n",
    "val_ds_size = int(0.10 * df.shape[0])\n",
    "test_ds_size = int(df.shape[0] - train_ds_size - val_ds_size)\n",
    "\n",
    "train_data = dataset.take(train_ds_size)\n",
    "test_test_data = dataset.skip(test_ds_size + val_ds_size)\n",
    "val_data = test_test_data.take(val_ds_size)\n",
    "test_data = test_test_data.skip(test_ds_size)"
   ]
  },
  {
   "cell_type": "code",
   "execution_count": 15,
   "metadata": {},
   "outputs": [
    {
     "name": "stdout",
     "output_type": "stream",
     "text": [
      "6324\n",
      "790\n",
      "5533\n"
     ]
    }
   ],
   "source": [
    "print(len(list(train_data.as_numpy_iterator())))\n",
    "print(len(list(val_data.as_numpy_iterator())))\n",
    "print(len(list(test_data.as_numpy_iterator())))"
   ]
  },
  {
   "cell_type": "code",
   "execution_count": 17,
   "metadata": {},
   "outputs": [],
   "source": [
    "#all_dataset = dataset.shuffle(BUFFER_SIZE).batch(BATCH_SIZE).prefetch(tf.data.AUTOTUNE)\n",
    "train_dataset = train_data.shuffle(BUFFER_SIZE).batch(BATCH_SIZE).prefetch(tf.data.AUTOTUNE)\n",
    "val_dataset = val_data.shuffle(BUFFER_SIZE).batch(BATCH_SIZE).prefetch(tf.data.AUTOTUNE)\n",
    "test_dataset = test_data.batch(BATCH_SIZE).prefetch(tf.data.AUTOTUNE)"
   ]
  },
  {
   "cell_type": "code",
   "execution_count": 18,
   "metadata": {
    "scrolled": true
   },
   "outputs": [
    {
     "name": "stdout",
     "output_type": "stream",
     "text": [
      "texts:  [b'please close schools not strong fight adults bear disease help kids please take actions goes hands parents'\n",
      " b'pm menteri cucuk tidak sampingan baru rakyat jangan jadi rakyat bahan uji kaji'\n",
      " b'mara rakyat malaysia']\n",
      "\n",
      "labels:  [[1. 0. 0.]\n",
      " [1. 0. 0.]\n",
      " [0. 1. 0.]]\n"
     ]
    }
   ],
   "source": [
    "for example, label in train_dataset.take(1):\n",
    "    print('texts: ', example.numpy()[:3])\n",
    "    print()\n",
    "    print('labels: ', label.numpy()[:3])"
   ]
  },
  {
   "cell_type": "markdown",
   "metadata": {},
   "source": [
    "### Create Text Encoder"
   ]
  },
  {
   "cell_type": "code",
   "execution_count": 19,
   "metadata": {},
   "outputs": [],
   "source": [
    "VOCAB_SIZE=10155\n",
    "encoder = tf.keras.layers.experimental.preprocessing.TextVectorization(max_tokens=VOCAB_SIZE)\n",
    "encoder.adapt(train_dataset.map(lambda text, label: text))"
   ]
  },
  {
   "cell_type": "code",
   "execution_count": 20,
   "metadata": {
    "scrolled": true
   },
   "outputs": [
    {
     "data": {
      "text/plain": [
       "10155"
      ]
     },
     "execution_count": 20,
     "metadata": {},
     "output_type": "execute_result"
    }
   ],
   "source": [
    "len(encoder.get_vocabulary())"
   ]
  },
  {
   "cell_type": "markdown",
   "metadata": {},
   "source": [
    "The .adapt method sets the layer's vocabulary. Here are the first 20 tokens. After the padding and unknown tokens they're sorted by frequency:"
   ]
  },
  {
   "cell_type": "code",
   "execution_count": 21,
   "metadata": {
    "scrolled": false
   },
   "outputs": [
    {
     "data": {
      "text/plain": [
       "array(['', '[UNK]', 'kes', 'tidak', 'pkp', 'covid', 'tak', 'boleh',\n",
       "       'turun', 'rakyat', 'tapi', 'sop', 'alhamdulillah', 'kena',\n",
       "       'negeri', 'baru', 'bila', 'jangan', 'banyak', 'buka'], dtype='<U32')"
      ]
     },
     "execution_count": 21,
     "metadata": {},
     "output_type": "execute_result"
    }
   ],
   "source": [
    "vocab = np.array(encoder.get_vocabulary())\n",
    "vocab[:20]"
   ]
  },
  {
   "cell_type": "code",
   "execution_count": 22,
   "metadata": {},
   "outputs": [
    {
     "data": {
      "text/plain": [
       "array(['complacency', 'complacement', 'comparing', 'committee',\n",
       "       'commited', 'commfirm', 'commenting', 'commenters', 'comirnaty',\n",
       "       'comfrom', 'comforting', 'comfort', 'comferm', 'comedian',\n",
       "       'combination', 'com', 'colours', 'color', 'collect', 'collar',\n",
       "       'collapse', 'cohorts', 'code', 'cod', 'cocoland', 'cock', 'cobit',\n",
       "       'cobaan', 'cntrol', 'cnt', 'cnfrm', 'cna', 'cmyk', 'cmnee', 'cmfm',\n",
       "       'cmburu', 'clues', 'clueless', 'clue', 'club', 'closure', 'closes',\n",
       "       'closely', 'clinic', 'click', 'cleaning', 'cleaners', 'cleaner',\n",
       "       'clash', 'ckop', 'ck', 'civil', 'civ', 'citer', 'cirit', 'cintai',\n",
       "       'cilakak', 'cikku', 'churches', 'chugging', 'choh', 'chngkat',\n",
       "       'chin', 'chill', 'cheap', 'chayo', 'charketeaw', 'channels',\n",
       "       'changed', 'changat', 'chaiyok', 'chains', 'chai', 'cg', 'cewahh',\n",
       "       'cetongg', 'certainly', 'certain', 'cerr', 'cerminan', 'cermat',\n",
       "       'ceriakan', 'cerah', 'cepuk', 'cept', 'cepatkan', 'cepak', 'centu',\n",
       "       'cents', 'centres', 'centrally', 'central', 'cenderahati',\n",
       "       'cenang', 'cemuih', 'cemuh', 'cempera', 'celupar', 'celikkan',\n",
       "       'celik'], dtype='<U32')"
      ]
     },
     "execution_count": 22,
     "metadata": {},
     "output_type": "execute_result"
    }
   ],
   "source": [
    "vocab = np.array(encoder.get_vocabulary())\n",
    "vocab[-100:]"
   ]
  },
  {
   "cell_type": "markdown",
   "metadata": {},
   "source": [
    "Once the vocabulary is set, the layer can encode text into indices. The tensors of indices are 0-padded to the longest sequence in the batch (unless you set a fixed output_sequence_length):"
   ]
  },
  {
   "cell_type": "code",
   "execution_count": 23,
   "metadata": {
    "scrolled": true
   },
   "outputs": [
    {
     "data": {
      "text/plain": [
       "array([[ 154,  569,  606,   86, 1323, 1403,    1, 3420, 3300,  849,  797,\n",
       "         154,  276, 2192, 1045, 2081, 1507,    0,    0,    0,    0,    0,\n",
       "           0,    0,    0,    0,    0,    0,    0,    0,    0,    0,    0,\n",
       "           0,    0,    0,    0,    0,    0,    0,    0,    0],\n",
       "       [ 335,  102,  379,    3, 1680,   15,    9,   17,   42,    9, 3431,\n",
       "         619,  974,    0,    0,    0,    0,    0,    0,    0,    0,    0,\n",
       "           0,    0,    0,    0,    0,    0,    0,    0,    0,    0,    0,\n",
       "           0,    0,    0,    0,    0,    0,    0,    0,    0],\n",
       "       [1034,    9,   20,    0,    0,    0,    0,    0,    0,    0,    0,\n",
       "           0,    0,    0,    0,    0,    0,    0,    0,    0,    0,    0,\n",
       "           0,    0,    0,    0,    0,    0,    0,    0,    0,    0,    0,\n",
       "           0,    0,    0,    0,    0,    0,    0,    0,    0]],\n",
       "      dtype=int64)"
      ]
     },
     "execution_count": 23,
     "metadata": {},
     "output_type": "execute_result"
    }
   ],
   "source": [
    "encoded_example = encoder(example)[:3].numpy()\n",
    "encoded_example"
   ]
  },
  {
   "cell_type": "markdown",
   "metadata": {},
   "source": [
    "With the default settings, the process is not completely reversible. There are three main reasons for that:\n",
    "\n",
    "1. The default value for preprocessing.TextVectorization's standardize argument is \"lower_and_strip_punctuation\".\n",
    "2. The limited vocabulary size and lack of character-based fallback results in some unknown tokens."
   ]
  },
  {
   "cell_type": "code",
   "execution_count": 24,
   "metadata": {},
   "outputs": [
    {
     "name": "stdout",
     "output_type": "stream",
     "text": [
      "Original:  b'please close schools not strong fight adults bear disease help kids please take actions goes hands parents'\n",
      "Round-trip:  please close schools not strong fight [UNK] bear disease help kids please take actions goes hands parents                         \n",
      "\n",
      "Original:  b'pm menteri cucuk tidak sampingan baru rakyat jangan jadi rakyat bahan uji kaji'\n",
      "Round-trip:  pm menteri cucuk tidak sampingan baru rakyat jangan jadi rakyat bahan uji kaji                             \n",
      "\n",
      "Original:  b'mara rakyat malaysia'\n",
      "Round-trip:  mara rakyat malaysia                                       \n",
      "\n"
     ]
    }
   ],
   "source": [
    "for n in range(3):\n",
    "    print(\"Original: \", example[n].numpy())\n",
    "    print(\"Round-trip: \", \" \".join(vocab[encoded_example[n]]))\n",
    "    print()"
   ]
  },
  {
   "cell_type": "markdown",
   "metadata": {},
   "source": [
    "1. This model can be build as a tf.keras.Sequential.\n",
    "\n",
    "2. The **first layer** is the *encoder*, which converts the text to a sequence of token indices.\n",
    "\n",
    "3. After the encoder is an **embedding layer**. An embedding layer stores one vector per word. When called, it converts the sequences of word indices to sequences of vectors. These vectors are trainable. After training (on enough data), words with similar meanings often have similar vectors.\n",
    "\n",
    "4. This index-lookup is much more efficient than the equivalent operation of passing a one-hot encoded vector through a tf.keras.layers.Dense layer.\n",
    "\n",
    "5. A **recurrent neural network (RNN)** processes sequence input by iterating through the elements. RNNs pass the outputs from one timestep to their input on the next timestep.\n",
    "\n",
    "6. The **tf.keras.layers.Bidirectional** wrapper can also be used with an RNN layer. This propagates the input *forward and backwards* through the RNN layer and then *concatenates the final output*.\n",
    "\n",
    "- The main advantage to a bidirectional RNN is that the signal from the beginning of the input doesn't need to be processed all the way through every timestep to affect the output.\n",
    "\n",
    "- The main disadvantage of a bidirectional RNN is that you can't efficiently stream predictions as words are being added to the end.\n",
    "\n",
    "7. After the RNN has converted the sequence to a single vector the two layers.Dense do some final processing, and *convert from this vector representation to a single logit* as the classification output.\n"
   ]
  },
  {
   "cell_type": "markdown",
   "metadata": {},
   "source": [
    "<img src=\"bidirectional.png\">"
   ]
  },
  {
   "cell_type": "code",
   "execution_count": 36,
   "metadata": {},
   "outputs": [],
   "source": [
    "model = tf.keras.Sequential([\n",
    "    encoder,\n",
    "    tf.keras.layers.Embedding(\n",
    "        input_dim=len(encoder.get_vocabulary()),\n",
    "        output_dim=64,\n",
    "        #embeddings_regularizer = tf.keras.regularizers.L2(0.01),\n",
    "        # Use masking to handle the variable sequence lengths\n",
    "        mask_zero=True),\n",
    "    tf.keras.layers.Bidirectional(tf.keras.layers.LSTM(64)),\n",
    "    tf.keras.layers.Dense(64, activation='softmax'),\n",
    "    tf.keras.layers.Dense(3)\n",
    "])"
   ]
  },
  {
   "cell_type": "markdown",
   "metadata": {},
   "source": [
    "Please note that Keras sequential model is used here since all the layers in the model only have single input and produce single output. In case you want to use stateful RNN layer, you might want to build your model with Keras functional API or model subclassing so that you can retrieve and reuse the RNN layer states. Please check Keras RNN guide for more details.\n",
    "\n",
    "The embedding layer uses masking to handle the varying sequence-lengths. All the layers after the Embedding support masking:\n"
   ]
  },
  {
   "cell_type": "markdown",
   "metadata": {},
   "source": [
    "The embedding layer uses masking to handle the varying sequence-lengths. All the layers after the Embedding support masking:"
   ]
  },
  {
   "cell_type": "code",
   "execution_count": 26,
   "metadata": {
    "scrolled": false
   },
   "outputs": [
    {
     "name": "stdout",
     "output_type": "stream",
     "text": [
      "[False, True, True, True, True]\n"
     ]
    }
   ],
   "source": [
    "print([layer.supports_masking for layer in model.layers])"
   ]
  },
  {
   "cell_type": "markdown",
   "metadata": {},
   "source": [
    "To confirm that this works as expected, evaluate a sentence twice. First, alone so there's no padding to mask:"
   ]
  },
  {
   "cell_type": "code",
   "execution_count": 27,
   "metadata": {
    "scrolled": true
   },
   "outputs": [
    {
     "name": "stdout",
     "output_type": "stream",
     "text": [
      "[0.02628981 0.02240745 0.00085859]\n"
     ]
    }
   ],
   "source": [
    "# predict on a sample text without padding.\n",
    "\n",
    "sample_text = ('alhamdulillah kes aktif menurun')\n",
    "predictions = model.predict(np.array([sample_text]))\n",
    "print(predictions[0])"
   ]
  },
  {
   "cell_type": "markdown",
   "metadata": {},
   "source": [
    "Now, evaluate it again in a batch with a longer sentence. The result should be identical:\n",
    "\n"
   ]
  },
  {
   "cell_type": "code",
   "execution_count": null,
   "metadata": {},
   "outputs": [],
   "source": [
    "# predict on a sample text with padding\n",
    "\n",
    "padding = \"the \" * 2000\n",
    "predictions = model.predict(np.array([sample_text, padding]))\n",
    "print(predictions[0])"
   ]
  },
  {
   "cell_type": "markdown",
   "metadata": {},
   "source": [
    "Compile the Keras model to configure the training process:"
   ]
  },
  {
   "cell_type": "code",
   "execution_count": 37,
   "metadata": {},
   "outputs": [],
   "source": [
    "model.compile(loss=tf.keras.losses.CategoricalCrossentropy(from_logits=True),\n",
    "              optimizer=tf.keras.optimizers.Adam(0.001),\n",
    "              metrics=['accuracy'])"
   ]
  },
  {
   "cell_type": "code",
   "execution_count": 38,
   "metadata": {
    "scrolled": true
   },
   "outputs": [],
   "source": [
    "reduce_lr = tf.keras.callbacks.ReduceLROnPlateau(monitor= 'val_accuracy',\n",
    "                                                 factor= 0.1,\n",
    "                                                 patience= 10,\n",
    "                                                 verbose= 1,\n",
    "                                                 min_lr= 0.00001)\n",
    "\n",
    "#file_path = \"cnn_weights.{epoch:02d}-{val_loss:.2f}.hdf5\"\n",
    "checkpoint_path = \"training_1/one_layer_lstm_emoji.ckpt\"\n",
    "checkpoint_dir = os.path.dirname(checkpoint_path)\n",
    "#model_chkpt = callbacks.ModelCheckpoint(filepath=file_path,monitor= metric, save_best_only=True)\n",
    "model_chkpt = tf.keras.callbacks.ModelCheckpoint(filepath=checkpoint_path, \n",
    "                                                 monitor='val_accuracy', \n",
    "                                                 save_weights_only=True,\n",
    "                                                 verbose=1, save_best_only=True, mode='max')\n",
    "early_stopping_callback = tf.keras.callbacks.EarlyStopping(monitor = 'val_accuracy', patience = 15)"
   ]
  },
  {
   "cell_type": "markdown",
   "metadata": {},
   "source": [
    "### Train the Model"
   ]
  },
  {
   "cell_type": "code",
   "execution_count": 39,
   "metadata": {},
   "outputs": [
    {
     "name": "stdout",
     "output_type": "stream",
     "text": [
      "Epoch 1/1000\n",
      "99/99 [==============================] - 29s 139ms/step - loss: 1.0390 - accuracy: 0.5473 - val_loss: 0.8904 - val_accuracy: 0.6823\n",
      "\n",
      "Epoch 00001: val_accuracy improved from -inf to 0.68228, saving model to training_1\\one_layer_lstm_emoji.ckpt\n",
      "Epoch 2/1000\n",
      "99/99 [==============================] - 10s 97ms/step - loss: 0.8540 - accuracy: 0.7199 - val_loss: 0.7975 - val_accuracy: 0.7025\n",
      "\n",
      "Epoch 00002: val_accuracy improved from 0.68228 to 0.70253, saving model to training_1\\one_layer_lstm_emoji.ckpt\n",
      "Epoch 3/1000\n",
      "99/99 [==============================] - 10s 97ms/step - loss: 0.7570 - accuracy: 0.7490 - val_loss: 0.7427 - val_accuracy: 0.7253\n",
      "\n",
      "Epoch 00003: val_accuracy improved from 0.70253 to 0.72532, saving model to training_1\\one_layer_lstm_emoji.ckpt\n",
      "Epoch 4/1000\n",
      "99/99 [==============================] - 9s 91ms/step - loss: 0.6900 - accuracy: 0.7730 - val_loss: 0.6970 - val_accuracy: 0.7380\n",
      "\n",
      "Epoch 00004: val_accuracy improved from 0.72532 to 0.73797, saving model to training_1\\one_layer_lstm_emoji.ckpt\n",
      "Epoch 5/1000\n",
      "99/99 [==============================] - 9s 91ms/step - loss: 0.6325 - accuracy: 0.7854 - val_loss: 0.6503 - val_accuracy: 0.7481\n",
      "\n",
      "Epoch 00005: val_accuracy improved from 0.73797 to 0.74810, saving model to training_1\\one_layer_lstm_emoji.ckpt\n",
      "Epoch 6/1000\n",
      "99/99 [==============================] - 10s 98ms/step - loss: 0.6015 - accuracy: 0.7884 - val_loss: 0.6197 - val_accuracy: 0.7696\n",
      "\n",
      "Epoch 00006: val_accuracy improved from 0.74810 to 0.76962, saving model to training_1\\one_layer_lstm_emoji.ckpt\n",
      "Epoch 7/1000\n",
      "99/99 [==============================] - 9s 93ms/step - loss: 0.5593 - accuracy: 0.8235 - val_loss: 0.5751 - val_accuracy: 0.8266\n",
      "\n",
      "Epoch 00007: val_accuracy improved from 0.76962 to 0.82658, saving model to training_1\\one_layer_lstm_emoji.ckpt\n",
      "Epoch 8/1000\n",
      "99/99 [==============================] - 9s 91ms/step - loss: 0.5115 - accuracy: 0.8638 - val_loss: 0.5290 - val_accuracy: 0.8481\n",
      "\n",
      "Epoch 00008: val_accuracy improved from 0.82658 to 0.84810, saving model to training_1\\one_layer_lstm_emoji.ckpt\n",
      "Epoch 9/1000\n",
      "99/99 [==============================] - 9s 94ms/step - loss: 0.4621 - accuracy: 0.8855 - val_loss: 0.4889 - val_accuracy: 0.8696\n",
      "\n",
      "Epoch 00009: val_accuracy improved from 0.84810 to 0.86962, saving model to training_1\\one_layer_lstm_emoji.ckpt\n",
      "Epoch 10/1000\n",
      "99/99 [==============================] - 9s 93ms/step - loss: 0.4205 - accuracy: 0.9011 - val_loss: 0.4687 - val_accuracy: 0.8709\n",
      "\n",
      "Epoch 00010: val_accuracy improved from 0.86962 to 0.87089, saving model to training_1\\one_layer_lstm_emoji.ckpt\n",
      "Epoch 11/1000\n",
      "99/99 [==============================] - 10s 101ms/step - loss: 0.3859 - accuracy: 0.9119 - val_loss: 0.4267 - val_accuracy: 0.8924\n",
      "\n",
      "Epoch 00011: val_accuracy improved from 0.87089 to 0.89241, saving model to training_1\\one_layer_lstm_emoji.ckpt\n",
      "Epoch 12/1000\n",
      "99/99 [==============================] - 9s 94ms/step - loss: 0.3723 - accuracy: 0.9100 - val_loss: 0.4108 - val_accuracy: 0.8949\n",
      "\n",
      "Epoch 00012: val_accuracy improved from 0.89241 to 0.89494, saving model to training_1\\one_layer_lstm_emoji.ckpt\n",
      "Epoch 13/1000\n",
      "99/99 [==============================] - 9s 95ms/step - loss: 0.3341 - accuracy: 0.9232 - val_loss: 0.3906 - val_accuracy: 0.9013\n",
      "\n",
      "Epoch 00013: val_accuracy improved from 0.89494 to 0.90127, saving model to training_1\\one_layer_lstm_emoji.ckpt\n",
      "Epoch 14/1000\n",
      "99/99 [==============================] - 9s 90ms/step - loss: 0.3262 - accuracy: 0.9227 - val_loss: 0.3810 - val_accuracy: 0.9013\n",
      "\n",
      "Epoch 00014: val_accuracy did not improve from 0.90127\n",
      "Epoch 15/1000\n",
      "99/99 [==============================] - 9s 93ms/step - loss: 0.3190 - accuracy: 0.9228 - val_loss: 0.3544 - val_accuracy: 0.9114\n",
      "\n",
      "Epoch 00015: val_accuracy improved from 0.90127 to 0.91139, saving model to training_1\\one_layer_lstm_emoji.ckpt\n",
      "Epoch 16/1000\n",
      "99/99 [==============================] - 9s 96ms/step - loss: 0.3013 - accuracy: 0.9279 - val_loss: 0.3424 - val_accuracy: 0.9139\n",
      "\n",
      "Epoch 00016: val_accuracy improved from 0.91139 to 0.91392, saving model to training_1\\one_layer_lstm_emoji.ckpt\n",
      "Epoch 17/1000\n",
      "99/99 [==============================] - 10s 97ms/step - loss: 0.2938 - accuracy: 0.9291 - val_loss: 0.3326 - val_accuracy: 0.9139\n",
      "\n",
      "Epoch 00017: val_accuracy did not improve from 0.91392\n",
      "Epoch 18/1000\n",
      "99/99 [==============================] - 10s 98ms/step - loss: 0.2807 - accuracy: 0.9324 - val_loss: 0.3166 - val_accuracy: 0.9139\n",
      "\n",
      "Epoch 00018: val_accuracy did not improve from 0.91392\n",
      "Epoch 19/1000\n",
      "99/99 [==============================] - 9s 95ms/step - loss: 0.2504 - accuracy: 0.9399 - val_loss: 0.3015 - val_accuracy: 0.9241\n",
      "\n",
      "Epoch 00019: val_accuracy improved from 0.91392 to 0.92405, saving model to training_1\\one_layer_lstm_emoji.ckpt\n",
      "Epoch 20/1000\n",
      "99/99 [==============================] - 10s 97ms/step - loss: 0.2411 - accuracy: 0.9452 - val_loss: 0.2909 - val_accuracy: 0.9253\n",
      "\n",
      "Epoch 00020: val_accuracy improved from 0.92405 to 0.92532, saving model to training_1\\one_layer_lstm_emoji.ckpt\n",
      "Epoch 21/1000\n",
      "99/99 [==============================] - 10s 98ms/step - loss: 0.2335 - accuracy: 0.9472 - val_loss: 0.2553 - val_accuracy: 0.9329\n",
      "\n",
      "Epoch 00021: val_accuracy improved from 0.92532 to 0.93291, saving model to training_1\\one_layer_lstm_emoji.ckpt\n",
      "Epoch 22/1000\n",
      "99/99 [==============================] - 9s 94ms/step - loss: 0.2146 - accuracy: 0.9490 - val_loss: 0.2335 - val_accuracy: 0.9443\n",
      "\n",
      "Epoch 00022: val_accuracy improved from 0.93291 to 0.94430, saving model to training_1\\one_layer_lstm_emoji.ckpt\n",
      "Epoch 23/1000\n",
      "99/99 [==============================] - 10s 103ms/step - loss: 0.1937 - accuracy: 0.9579 - val_loss: 0.2174 - val_accuracy: 0.9494\n",
      "\n",
      "Epoch 00023: val_accuracy improved from 0.94430 to 0.94937, saving model to training_1\\one_layer_lstm_emoji.ckpt\n",
      "Epoch 24/1000\n",
      "99/99 [==============================] - 10s 103ms/step - loss: 0.1896 - accuracy: 0.9588 - val_loss: 0.1819 - val_accuracy: 0.9570\n",
      "\n",
      "Epoch 00024: val_accuracy improved from 0.94937 to 0.95696, saving model to training_1\\one_layer_lstm_emoji.ckpt\n",
      "Epoch 25/1000\n",
      "99/99 [==============================] - 10s 105ms/step - loss: 0.1711 - accuracy: 0.9624 - val_loss: 0.1712 - val_accuracy: 0.9646\n",
      "\n",
      "Epoch 00025: val_accuracy improved from 0.95696 to 0.96456, saving model to training_1\\one_layer_lstm_emoji.ckpt\n",
      "Epoch 26/1000\n",
      "99/99 [==============================] - 11s 106ms/step - loss: 0.1584 - accuracy: 0.9662 - val_loss: 0.1550 - val_accuracy: 0.9671\n",
      "\n",
      "Epoch 00026: val_accuracy improved from 0.96456 to 0.96709, saving model to training_1\\one_layer_lstm_emoji.ckpt\n",
      "Epoch 27/1000\n",
      "99/99 [==============================] - 11s 107ms/step - loss: 0.1552 - accuracy: 0.9690 - val_loss: 0.1591 - val_accuracy: 0.9658\n",
      "\n",
      "Epoch 00027: val_accuracy did not improve from 0.96709\n",
      "Epoch 28/1000\n",
      "99/99 [==============================] - 10s 101ms/step - loss: 0.1552 - accuracy: 0.9669 - val_loss: 0.1454 - val_accuracy: 0.9722\n",
      "\n",
      "Epoch 00028: val_accuracy improved from 0.96709 to 0.97215, saving model to training_1\\one_layer_lstm_emoji.ckpt\n",
      "Epoch 29/1000\n",
      "99/99 [==============================] - 10s 104ms/step - loss: 0.1538 - accuracy: 0.9676 - val_loss: 0.1334 - val_accuracy: 0.9747\n",
      "\n",
      "Epoch 00029: val_accuracy improved from 0.97215 to 0.97468, saving model to training_1\\one_layer_lstm_emoji.ckpt\n",
      "Epoch 30/1000\n",
      "99/99 [==============================] - 11s 106ms/step - loss: 0.1430 - accuracy: 0.9702 - val_loss: 0.1273 - val_accuracy: 0.9734\n",
      "\n",
      "Epoch 00030: val_accuracy did not improve from 0.97468\n",
      "Epoch 31/1000\n",
      "99/99 [==============================] - 10s 103ms/step - loss: 0.1343 - accuracy: 0.9738 - val_loss: 0.1247 - val_accuracy: 0.9785\n",
      "\n",
      "Epoch 00031: val_accuracy improved from 0.97468 to 0.97848, saving model to training_1\\one_layer_lstm_emoji.ckpt\n",
      "Epoch 32/1000\n",
      "99/99 [==============================] - 10s 103ms/step - loss: 0.1334 - accuracy: 0.9730 - val_loss: 0.1158 - val_accuracy: 0.9772\n",
      "\n",
      "Epoch 00032: val_accuracy did not improve from 0.97848\n",
      "Epoch 33/1000\n",
      "99/99 [==============================] - 10s 100ms/step - loss: 0.1475 - accuracy: 0.9674 - val_loss: 0.1127 - val_accuracy: 0.9797\n",
      "\n",
      "Epoch 00033: val_accuracy improved from 0.97848 to 0.97975, saving model to training_1\\one_layer_lstm_emoji.ckpt\n",
      "Epoch 34/1000\n"
     ]
    },
    {
     "name": "stdout",
     "output_type": "stream",
     "text": [
      "99/99 [==============================] - 10s 105ms/step - loss: 0.1290 - accuracy: 0.9733 - val_loss: 0.1052 - val_accuracy: 0.9823\n",
      "\n",
      "Epoch 00034: val_accuracy improved from 0.97975 to 0.98228, saving model to training_1\\one_layer_lstm_emoji.ckpt\n",
      "Epoch 35/1000\n",
      "99/99 [==============================] - 11s 110ms/step - loss: 0.1228 - accuracy: 0.9757 - val_loss: 0.1026 - val_accuracy: 0.9823\n",
      "\n",
      "Epoch 00035: val_accuracy did not improve from 0.98228\n",
      "Epoch 36/1000\n",
      "99/99 [==============================] - 11s 116ms/step - loss: 0.1230 - accuracy: 0.9756 - val_loss: 0.0971 - val_accuracy: 0.9835\n",
      "\n",
      "Epoch 00036: val_accuracy improved from 0.98228 to 0.98354, saving model to training_1\\one_layer_lstm_emoji.ckpt\n",
      "Epoch 37/1000\n",
      "99/99 [==============================] - 11s 116ms/step - loss: 0.1059 - accuracy: 0.9797 - val_loss: 0.0983 - val_accuracy: 0.9823\n",
      "\n",
      "Epoch 00037: val_accuracy did not improve from 0.98354\n",
      "Epoch 38/1000\n",
      "99/99 [==============================] - 12s 117ms/step - loss: 0.1134 - accuracy: 0.9774 - val_loss: 0.0945 - val_accuracy: 0.9823\n",
      "\n",
      "Epoch 00038: val_accuracy did not improve from 0.98354\n",
      "Epoch 39/1000\n",
      "99/99 [==============================] - 9s 95ms/step - loss: 0.1049 - accuracy: 0.9802 - val_loss: 0.0916 - val_accuracy: 0.9835\n",
      "\n",
      "Epoch 00039: val_accuracy did not improve from 0.98354\n",
      "Epoch 40/1000\n",
      "99/99 [==============================] - 11s 112ms/step - loss: 0.1042 - accuracy: 0.9801 - val_loss: 0.0916 - val_accuracy: 0.9823\n",
      "\n",
      "Epoch 00040: val_accuracy did not improve from 0.98354\n",
      "Epoch 41/1000\n",
      "99/99 [==============================] - 9s 95ms/step - loss: 0.1123 - accuracy: 0.9785 - val_loss: 0.1011 - val_accuracy: 0.9797\n",
      "\n",
      "Epoch 00041: val_accuracy did not improve from 0.98354\n",
      "Epoch 42/1000\n",
      "99/99 [==============================] - 11s 108ms/step - loss: 0.1098 - accuracy: 0.9779 - val_loss: 0.0928 - val_accuracy: 0.9810\n",
      "\n",
      "Epoch 00042: val_accuracy did not improve from 0.98354\n",
      "Epoch 43/1000\n",
      "99/99 [==============================] - 11s 109ms/step - loss: 0.1092 - accuracy: 0.9788 - val_loss: 0.0869 - val_accuracy: 0.9835\n",
      "\n",
      "Epoch 00043: val_accuracy did not improve from 0.98354\n",
      "Epoch 44/1000\n",
      "99/99 [==============================] - 10s 102ms/step - loss: 0.1040 - accuracy: 0.9783 - val_loss: 0.1345 - val_accuracy: 0.9646\n",
      "\n",
      "Epoch 00044: val_accuracy did not improve from 0.98354\n",
      "Epoch 45/1000\n",
      "99/99 [==============================] - 10s 101ms/step - loss: 0.1262 - accuracy: 0.9705 - val_loss: 0.0975 - val_accuracy: 0.9797\n",
      "\n",
      "Epoch 00045: val_accuracy did not improve from 0.98354\n",
      "Epoch 46/1000\n",
      "99/99 [==============================] - 10s 103ms/step - loss: 0.1221 - accuracy: 0.9753 - val_loss: 0.0957 - val_accuracy: 0.9810\n",
      "\n",
      "Epoch 00046: ReduceLROnPlateau reducing learning rate to 0.00010000000474974513.\n",
      "\n",
      "Epoch 00046: val_accuracy did not improve from 0.98354\n",
      "Epoch 47/1000\n",
      "99/99 [==============================] - 10s 100ms/step - loss: 0.1074 - accuracy: 0.9785 - val_loss: 0.0865 - val_accuracy: 0.9835\n",
      "\n",
      "Epoch 00047: val_accuracy did not improve from 0.98354\n",
      "Epoch 48/1000\n",
      "99/99 [==============================] - 10s 103ms/step - loss: 0.0983 - accuracy: 0.9806 - val_loss: 0.0851 - val_accuracy: 0.9848\n",
      "\n",
      "Epoch 00048: val_accuracy improved from 0.98354 to 0.98481, saving model to training_1\\one_layer_lstm_emoji.ckpt\n",
      "Epoch 49/1000\n",
      "99/99 [==============================] - 10s 102ms/step - loss: 0.0998 - accuracy: 0.9812 - val_loss: 0.0840 - val_accuracy: 0.9848\n",
      "\n",
      "Epoch 00049: val_accuracy did not improve from 0.98481\n",
      "Epoch 50/1000\n",
      "99/99 [==============================] - 10s 102ms/step - loss: 0.1012 - accuracy: 0.9808 - val_loss: 0.0836 - val_accuracy: 0.9848\n",
      "\n",
      "Epoch 00050: val_accuracy did not improve from 0.98481\n",
      "Epoch 51/1000\n",
      "99/99 [==============================] - 10s 100ms/step - loss: 0.1056 - accuracy: 0.9791 - val_loss: 0.0833 - val_accuracy: 0.9848\n",
      "\n",
      "Epoch 00051: val_accuracy did not improve from 0.98481\n",
      "Epoch 52/1000\n",
      "99/99 [==============================] - 10s 101ms/step - loss: 0.0936 - accuracy: 0.9821 - val_loss: 0.0829 - val_accuracy: 0.9848\n",
      "\n",
      "Epoch 00052: val_accuracy did not improve from 0.98481\n",
      "Epoch 53/1000\n",
      "99/99 [==============================] - 10s 102ms/step - loss: 0.0920 - accuracy: 0.9822 - val_loss: 0.0823 - val_accuracy: 0.9848\n",
      "\n",
      "Epoch 00053: val_accuracy did not improve from 0.98481\n",
      "Epoch 54/1000\n",
      "99/99 [==============================] - 10s 99ms/step - loss: 0.1009 - accuracy: 0.9802 - val_loss: 0.0816 - val_accuracy: 0.9848\n",
      "\n",
      "Epoch 00054: val_accuracy did not improve from 0.98481\n",
      "Epoch 55/1000\n",
      "99/99 [==============================] - 10s 102ms/step - loss: 0.0876 - accuracy: 0.9837 - val_loss: 0.0814 - val_accuracy: 0.9848\n",
      "\n",
      "Epoch 00055: val_accuracy did not improve from 0.98481\n",
      "Epoch 56/1000\n",
      "99/99 [==============================] - 10s 103ms/step - loss: 0.0952 - accuracy: 0.9818 - val_loss: 0.0813 - val_accuracy: 0.9848\n",
      "\n",
      "Epoch 00056: val_accuracy did not improve from 0.98481\n",
      "Epoch 57/1000\n",
      "99/99 [==============================] - 11s 108ms/step - loss: 0.1002 - accuracy: 0.9804 - val_loss: 0.0809 - val_accuracy: 0.9848\n",
      "\n",
      "Epoch 00057: val_accuracy did not improve from 0.98481\n",
      "Epoch 58/1000\n",
      "99/99 [==============================] - 11s 113ms/step - loss: 0.1037 - accuracy: 0.9805 - val_loss: 0.0807 - val_accuracy: 0.9848\n",
      "\n",
      "Epoch 00058: ReduceLROnPlateau reducing learning rate to 1.0000000474974514e-05.\n",
      "\n",
      "Epoch 00058: val_accuracy did not improve from 0.98481\n",
      "Epoch 59/1000\n",
      "99/99 [==============================] - 12s 119ms/step - loss: 0.0888 - accuracy: 0.9837 - val_loss: 0.0807 - val_accuracy: 0.9848\n",
      "\n",
      "Epoch 00059: val_accuracy did not improve from 0.98481\n",
      "Epoch 60/1000\n",
      "99/99 [==============================] - 13s 129ms/step - loss: 0.0996 - accuracy: 0.9809 - val_loss: 0.0807 - val_accuracy: 0.9848\n",
      "\n",
      "Epoch 00060: val_accuracy did not improve from 0.98481\n",
      "Epoch 61/1000\n",
      "99/99 [==============================] - 12s 118ms/step - loss: 0.0915 - accuracy: 0.9827 - val_loss: 0.0807 - val_accuracy: 0.9848\n",
      "\n",
      "Epoch 00061: val_accuracy did not improve from 0.98481\n",
      "Epoch 62/1000\n",
      "99/99 [==============================] - 11s 110ms/step - loss: 0.0996 - accuracy: 0.9807 - val_loss: 0.0806 - val_accuracy: 0.9848\n",
      "\n",
      "Epoch 00062: val_accuracy did not improve from 0.98481\n",
      "Epoch 63/1000\n",
      "99/99 [==============================] - 11s 109ms/step - loss: 0.1006 - accuracy: 0.9797 - val_loss: 0.0806 - val_accuracy: 0.9848\n",
      "\n",
      "Epoch 00063: val_accuracy did not improve from 0.98481\n"
     ]
    }
   ],
   "source": [
    "history = model.fit(train_dataset, epochs=1000,\n",
    "                    validation_data=val_dataset,\n",
    "                    shuffle=True,\n",
    "                    batch_size=32,\n",
    "                    callbacks = [early_stopping_callback, reduce_lr, model_chkpt])"
   ]
  },
  {
   "cell_type": "code",
   "execution_count": 40,
   "metadata": {
    "scrolled": true
   },
   "outputs": [
    {
     "data": {
      "text/plain": [
       "(0.0, 1.0223584204912186)"
      ]
     },
     "execution_count": 40,
     "metadata": {},
     "output_type": "execute_result"
    },
    {
     "data": {
      "image/png": "[encoded data removed]",
      "text/plain": [
       "<Figure size 1152x576 with 2 Axes>"
      ]
     },
     "metadata": {
      "needs_background": "light"
     },
     "output_type": "display_data"
    }
   ],
   "source": [
    "plt.figure(figsize=(16,8))\n",
    "plt.subplot(1,2,1)\n",
    "plot_graphs(history, 'accuracy')\n",
    "plt.ylim(None,1)\n",
    "plt.subplot(1,2,2)\n",
    "plot_graphs(history, 'loss')\n",
    "plt.ylim(0,None)"
   ]
  },
  {
   "cell_type": "code",
   "execution_count": 41,
   "metadata": {
    "scrolled": true
   },
   "outputs": [],
   "source": [
    "#model.load_weights(checkpoint_path)"
   ]
  },
  {
   "cell_type": "code",
   "execution_count": 42,
   "metadata": {
    "scrolled": true
   },
   "outputs": [
    {
     "name": "stdout",
     "output_type": "stream",
     "text": [
      "87/87 - 2s - loss: 0.4021 - accuracy: 0.9042\n",
      "lss: 0.4021\n",
      "acc: 0.9042\n"
     ]
    }
   ],
   "source": [
    "loss,acc = model.evaluate(test_dataset, verbose = 2, batch_size = 32)\n",
    "print(\"lss: %.4f\" % (loss))\n",
    "print(\"acc: %.4f\" % (acc))"
   ]
  },
  {
   "cell_type": "code",
   "execution_count": 43,
   "metadata": {},
   "outputs": [
    {
     "name": "stdout",
     "output_type": "stream",
     "text": [
      "Model: \"sequential_1\"\n",
      "_________________________________________________________________\n",
      "Layer (type)                 Output Shape              Param #   \n",
      "=================================================================\n",
      "text_vectorization (TextVect (None, None)              0         \n",
      "_________________________________________________________________\n",
      "embedding_1 (Embedding)      (None, None, 64)          649920    \n",
      "_________________________________________________________________\n",
      "bidirectional_1 (Bidirection (None, 128)               66048     \n",
      "_________________________________________________________________\n",
      "dense_2 (Dense)              (None, 64)                8256      \n",
      "_________________________________________________________________\n",
      "dense_3 (Dense)              (None, 3)                 195       \n",
      "=================================================================\n",
      "Total params: 724,419\n",
      "Trainable params: 724,419\n",
      "Non-trainable params: 0\n",
      "_________________________________________________________________\n"
     ]
    }
   ],
   "source": [
    "model.summary()"
   ]
  },
  {
   "cell_type": "markdown",
   "metadata": {},
   "source": [
    "### Stack two or more LSTM layers\n",
    "\n",
    "Keras recurrent layers have two available modes that are controlled by the return_sequences constructor argument:\n",
    "\n",
    "- If False it returns only the last output for each input sequence (a 2D tensor of shape (batch_size, output_features)). This is the default, used in the previous model.\n",
    "\n",
    "- If True the full sequences of successive outputs for each timestep is returned (a 3D tensor of shape (batch_size, timesteps, output_features)).\n",
    "\n",
    "Here is what the flow of information looks like with return_sequences=True:\n"
   ]
  },
  {
   "cell_type": "markdown",
   "metadata": {},
   "source": [
    "<img src=\"image/layered_bidirectional.png\">\n",
    "\n",
    "The interesting thing about using an RNN with return_sequences=True is that the output still has 3-axes, like the input, so it can be passed to another RNN layer, like this:"
   ]
  },
  {
   "cell_type": "code",
   "execution_count": 44,
   "metadata": {},
   "outputs": [],
   "source": [
    "model = tf.keras.Sequential([\n",
    "    encoder,\n",
    "    tf.keras.layers.Embedding(len(encoder.get_vocabulary()), 64, mask_zero=True),\n",
    "    tf.keras.layers.Bidirectional(tf.keras.layers.LSTM(64,  return_sequences=True)),\n",
    "    tf.keras.layers.Bidirectional(tf.keras.layers.LSTM(32)),\n",
    "    tf.keras.layers.Dense(64, activation='relu'),\n",
    "    tf.keras.layers.Dropout(0.5),\n",
    "    tf.keras.layers.Dense(3)\n",
    "])"
   ]
  },
  {
   "cell_type": "code",
   "execution_count": 45,
   "metadata": {},
   "outputs": [],
   "source": [
    "model.compile(loss=tf.keras.losses.CategoricalCrossentropy(from_logits=True),\n",
    "              optimizer=tf.keras.optimizers.Adam(0.001),\n",
    "              metrics=['accuracy'])"
   ]
  },
  {
   "cell_type": "code",
   "execution_count": 46,
   "metadata": {},
   "outputs": [],
   "source": [
    "reduce_lr = tf.keras.callbacks.ReduceLROnPlateau(monitor= 'val_accuracy',\n",
    "                                                 factor= 0.1,\n",
    "                                                 patience= 10,\n",
    "                                                 verbose= 1,\n",
    "                                                 min_lr= 0.00001)\n",
    "\n",
    "#file_path = \"cnn_weights.{epoch:02d}-{val_loss:.2f}.hdf5\"\n",
    "checkpoint_path = \"training_1/two_layer_lstm_emoji.ckpt\"\n",
    "checkpoint_dir = os.path.dirname(checkpoint_path)\n",
    "#model_chkpt = callbacks.ModelCheckpoint(filepath=file_path,monitor= metric, save_best_only=True)\n",
    "model_chkpt = tf.keras.callbacks.ModelCheckpoint(filepath=checkpoint_path, \n",
    "                                                 monitor='val_accuracy', \n",
    "                                                 save_weights_only=True,\n",
    "                                                 verbose=1, save_best_only=True, mode='max')\n",
    "early_stopping_callback = tf.keras.callbacks.EarlyStopping(monitor = 'val_accuracy', patience = 15)"
   ]
  },
  {
   "cell_type": "markdown",
   "metadata": {},
   "source": [
    "acc metric increases, while your val_acc metric decreases. This means that your model is fitting the training set better, but is losing it's ability to predict on new data, indicating that your model is starting to fit on noise and is beginning to overfit."
   ]
  },
  {
   "cell_type": "code",
   "execution_count": 47,
   "metadata": {
    "scrolled": false
   },
   "outputs": [
    {
     "name": "stdout",
     "output_type": "stream",
     "text": [
      "Epoch 1/1000\n",
      "99/99 [==============================] - 61s 274ms/step - loss: 0.9385 - accuracy: 0.5904 - val_loss: 0.5812 - val_accuracy: 0.7291\n",
      "\n",
      "Epoch 00001: val_accuracy improved from -inf to 0.72911, saving model to training_1\\two_layer_lstm_emoji.ckpt\n",
      "Epoch 2/1000\n",
      "99/99 [==============================] - 17s 169ms/step - loss: 0.5148 - accuracy: 0.7901 - val_loss: 0.3490 - val_accuracy: 0.8835\n",
      "\n",
      "Epoch 00002: val_accuracy improved from 0.72911 to 0.88354, saving model to training_1\\two_layer_lstm_emoji.ckpt\n",
      "Epoch 3/1000\n",
      "99/99 [==============================] - 19s 188ms/step - loss: 0.3161 - accuracy: 0.8927 - val_loss: 0.2016 - val_accuracy: 0.9291\n",
      "\n",
      "Epoch 00003: val_accuracy improved from 0.88354 to 0.92911, saving model to training_1\\two_layer_lstm_emoji.ckpt\n",
      "Epoch 4/1000\n",
      "99/99 [==============================] - 19s 191ms/step - loss: 0.2005 - accuracy: 0.9308 - val_loss: 0.1214 - val_accuracy: 0.9646\n",
      "\n",
      "Epoch 00004: val_accuracy improved from 0.92911 to 0.96456, saving model to training_1\\two_layer_lstm_emoji.ckpt\n",
      "Epoch 5/1000\n",
      "99/99 [==============================] - 20s 200ms/step - loss: 0.1314 - accuracy: 0.9586 - val_loss: 0.0816 - val_accuracy: 0.9759\n",
      "\n",
      "Epoch 00005: val_accuracy improved from 0.96456 to 0.97595, saving model to training_1\\two_layer_lstm_emoji.ckpt\n",
      "Epoch 6/1000\n",
      "99/99 [==============================] - 18s 187ms/step - loss: 0.0954 - accuracy: 0.9716 - val_loss: 0.0580 - val_accuracy: 0.9861\n",
      "\n",
      "Epoch 00006: val_accuracy improved from 0.97595 to 0.98608, saving model to training_1\\two_layer_lstm_emoji.ckpt\n",
      "Epoch 7/1000\n",
      "99/99 [==============================] - 18s 185ms/step - loss: 0.0863 - accuracy: 0.9732 - val_loss: 0.0627 - val_accuracy: 0.9785\n",
      "\n",
      "Epoch 00007: val_accuracy did not improve from 0.98608\n",
      "Epoch 8/1000\n",
      "99/99 [==============================] - 19s 191ms/step - loss: 0.0669 - accuracy: 0.9788 - val_loss: 0.0373 - val_accuracy: 0.9873\n",
      "\n",
      "Epoch 00008: val_accuracy improved from 0.98608 to 0.98734, saving model to training_1\\two_layer_lstm_emoji.ckpt\n",
      "Epoch 9/1000\n",
      "99/99 [==============================] - 21s 207ms/step - loss: 0.0582 - accuracy: 0.9812 - val_loss: 0.0314 - val_accuracy: 0.9924\n",
      "\n",
      "Epoch 00009: val_accuracy improved from 0.98734 to 0.99241, saving model to training_1\\two_layer_lstm_emoji.ckpt\n",
      "Epoch 10/1000\n",
      "99/99 [==============================] - 21s 218ms/step - loss: 0.0510 - accuracy: 0.9862 - val_loss: 0.0301 - val_accuracy: 0.9911\n",
      "\n",
      "Epoch 00010: val_accuracy did not improve from 0.99241\n",
      "Epoch 11/1000\n",
      "99/99 [==============================] - 23s 230ms/step - loss: 0.0353 - accuracy: 0.9884 - val_loss: 0.0283 - val_accuracy: 0.9924\n",
      "\n",
      "Epoch 00011: val_accuracy did not improve from 0.99241\n",
      "Epoch 12/1000\n",
      "99/99 [==============================] - 21s 209ms/step - loss: 0.0401 - accuracy: 0.9882 - val_loss: 0.0480 - val_accuracy: 0.9848\n",
      "\n",
      "Epoch 00012: val_accuracy did not improve from 0.99241\n",
      "Epoch 13/1000\n",
      "99/99 [==============================] - 21s 206ms/step - loss: 0.0361 - accuracy: 0.9887 - val_loss: 0.0218 - val_accuracy: 0.9937\n",
      "\n",
      "Epoch 00013: val_accuracy improved from 0.99241 to 0.99367, saving model to training_1\\two_layer_lstm_emoji.ckpt\n",
      "Epoch 14/1000\n",
      "99/99 [==============================] - 21s 216ms/step - loss: 0.0355 - accuracy: 0.9880 - val_loss: 0.0215 - val_accuracy: 0.9924\n",
      "\n",
      "Epoch 00014: val_accuracy did not improve from 0.99367\n",
      "Epoch 15/1000\n",
      "99/99 [==============================] - 20s 202ms/step - loss: 0.0313 - accuracy: 0.9897 - val_loss: 0.0274 - val_accuracy: 0.9911\n",
      "\n",
      "Epoch 00015: val_accuracy did not improve from 0.99367\n",
      "Epoch 16/1000\n",
      "99/99 [==============================] - 20s 201ms/step - loss: 0.0283 - accuracy: 0.9915 - val_loss: 0.0153 - val_accuracy: 0.9962\n",
      "\n",
      "Epoch 00016: val_accuracy improved from 0.99367 to 0.99620, saving model to training_1\\two_layer_lstm_emoji.ckpt\n",
      "Epoch 17/1000\n",
      "99/99 [==============================] - 20s 207ms/step - loss: 0.0298 - accuracy: 0.9886 - val_loss: 0.0164 - val_accuracy: 0.9911\n",
      "\n",
      "Epoch 00017: val_accuracy did not improve from 0.99620\n",
      "Epoch 18/1000\n",
      "99/99 [==============================] - 20s 206ms/step - loss: 0.0238 - accuracy: 0.9927 - val_loss: 0.0099 - val_accuracy: 0.9962\n",
      "\n",
      "Epoch 00018: val_accuracy did not improve from 0.99620\n",
      "Epoch 19/1000\n",
      "99/99 [==============================] - 20s 204ms/step - loss: 0.0198 - accuracy: 0.9935 - val_loss: 0.0096 - val_accuracy: 0.9975\n",
      "\n",
      "Epoch 00019: val_accuracy improved from 0.99620 to 0.99747, saving model to training_1\\two_layer_lstm_emoji.ckpt\n",
      "Epoch 20/1000\n",
      "99/99 [==============================] - 21s 209ms/step - loss: 0.0161 - accuracy: 0.9962 - val_loss: 0.0110 - val_accuracy: 0.9962\n",
      "\n",
      "Epoch 00020: val_accuracy did not improve from 0.99747\n",
      "Epoch 21/1000\n",
      "99/99 [==============================] - 20s 204ms/step - loss: 0.0230 - accuracy: 0.9934 - val_loss: 0.0198 - val_accuracy: 0.9949\n",
      "\n",
      "Epoch 00021: val_accuracy did not improve from 0.99747\n",
      "Epoch 22/1000\n",
      "99/99 [==============================] - 21s 210ms/step - loss: 0.0221 - accuracy: 0.9943 - val_loss: 0.0052 - val_accuracy: 1.0000\n",
      "\n",
      "Epoch 00022: val_accuracy improved from 0.99747 to 1.00000, saving model to training_1\\two_layer_lstm_emoji.ckpt\n",
      "Epoch 23/1000\n",
      "99/99 [==============================] - 21s 212ms/step - loss: 0.0125 - accuracy: 0.9970 - val_loss: 0.0035 - val_accuracy: 1.0000\n",
      "\n",
      "Epoch 00023: val_accuracy did not improve from 1.00000\n",
      "Epoch 24/1000\n",
      "99/99 [==============================] - 21s 217ms/step - loss: 0.0139 - accuracy: 0.9953 - val_loss: 0.0029 - val_accuracy: 1.0000\n",
      "\n",
      "Epoch 00024: val_accuracy did not improve from 1.00000\n",
      "Epoch 25/1000\n",
      "99/99 [==============================] - 22s 221ms/step - loss: 0.0091 - accuracy: 0.9978 - val_loss: 0.0034 - val_accuracy: 1.0000\n",
      "\n",
      "Epoch 00025: val_accuracy did not improve from 1.00000\n",
      "Epoch 26/1000\n",
      "99/99 [==============================] - 20s 204ms/step - loss: 0.0163 - accuracy: 0.9941 - val_loss: 0.0120 - val_accuracy: 0.9949\n",
      "\n",
      "Epoch 00026: val_accuracy did not improve from 1.00000\n",
      "Epoch 27/1000\n",
      "99/99 [==============================] - 21s 209ms/step - loss: 0.0375 - accuracy: 0.9904 - val_loss: 0.0171 - val_accuracy: 0.9924\n",
      "\n",
      "Epoch 00027: val_accuracy did not improve from 1.00000\n",
      "Epoch 28/1000\n",
      "99/99 [==============================] - 21s 211ms/step - loss: 0.0304 - accuracy: 0.9916 - val_loss: 0.0069 - val_accuracy: 0.9975\n",
      "\n",
      "Epoch 00028: val_accuracy did not improve from 1.00000\n",
      "Epoch 29/1000\n",
      "99/99 [==============================] - 22s 220ms/step - loss: 0.0154 - accuracy: 0.9952 - val_loss: 0.0083 - val_accuracy: 0.9975\n",
      "\n",
      "Epoch 00029: val_accuracy did not improve from 1.00000\n",
      "Epoch 30/1000\n",
      "99/99 [==============================] - 21s 213ms/step - loss: 0.0126 - accuracy: 0.9969 - val_loss: 0.0040 - val_accuracy: 0.9987\n",
      "\n",
      "Epoch 00030: val_accuracy did not improve from 1.00000\n",
      "Epoch 31/1000\n",
      "99/99 [==============================] - 21s 211ms/step - loss: 0.0092 - accuracy: 0.9983 - val_loss: 0.0033 - val_accuracy: 1.0000\n",
      "\n",
      "Epoch 00031: val_accuracy did not improve from 1.00000\n",
      "Epoch 32/1000\n",
      "99/99 [==============================] - 21s 212ms/step - loss: 0.0121 - accuracy: 0.9980 - val_loss: 0.0083 - val_accuracy: 0.9975\n",
      "\n",
      "Epoch 00032: ReduceLROnPlateau reducing learning rate to 0.00010000000474974513.\n",
      "\n",
      "Epoch 00032: val_accuracy did not improve from 1.00000\n",
      "Epoch 33/1000\n",
      "99/99 [==============================] - 21s 214ms/step - loss: 0.0087 - accuracy: 0.9985 - val_loss: 0.0023 - val_accuracy: 1.0000\n",
      "\n",
      "Epoch 00033: val_accuracy did not improve from 1.00000\n",
      "Epoch 34/1000\n",
      "99/99 [==============================] - 21s 213ms/step - loss: 0.0059 - accuracy: 0.9993 - val_loss: 0.0018 - val_accuracy: 1.0000\n",
      "\n",
      "Epoch 00034: val_accuracy did not improve from 1.00000\n",
      "Epoch 35/1000\n",
      "99/99 [==============================] - 22s 217ms/step - loss: 0.0071 - accuracy: 0.9990 - val_loss: 0.0017 - val_accuracy: 1.0000\n",
      "\n",
      "Epoch 00035: val_accuracy did not improve from 1.00000\n",
      "Epoch 36/1000\n",
      "99/99 [==============================] - 22s 219ms/step - loss: 0.0047 - accuracy: 0.9995 - val_loss: 0.0015 - val_accuracy: 1.0000\n",
      "\n",
      "Epoch 00036: val_accuracy did not improve from 1.00000\n",
      "Epoch 37/1000\n",
      "99/99 [==============================] - 22s 219ms/step - loss: 0.0033 - accuracy: 0.9997 - val_loss: 0.0015 - val_accuracy: 1.0000\n",
      "\n",
      "Epoch 00037: val_accuracy did not improve from 1.00000\n"
     ]
    }
   ],
   "source": [
    "history = model.fit(train_dataset, epochs=1000,\n",
    "                    validation_data=val_dataset,\n",
    "                    #shuffle=True,\n",
    "                    batch_size=32,\n",
    "                    callbacks = [early_stopping_callback, reduce_lr, model_chkpt])"
   ]
  },
  {
   "cell_type": "code",
   "execution_count": 51,
   "metadata": {
    "scrolled": true
   },
   "outputs": [
    {
     "name": "stdout",
     "output_type": "stream",
     "text": [
      "87/87 [==============================] - 5s 61ms/step - loss: 0.6635 - accuracy: 0.9185\n",
      "Test Loss: 0.6634677648544312\n",
      "Test Accuracy: 0.9184890389442444\n"
     ]
    }
   ],
   "source": [
    "model.load_weights(checkpoint_path)\n",
    "test_loss, test_acc = model.evaluate(test_dataset)\n",
    "\n",
    "print('Test Loss:', test_loss)\n",
    "print('Test Accuracy:', test_acc)"
   ]
  },
  {
   "cell_type": "code",
   "execution_count": 50,
   "metadata": {},
   "outputs": [
    {
     "data": {
      "text/plain": [
       "(0.0, 0.8398428760352544)"
      ]
     },
     "execution_count": 50,
     "metadata": {},
     "output_type": "execute_result"
    },
    {
     "data": {
      "image/png": "[encoded data removed]",
      "text/plain": [
       "<Figure size 1152x576 with 2 Axes>"
      ]
     },
     "metadata": {
      "needs_background": "light"
     },
     "output_type": "display_data"
    }
   ],
   "source": [
    "plt.figure(figsize=(16,8))\n",
    "plt.subplot(1,2,1)\n",
    "plot_graphs(history, 'accuracy')\n",
    "plt.ylim(None,1)\n",
    "plt.subplot(1,2,2)\n",
    "plot_graphs(history, 'loss')\n",
    "plt.ylim(0,None)"
   ]
  },
  {
   "cell_type": "markdown",
   "metadata": {},
   "source": [
    "### CNN"
   ]
  },
  {
   "cell_type": "code",
   "execution_count": null,
   "metadata": {},
   "outputs": [],
   "source": [
    "def ConvNet(embeddings, max_sequence_length, num_words, embedding_dim, labels_index):\n",
    "    embedding_layer = tf.keras.layers.Embedding(input_dim=len(encoder.get_vocabulary()),\n",
    "                            embedding_dim,\n",
    "                            weights=[embeddings],\n",
    "                            input_length=max_sequence_length,\n",
    "                            trainable=False)\n",
    "    \n",
    "    sequence_input = Input(shape=(max_sequence_length,), dtype='int32')\n",
    "    embedded_sequences = embedding_layer(sequence_input)\n",
    "    convs = []\n",
    "    filter_sizes = [2,3,4,5,6]\n",
    "    for filter_size in filter_sizes:\n",
    "        l_conv = Conv1D(filters=200, \n",
    "                        kernel_size=filter_size, \n",
    "                        activation='relu')(embedded_sequences)\n",
    "        l_pool = GlobalMaxPooling1D()(l_conv)\n",
    "        convs.append(l_pool)\n",
    "    l_merge = concatenate(convs, axis=1)\n",
    "    x = Dropout(0.1)(l_merge)  \n",
    "    x = Dense(128, activation='relu')(x)\n",
    "    x = Dropout(0.2)(x)\n",
    "    preds = Dense(labels_index, activation='sigmoid')(x)\n",
    "    model = Model(sequence_input, preds)\n",
    "    model.compile(loss='categorical_crossentropy',\n",
    "                  optimizer='adam',\n",
    "                  metrics=['acc'])\n",
    "    model.summary()\n",
    "    return model"
   ]
  },
  {
   "cell_type": "code",
   "execution_count": null,
   "metadata": {},
   "outputs": [],
   "source": [
    "label_names = ['0','1', '2']\n",
    "model = ConvNet(train_embedding_weights, \n",
    "                MAX_SEQUENCE_LENGTH, \n",
    "                len(train_word_index)+1, \n",
    "                embedding_dim, \n",
    "                len(list(label_names)))\n",
    "history = model.fit(train_dataset, epochs=10,\n",
    "                    validation_data=test_dataset, \n",
    "                    validation_steps=30)"
   ]
  },
  {
   "cell_type": "code",
   "execution_count": null,
   "metadata": {},
   "outputs": [],
   "source": [
    "training = model.fit(X_train, Y_train_trans, epochs=num_epochs, validation_split=0.1, shuffle=True, batch_size=batch_size)"
   ]
  }
 ],
 "metadata": {
  "kernelspec": {
   "display_name": "Python 3",
   "language": "python",
   "name": "python3"
  },
  "language_info": {
   "codemirror_mode": {
    "name": "ipython",
    "version": 3
   },
   "file_extension": ".py",
   "mimetype": "text/x-python",
   "name": "python",
   "nbconvert_exporter": "python",
   "pygments_lexer": "ipython3",
   "version": "3.8.3"
  }
 },
 "nbformat": 4,
 "nbformat_minor": 4
}
