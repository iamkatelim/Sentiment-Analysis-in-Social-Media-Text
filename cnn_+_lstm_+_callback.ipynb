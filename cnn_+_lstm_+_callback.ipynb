{
  "nbformat": 4,
  "nbformat_minor": 0,
  "metadata": {
    "colab": {
      "name": "cnn + lstm + callback.ipynb",
      "provenance": [],
      "collapsed_sections": []
    },
    "kernelspec": {
      "name": "python3",
      "display_name": "Python 3"
    },
    "language_info": {
      "name": "python"
    },
    "accelerator": "GPU"
  },
  "cells": [
    {
      "cell_type": "markdown",
      "metadata": {
        "id": "db0K-jLkA5hd"
      },
      "source": [
        "https://github.com/sunilgoda/nn_text_classification/blob/master/notebooks/NeuralNetworks_TextClassification.ipynb"
      ]
    },
    {
      "cell_type": "code",
      "metadata": {
        "id": "4EppmL34oEIo"
      },
      "source": [
        "import numpy as np\n",
        "import pandas as pd\n",
        "import tensorflow as tf\n",
        "import keras as k\n",
        "\n",
        "from sklearn.preprocessing import LabelEncoder\n",
        "from keras.preprocessing.text import Tokenizer\n",
        "from keras.preprocessing.sequence import pad_sequences\n",
        "from keras.utils import to_categorical\n",
        "from keras.layers import Dense, Input, Flatten,Dropout,BatchNormalization,Lambda\n",
        "from keras.layers import Conv1D,MaxPool1D,GlobalMaxPool1D,Embedding\n",
        "from keras.layers import LSTM,GRU,RNN\n",
        "from keras.models import Sequential\n",
        "from keras.optimizers import Adam, Adagrad,Adadelta,Nadam\n",
        "from keras import callbacks\n",
        "from keras import regularizers\n",
        "from keras.utils import plot_model\n",
        "from keras.models import load_model\n",
        "\n",
        "from matplotlib import pyplot as plt \n",
        "%matplotlib inline"
      ],
      "execution_count": 2,
      "outputs": []
    },
    {
      "cell_type": "code",
      "metadata": {
        "colab": {
          "resources": {
            "http://localhost:8080/nbextensions/google.colab/files.js": {
              "data": "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",
              "ok": true,
              "headers": [
                [
                  "content-type",
                  "application/javascript"
                ]
              ],
              "status": 200,
              "status_text": ""
            }
          },
          "base_uri": "https://localhost:8080/",
          "height": 72
        },
        "id": "bVo2QuFnoH8U",
        "outputId": "20bb8588-9ab0-41a6-f606-39de02158b85"
      },
      "source": [
        "from google.colab import files\n",
        "test = files.upload()"
      ],
      "execution_count": 3,
      "outputs": [
        {
          "output_type": "display_data",
          "data": {
            "text/html": [
              "\n",
              "     <input type=\"file\" id=\"files-4b203b7f-025d-4ad5-8888-0e7c45163452\" name=\"files[]\" multiple disabled\n",
              "        style=\"border:none\" />\n",
              "     <output id=\"result-4b203b7f-025d-4ad5-8888-0e7c45163452\">\n",
              "      Upload widget is only available when the cell has been executed in the\n",
              "      current browser session. Please rerun this cell to enable.\n",
              "      </output>\n",
              "      <script src=\"/nbextensions/google.colab/files.js\"></script> "
            ],
            "text/plain": [
              "<IPython.core.display.HTML object>"
            ]
          },
          "metadata": {
            "tags": []
          }
        },
        {
          "output_type": "stream",
          "text": [
            "Saving facebook_health_cases (augmented).csv to facebook_health_cases (augmented).csv\n"
          ],
          "name": "stdout"
        }
      ]
    },
    {
      "cell_type": "code",
      "metadata": {
        "colab": {
          "base_uri": "https://localhost:8080/",
          "height": 419
        },
        "id": "zCoest02qAc4",
        "outputId": "863505c1-c866-49cd-b129-7a11cc2805c0"
      },
      "source": [
        "texts = pd.read_csv('facebook_health_cases (augmented).csv')\n",
        "df = pd.DataFrame(texts)\n",
        "df"
      ],
      "execution_count": 4,
      "outputs": [
        {
          "output_type": "execute_result",
          "data": {
            "text/html": [
              "<div>\n",
              "<style scoped>\n",
              "    .dataframe tbody tr th:only-of-type {\n",
              "        vertical-align: middle;\n",
              "    }\n",
              "\n",
              "    .dataframe tbody tr th {\n",
              "        vertical-align: top;\n",
              "    }\n",
              "\n",
              "    .dataframe thead th {\n",
              "        text-align: right;\n",
              "    }\n",
              "</style>\n",
              "<table border=\"1\" class=\"dataframe\">\n",
              "  <thead>\n",
              "    <tr style=\"text-align: right;\">\n",
              "      <th></th>\n",
              "      <th>date</th>\n",
              "      <th>text</th>\n",
              "      <th>cleaned</th>\n",
              "      <th>sentiment</th>\n",
              "    </tr>\n",
              "  </thead>\n",
              "  <tbody>\n",
              "    <tr>\n",
              "      <th>0</th>\n",
              "      <td>20210309</td>\n",
              "      <td>\"Angka semua boleh direka ditambah ditolak ses...</td>\n",
              "      <td>angka direka ditambah ditolak sesuka hati rama...</td>\n",
              "      <td>negative</td>\n",
              "    </tr>\n",
              "    <tr>\n",
              "      <th>1</th>\n",
              "      <td>20210309</td>\n",
              "      <td>\"Angka semua boleh direka ditambah ditolak ses...</td>\n",
              "      <td>angka direka ditambah ditolak sesuka benda ram...</td>\n",
              "      <td>negative</td>\n",
              "    </tr>\n",
              "    <tr>\n",
              "      <th>2</th>\n",
              "      <td>20210309</td>\n",
              "      <td>\"Angka semua boleh direka ditambah ditolak ses...</td>\n",
              "      <td>angka direka menggandakan ditolak sesuka pokok...</td>\n",
              "      <td>negative</td>\n",
              "    </tr>\n",
              "    <tr>\n",
              "      <th>3</th>\n",
              "      <td>20210309</td>\n",
              "      <td>\"Angka semua boleh direka ditambah ditolak ses...</td>\n",
              "      <td>angka direka menggandakan ditolak sesuka benda...</td>\n",
              "      <td>negative</td>\n",
              "    </tr>\n",
              "    <tr>\n",
              "      <th>4</th>\n",
              "      <td>20210309</td>\n",
              "      <td>\"Angka semua boleh direka ditambah ditolak ses...</td>\n",
              "      <td>nombor direka menggandakan ditolak sesuka bend...</td>\n",
              "      <td>negative</td>\n",
              "    </tr>\n",
              "    <tr>\n",
              "      <th>...</th>\n",
              "      <td>...</td>\n",
              "      <td>...</td>\n",
              "      <td>...</td>\n",
              "      <td>...</td>\n",
              "    </tr>\n",
              "    <tr>\n",
              "      <th>42127</th>\n",
              "      <td>20210209</td>\n",
              "      <td>🥺 alhamdulillah semoga kta dapat mcm dlu lgi r...</td>\n",
              "      <td>semoga rakyat malaysia bersatu jangan terpisah...</td>\n",
              "      <td>positive</td>\n",
              "    </tr>\n",
              "    <tr>\n",
              "      <th>42128</th>\n",
              "      <td>20210209</td>\n",
              "      <td>🥺 alhamdulillah semoga kta dapat mcm dlu lgi r...</td>\n",
              "      <td>semoga rakyat malaysia bersatu jangan terpisah...</td>\n",
              "      <td>positive</td>\n",
              "    </tr>\n",
              "    <tr>\n",
              "      <th>42129</th>\n",
              "      <td>20210209</td>\n",
              "      <td>🥺 alhamdulillah semoga kta dapat mcm dlu lgi r...</td>\n",
              "      <td>semoga negeri malaysia bersatu jangan terpisah...</td>\n",
              "      <td>positive</td>\n",
              "    </tr>\n",
              "    <tr>\n",
              "      <th>42130</th>\n",
              "      <td>20210209</td>\n",
              "      <td>🥺 alhamdulillah semoga kta dapat mcm dlu lgi r...</td>\n",
              "      <td>semoga republik malaysia bersama-sama menghent...</td>\n",
              "      <td>positive</td>\n",
              "    </tr>\n",
              "    <tr>\n",
              "      <th>42131</th>\n",
              "      <td>20210209</td>\n",
              "      <td>🥺 alhamdulillah semoga kta dapat mcm dlu lgi r...</td>\n",
              "      <td>semoga republik malaysia bersama-sama membinas...</td>\n",
              "      <td>positive</td>\n",
              "    </tr>\n",
              "  </tbody>\n",
              "</table>\n",
              "<p>42132 rows × 4 columns</p>\n",
              "</div>"
            ],
            "text/plain": [
              "           date  ... sentiment\n",
              "0      20210309  ...  negative\n",
              "1      20210309  ...  negative\n",
              "2      20210309  ...  negative\n",
              "3      20210309  ...  negative\n",
              "4      20210309  ...  negative\n",
              "...         ...  ...       ...\n",
              "42127  20210209  ...  positive\n",
              "42128  20210209  ...  positive\n",
              "42129  20210209  ...  positive\n",
              "42130  20210209  ...  positive\n",
              "42131  20210209  ...  positive\n",
              "\n",
              "[42132 rows x 4 columns]"
            ]
          },
          "metadata": {
            "tags": []
          },
          "execution_count": 4
        }
      ]
    },
    {
      "cell_type": "code",
      "metadata": {
        "id": "8B-73KlLsOKj"
      },
      "source": [
        "from sklearn.model_selection import train_test_split\n",
        "\n",
        "X_train,X_test,Y_train,Y_test = train_test_split(df['cleaned'],df['sentiment'],test_size = 0.2,random_state = 42)"
      ],
      "execution_count": 9,
      "outputs": []
    },
    {
      "cell_type": "code",
      "metadata": {
        "colab": {
          "base_uri": "https://localhost:8080/",
          "height": 0
        },
        "id": "mNlQ3oT1s8hR",
        "outputId": "eff9a1e8-4678-4ce8-e673-5303e142d533"
      },
      "source": [
        "print(\"Max length: %s\" %df.cleaned.str.len().max())\n",
        "print(\"Mean length: %s\" %df.cleaned.str.len().mean())\n",
        "print(\"Min length: %s\" %df.cleaned.str.len().min())"
      ],
      "execution_count": 5,
      "outputs": [
        {
          "output_type": "stream",
          "text": [
            "Max length: 1275\n",
            "Mean length: 100.14922149435108\n",
            "Min length: 3\n"
          ],
          "name": "stdout"
        }
      ]
    },
    {
      "cell_type": "code",
      "metadata": {
        "id": "RkS_EQIFs8dn"
      },
      "source": [
        "MAX_SEQ_LEN = 700\n",
        "VOCAB_SIZE = 20000"
      ],
      "execution_count": 24,
      "outputs": []
    },
    {
      "cell_type": "markdown",
      "metadata": {
        "id": "T-drJcWjtzMZ"
      },
      "source": [
        "- fits_on_texts:\n",
        "\n",
        "Updates internal vocabulary based on a list of texts.\n",
        "\n",
        "In the case where texts contains lists, we assume each entry of the lists to be a token.\n",
        "\n",
        "Required before using texts_to_sequences or texts_to_matrix.\n",
        "\n",
        "\n",
        "- texts_to_sequences:\n",
        "\n",
        "Transforms each text in texts to a sequence of integers.\n",
        "\n",
        "Only top num_words-1 most frequent words will be taken into account. Only words known by the tokenizer will be taken into account."
      ]
    },
    {
      "cell_type": "code",
      "metadata": {
        "id": "HQ6PBUdcs8a5"
      },
      "source": [
        "tokenizer = Tokenizer(num_words = VOCAB_SIZE)\n",
        "tokenizer.fit_on_texts(X_train)\n",
        "\n",
        "train_sequences = tokenizer.texts_to_sequences(X_train)\n",
        "test_sequences = tokenizer.texts_to_sequences(X_test)"
      ],
      "execution_count": 22,
      "outputs": []
    },
    {
      "cell_type": "code",
      "metadata": {
        "colab": {
          "base_uri": "https://localhost:8080/",
          "height": 0
        },
        "id": "6xEiD1xTtjm6",
        "outputId": "87415c95-4326-4029-817b-64091361118d"
      },
      "source": [
        "sequences = tokenizer.texts_to_sequences([\"physics is nice \"])\n",
        "sequences"
      ],
      "execution_count": 18,
      "outputs": [
        {
          "output_type": "execute_result",
          "data": {
            "text/plain": [
              "[[11158]]"
            ]
          },
          "metadata": {
            "tags": []
          },
          "execution_count": 18
        }
      ]
    },
    {
      "cell_type": "code",
      "metadata": {
        "colab": {
          "base_uri": "https://localhost:8080/",
          "height": 0
        },
        "id": "uu7S-pa1s8Sd",
        "outputId": "61499dba-b1ff-4831-98c9-edd15959b16f"
      },
      "source": [
        "word_index = tokenizer.word_index\n",
        "print('Found %s unique tokens.' % len(word_index))"
      ],
      "execution_count": 21,
      "outputs": [
        {
          "output_type": "stream",
          "text": [
            "Found 16272 unique tokens.\n"
          ],
          "name": "stdout"
        }
      ]
    },
    {
      "cell_type": "code",
      "metadata": {
        "colab": {
          "base_uri": "https://localhost:8080/",
          "height": 0
        },
        "id": "aV6-jFrJtSCi",
        "outputId": "5b4fbd41-a81b-4dd2-e872-84a5859f8c36"
      },
      "source": [
        "train_data = pad_sequences(train_sequences, maxlen= MAX_SEQ_LEN)\n",
        "test_data = pad_sequences(test_sequences, maxlen= MAX_SEQ_LEN)\n",
        "print(train_data.shape)\n",
        "print(test_data.shape)"
      ],
      "execution_count": 25,
      "outputs": [
        {
          "output_type": "stream",
          "text": [
            "(33705, 700)\n",
            "(8427, 700)\n"
          ],
          "name": "stdout"
        }
      ]
    },
    {
      "cell_type": "markdown",
      "metadata": {
        "id": "F3aaDd1nwinS"
      },
      "source": [
        "(row, max_seq_len) "
      ]
    },
    {
      "cell_type": "code",
      "metadata": {
        "id": "YIHN83n5tR6P"
      },
      "source": [
        "train_labels = Y_train"
      ],
      "execution_count": 26,
      "outputs": []
    },
    {
      "cell_type": "code",
      "metadata": {
        "colab": {
          "base_uri": "https://localhost:8080/",
          "height": 0
        },
        "id": "Ll8-XsAixUUm",
        "outputId": "cd055be6-9532-4028-ca72-3edc288af976"
      },
      "source": [
        "train_labels"
      ],
      "execution_count": 27,
      "outputs": [
        {
          "output_type": "execute_result",
          "data": {
            "text/plain": [
              "29302    negative\n",
              "13405     neutral\n",
              "35429    positive\n",
              "16379    positive\n",
              "25018    negative\n",
              "           ...   \n",
              "6265     negative\n",
              "11284    positive\n",
              "38158     neutral\n",
              "860       neutral\n",
              "15795    negative\n",
              "Name: sentiment, Length: 33705, dtype: object"
            ]
          },
          "metadata": {
            "tags": []
          },
          "execution_count": 27
        }
      ]
    },
    {
      "cell_type": "code",
      "metadata": {
        "colab": {
          "base_uri": "https://localhost:8080/",
          "height": 0
        },
        "id": "yBVYcIrctR3k",
        "outputId": "f21df3f9-c678-4220-fe9f-b2648e503017"
      },
      "source": [
        "label_encoder = LabelEncoder()\n",
        "label_encoder.fit(train_labels)\n",
        "train_labels = label_encoder.transform(train_labels)\n",
        "\n",
        "print(label_encoder.classes_)"
      ],
      "execution_count": 28,
      "outputs": [
        {
          "output_type": "stream",
          "text": [
            "['negative' 'neutral' 'positive']\n"
          ],
          "name": "stdout"
        }
      ]
    },
    {
      "cell_type": "code",
      "metadata": {
        "colab": {
          "base_uri": "https://localhost:8080/",
          "height": 0
        },
        "id": "CYMb-BKsxX7w",
        "outputId": "bba67cff-762a-44e1-c04b-823405f7860f"
      },
      "source": [
        "train_labels"
      ],
      "execution_count": 30,
      "outputs": [
        {
          "output_type": "execute_result",
          "data": {
            "text/plain": [
              "array([0, 1, 2, ..., 1, 1, 0])"
            ]
          },
          "metadata": {
            "tags": []
          },
          "execution_count": 30
        }
      ]
    },
    {
      "cell_type": "code",
      "metadata": {
        "colab": {
          "base_uri": "https://localhost:8080/",
          "height": 0
        },
        "id": "-6WtG9CBtR05",
        "outputId": "558f2ce3-fdc6-4395-b726-cc049f4bba69"
      },
      "source": [
        "#convert to labels to one-hot-coded\n",
        "train_tensor = to_categorical(np.array(train_labels))\n",
        "\n",
        "print(\"Train tensor shape:\",train_data.shape)\n",
        "print(\"Train labels tensor shape:\",train_tensor.shape)"
      ],
      "execution_count": 31,
      "outputs": [
        {
          "output_type": "stream",
          "text": [
            "Train tensor shape: (33705, 700)\n",
            "Train labels tensor shape: (33705, 3)\n"
          ],
          "name": "stdout"
        }
      ]
    },
    {
      "cell_type": "code",
      "metadata": {
        "id": "ArilUorRrE0M"
      },
      "source": [
        "EMBEDDING_DIM = 100\n",
        "INITIALIZER = 'he_uniform'\n",
        "REGULARIZER = regularizers.l2(0.01)\n",
        "\n",
        "cnn_model = Sequential()\n",
        "cnn_model.add(Embedding(input_dim= VOCAB_SIZE, \n",
        "                    output_dim= EMBEDDING_DIM ,\n",
        "                    input_length= MAX_SEQ_LEN,\n",
        "                    embeddings_regularizer = REGULARIZER\n",
        "                   ))\n",
        "cnn_model.add(Conv1D(filters= 64, kernel_size= 3,activation= 'relu',\n",
        "                 kernel_initializer= INITIALIZER ,\n",
        "                 #kernel_regularizer= REGULARIZER\n",
        "                ))\n",
        "cnn_model.add(Conv1D(filters= 64, kernel_size= 5,activation= 'relu',\n",
        "                 kernel_initializer= INITIALIZER,\n",
        "                 #kernel_regularizer= REGULARIZER\n",
        "                 ))\n",
        "cnn_model.add(GlobalMaxPool1D())\n",
        "#cnn_model.add(MaxPool1D())\n",
        "cnn_model.add(Dropout(0.2))\n",
        "cnn_model.add(BatchNormalization())\n",
        "\n",
        "#cnn_model.add(Conv1D(filters= 64, kernel_size= 5,activation= 'relu',padding = 'same'))\n",
        "#cnn_model.add(Conv1D(filters= 64, kernel_size= 5,activation= 'relu',padding = 'same'))\n",
        "\n",
        "cnn_model.add(Dense(128, activation= 'relu'))\n",
        "cnn_model.add(Dropout(0.5))\n",
        "cnn_model.add(BatchNormalization())\n",
        "cnn_model.add(Dense(3,activation= 'softmax'))"
      ],
      "execution_count": 42,
      "outputs": []
    },
    {
      "cell_type": "code",
      "metadata": {
        "colab": {
          "base_uri": "https://localhost:8080/",
          "height": 0
        },
        "id": "t_ccsK7iyKnK",
        "outputId": "5a312f7d-2c6c-4277-9dde-de9f9b65b6aa"
      },
      "source": [
        "adam = Adam(lr=0.001)\n",
        "#adagrad = Adagrad()\n",
        "#adadelta = Adadelta()\n",
        "#nadam = Nadam(lr=0.001)\n",
        "cnn_model.compile(loss = 'categorical_crossentropy',\n",
        "             optimizer = adam,\n",
        "             metrics = ['accuracy']\n",
        "             )\n",
        "\n",
        "cnn_model.summary()\n",
        "metric = \"val_accuracy\""
      ],
      "execution_count": 43,
      "outputs": [
        {
          "output_type": "stream",
          "text": [
            "Model: \"sequential_2\"\n",
            "_________________________________________________________________\n",
            "Layer (type)                 Output Shape              Param #   \n",
            "=================================================================\n",
            "embedding_2 (Embedding)      (None, 700, 100)          2000000   \n",
            "_________________________________________________________________\n",
            "conv1d_4 (Conv1D)            (None, 698, 64)           19264     \n",
            "_________________________________________________________________\n",
            "conv1d_5 (Conv1D)            (None, 694, 64)           20544     \n",
            "_________________________________________________________________\n",
            "global_max_pooling1d_2 (Glob (None, 64)                0         \n",
            "_________________________________________________________________\n",
            "dropout_4 (Dropout)          (None, 64)                0         \n",
            "_________________________________________________________________\n",
            "batch_normalization_4 (Batch (None, 64)                256       \n",
            "_________________________________________________________________\n",
            "dense_4 (Dense)              (None, 128)               8320      \n",
            "_________________________________________________________________\n",
            "dropout_5 (Dropout)          (None, 128)               0         \n",
            "_________________________________________________________________\n",
            "batch_normalization_5 (Batch (None, 128)               512       \n",
            "_________________________________________________________________\n",
            "dense_5 (Dense)              (None, 3)                 387       \n",
            "=================================================================\n",
            "Total params: 2,049,283\n",
            "Trainable params: 2,048,899\n",
            "Non-trainable params: 384\n",
            "_________________________________________________________________\n"
          ],
          "name": "stdout"
        }
      ]
    },
    {
      "cell_type": "markdown",
      "metadata": {
        "id": "rQM7q2VHyV5U"
      },
      "source": [
        "### Define Callback"
      ]
    },
    {
      "cell_type": "code",
      "metadata": {
        "id": "L5BPN8EIyQ9U"
      },
      "source": [
        "reduce_lr = callbacks.ReduceLROnPlateau(monitor= metric, factor= 0.1,\n",
        "                                       patience= 10, min_lr= 0.00001,\n",
        "                                       verbose= 1)\n",
        "\n",
        "early_stop = callbacks.EarlyStopping(monitor= metric, mode= 'auto',\n",
        "                                     patience= 15,\n",
        "                                    verbose= 1)\n",
        "                                    #restore_best_weights= True)\n",
        "\n",
        "#file_path = \"cnn_weights.{epoch:02d}-{val_loss:.2f}.hdf5\"\n",
        "file_path = \"cnn_weights.hdf5\"\n",
        "model_chkpt = callbacks.ModelCheckpoint(filepath=file_path,monitor= metric, save_best_only=True)"
      ],
      "execution_count": 44,
      "outputs": []
    },
    {
      "cell_type": "code",
      "metadata": {
        "colab": {
          "base_uri": "https://localhost:8080/",
          "height": 0
        },
        "id": "hSVQmp_myeH5",
        "outputId": "94fa6898-da02-4e26-f7e2-32ad745e7d4f"
      },
      "source": [
        "history = cnn_model.fit(train_data , train_tensor ,\n",
        "         batch_size = 64, shuffle = True,\n",
        "         epochs=1000,validation_split = 0.2,\n",
        "         callbacks = [reduce_lr,early_stop,model_chkpt]\n",
        "         )"
      ],
      "execution_count": 45,
      "outputs": [
        {
          "output_type": "stream",
          "text": [
            "Epoch 1/1000\n",
            "422/422 [==============================] - 158s 372ms/step - loss: 4.2956 - accuracy: 0.5441 - val_loss: 1.2972 - val_accuracy: 0.6487\n",
            "Epoch 2/1000\n",
            "422/422 [==============================] - 157s 372ms/step - loss: 1.0758 - accuracy: 0.7751 - val_loss: 1.1142 - val_accuracy: 0.8120\n",
            "Epoch 3/1000\n",
            "422/422 [==============================] - 158s 373ms/step - loss: 1.0631 - accuracy: 0.8353 - val_loss: 1.0903 - val_accuracy: 0.8431\n",
            "Epoch 4/1000\n",
            "422/422 [==============================] - 157s 372ms/step - loss: 1.0231 - accuracy: 0.8670 - val_loss: 1.0123 - val_accuracy: 0.8699\n",
            "Epoch 5/1000\n",
            "422/422 [==============================] - 157s 371ms/step - loss: 0.9428 - accuracy: 0.8876 - val_loss: 1.0072 - val_accuracy: 0.8718\n",
            "Epoch 6/1000\n",
            "422/422 [==============================] - 159s 376ms/step - loss: 0.9052 - accuracy: 0.8989 - val_loss: 0.9524 - val_accuracy: 0.8879\n",
            "Epoch 7/1000\n",
            "422/422 [==============================] - 157s 372ms/step - loss: 0.8538 - accuracy: 0.9125 - val_loss: 1.0499 - val_accuracy: 0.8650\n",
            "Epoch 8/1000\n",
            "422/422 [==============================] - 157s 372ms/step - loss: 0.8458 - accuracy: 0.9180 - val_loss: 0.9661 - val_accuracy: 0.8922\n",
            "Epoch 9/1000\n",
            "422/422 [==============================] - 156s 370ms/step - loss: 0.7928 - accuracy: 0.9240 - val_loss: 0.9295 - val_accuracy: 0.8993\n",
            "Epoch 10/1000\n",
            "422/422 [==============================] - 160s 378ms/step - loss: 0.7820 - accuracy: 0.9321 - val_loss: 0.9273 - val_accuracy: 0.8930\n",
            "Epoch 11/1000\n",
            "422/422 [==============================] - 159s 376ms/step - loss: 0.7568 - accuracy: 0.9342 - val_loss: 0.9643 - val_accuracy: 0.8835\n",
            "Epoch 12/1000\n",
            "422/422 [==============================] - 162s 384ms/step - loss: 0.7567 - accuracy: 0.9321 - val_loss: 0.8728 - val_accuracy: 0.9062\n",
            "Epoch 13/1000\n",
            "422/422 [==============================] - 159s 376ms/step - loss: 0.7336 - accuracy: 0.9400 - val_loss: 0.8423 - val_accuracy: 0.9107\n",
            "Epoch 14/1000\n",
            "422/422 [==============================] - 161s 382ms/step - loss: 0.6892 - accuracy: 0.9396 - val_loss: 0.8749 - val_accuracy: 0.9027\n",
            "Epoch 15/1000\n",
            "422/422 [==============================] - 158s 375ms/step - loss: 0.7040 - accuracy: 0.9427 - val_loss: 0.8557 - val_accuracy: 0.8957\n",
            "Epoch 16/1000\n",
            "422/422 [==============================] - 160s 378ms/step - loss: 0.6934 - accuracy: 0.9429 - val_loss: 0.8551 - val_accuracy: 0.9013\n",
            "Epoch 17/1000\n",
            "422/422 [==============================] - 160s 378ms/step - loss: 0.6643 - accuracy: 0.9474 - val_loss: 0.8528 - val_accuracy: 0.9086\n",
            "Epoch 18/1000\n",
            "422/422 [==============================] - 161s 381ms/step - loss: 0.6930 - accuracy: 0.9455 - val_loss: 0.8830 - val_accuracy: 0.9052\n",
            "Epoch 19/1000\n",
            "422/422 [==============================] - 159s 377ms/step - loss: 0.6933 - accuracy: 0.9451 - val_loss: 0.8653 - val_accuracy: 0.9061\n",
            "Epoch 20/1000\n",
            "422/422 [==============================] - 158s 374ms/step - loss: 0.6747 - accuracy: 0.9489 - val_loss: 0.8171 - val_accuracy: 0.9104\n",
            "Epoch 21/1000\n",
            "422/422 [==============================] - 157s 372ms/step - loss: 0.6637 - accuracy: 0.9523 - val_loss: 0.8404 - val_accuracy: 0.9092\n",
            "Epoch 22/1000\n",
            "422/422 [==============================] - 157s 371ms/step - loss: 0.6762 - accuracy: 0.9463 - val_loss: 0.8543 - val_accuracy: 0.9065\n",
            "Epoch 23/1000\n",
            "422/422 [==============================] - 156s 370ms/step - loss: 0.6708 - accuracy: 0.9495 - val_loss: 0.8317 - val_accuracy: 0.9062\n",
            "\n",
            "Epoch 00023: ReduceLROnPlateau reducing learning rate to 0.00010000000474974513.\n",
            "Epoch 24/1000\n",
            "422/422 [==============================] - 156s 371ms/step - loss: 0.6023 - accuracy: 0.9671 - val_loss: 0.5731 - val_accuracy: 0.9285\n",
            "Epoch 25/1000\n",
            "422/422 [==============================] - 159s 376ms/step - loss: 0.3812 - accuracy: 0.9859 - val_loss: 0.4733 - val_accuracy: 0.9327\n",
            "Epoch 26/1000\n",
            "422/422 [==============================] - 160s 380ms/step - loss: 0.2820 - accuracy: 0.9913 - val_loss: 0.4136 - val_accuracy: 0.9338\n",
            "Epoch 27/1000\n",
            "422/422 [==============================] - 161s 382ms/step - loss: 0.2167 - accuracy: 0.9934 - val_loss: 0.3773 - val_accuracy: 0.9368\n",
            "Epoch 28/1000\n",
            "422/422 [==============================] - 158s 375ms/step - loss: 0.1811 - accuracy: 0.9917 - val_loss: 0.3594 - val_accuracy: 0.9358\n",
            "Epoch 29/1000\n",
            "422/422 [==============================] - 161s 382ms/step - loss: 0.1492 - accuracy: 0.9938 - val_loss: 0.3466 - val_accuracy: 0.9359\n",
            "Epoch 30/1000\n",
            "422/422 [==============================] - 160s 378ms/step - loss: 0.1292 - accuracy: 0.9939 - val_loss: 0.3437 - val_accuracy: 0.9361\n",
            "Epoch 31/1000\n",
            "422/422 [==============================] - 165s 391ms/step - loss: 0.1155 - accuracy: 0.9942 - val_loss: 0.3407 - val_accuracy: 0.9349\n",
            "Epoch 32/1000\n",
            "422/422 [==============================] - 163s 387ms/step - loss: 0.1069 - accuracy: 0.9943 - val_loss: 0.3460 - val_accuracy: 0.9319\n",
            "Epoch 33/1000\n",
            "422/422 [==============================] - 169s 401ms/step - loss: 0.1001 - accuracy: 0.9952 - val_loss: 0.3374 - val_accuracy: 0.9375\n",
            "Epoch 34/1000\n",
            "422/422 [==============================] - 165s 391ms/step - loss: 0.1020 - accuracy: 0.9919 - val_loss: 0.3517 - val_accuracy: 0.9315\n",
            "Epoch 35/1000\n",
            "422/422 [==============================] - 163s 387ms/step - loss: 0.0982 - accuracy: 0.9922 - val_loss: 0.3467 - val_accuracy: 0.9343\n",
            "Epoch 36/1000\n",
            "422/422 [==============================] - 159s 376ms/step - loss: 0.0938 - accuracy: 0.9938 - val_loss: 0.3333 - val_accuracy: 0.9372\n",
            "Epoch 37/1000\n",
            "422/422 [==============================] - 157s 373ms/step - loss: 0.0891 - accuracy: 0.9936 - val_loss: 0.3255 - val_accuracy: 0.9392\n",
            "Epoch 38/1000\n",
            "422/422 [==============================] - 155s 367ms/step - loss: 0.0870 - accuracy: 0.9935 - val_loss: 0.3286 - val_accuracy: 0.9386\n",
            "Epoch 39/1000\n",
            "422/422 [==============================] - 156s 370ms/step - loss: 0.0845 - accuracy: 0.9934 - val_loss: 0.3407 - val_accuracy: 0.9340\n",
            "Epoch 40/1000\n",
            "422/422 [==============================] - 155s 367ms/step - loss: 0.0863 - accuracy: 0.9928 - val_loss: 0.3468 - val_accuracy: 0.9378\n",
            "Epoch 41/1000\n",
            "422/422 [==============================] - 156s 371ms/step - loss: 0.0882 - accuracy: 0.9922 - val_loss: 0.3347 - val_accuracy: 0.9392\n",
            "Epoch 42/1000\n",
            "422/422 [==============================] - 158s 375ms/step - loss: 0.0901 - accuracy: 0.9925 - val_loss: 0.3356 - val_accuracy: 0.9401\n",
            "Epoch 43/1000\n",
            "422/422 [==============================] - 157s 371ms/step - loss: 0.0798 - accuracy: 0.9944 - val_loss: 0.3337 - val_accuracy: 0.9359\n",
            "Epoch 44/1000\n",
            "422/422 [==============================] - 158s 376ms/step - loss: 0.0758 - accuracy: 0.9941 - val_loss: 0.3523 - val_accuracy: 0.9324\n",
            "Epoch 45/1000\n",
            "422/422 [==============================] - 159s 377ms/step - loss: 0.0839 - accuracy: 0.9924 - val_loss: 0.3334 - val_accuracy: 0.9386\n",
            "Epoch 46/1000\n",
            "422/422 [==============================] - 160s 378ms/step - loss: 0.0797 - accuracy: 0.9930 - val_loss: 0.3238 - val_accuracy: 0.9393\n",
            "Epoch 47/1000\n",
            "422/422 [==============================] - 159s 377ms/step - loss: 0.0786 - accuracy: 0.9941 - val_loss: 0.3404 - val_accuracy: 0.9349\n",
            "Epoch 48/1000\n",
            "422/422 [==============================] - 159s 378ms/step - loss: 0.0777 - accuracy: 0.9927 - val_loss: 0.3378 - val_accuracy: 0.9395\n",
            "Epoch 49/1000\n",
            "422/422 [==============================] - 159s 377ms/step - loss: 0.0844 - accuracy: 0.9922 - val_loss: 0.3254 - val_accuracy: 0.9401\n",
            "Epoch 50/1000\n",
            "422/422 [==============================] - 160s 379ms/step - loss: 0.0825 - accuracy: 0.9923 - val_loss: 0.3298 - val_accuracy: 0.9399\n",
            "Epoch 51/1000\n",
            "422/422 [==============================] - 160s 380ms/step - loss: 0.0769 - accuracy: 0.9935 - val_loss: 0.3249 - val_accuracy: 0.9408\n",
            "Epoch 52/1000\n",
            "422/422 [==============================] - 162s 384ms/step - loss: 0.0774 - accuracy: 0.9935 - val_loss: 0.3155 - val_accuracy: 0.9417\n",
            "Epoch 53/1000\n",
            "422/422 [==============================] - 159s 378ms/step - loss: 0.0744 - accuracy: 0.9948 - val_loss: 0.3061 - val_accuracy: 0.9426\n",
            "Epoch 54/1000\n",
            "422/422 [==============================] - 158s 375ms/step - loss: 0.0701 - accuracy: 0.9948 - val_loss: 0.3136 - val_accuracy: 0.9399\n",
            "Epoch 55/1000\n",
            "422/422 [==============================] - 157s 372ms/step - loss: 0.0759 - accuracy: 0.9930 - val_loss: 0.3380 - val_accuracy: 0.9350\n",
            "Epoch 56/1000\n",
            "422/422 [==============================] - 155s 367ms/step - loss: 0.0821 - accuracy: 0.9925 - val_loss: 0.3217 - val_accuracy: 0.9396\n",
            "Epoch 57/1000\n",
            "422/422 [==============================] - 156s 369ms/step - loss: 0.0777 - accuracy: 0.9931 - val_loss: 0.3051 - val_accuracy: 0.9464\n",
            "Epoch 58/1000\n",
            "422/422 [==============================] - 157s 372ms/step - loss: 0.0737 - accuracy: 0.9948 - val_loss: 0.3067 - val_accuracy: 0.9424\n",
            "Epoch 59/1000\n",
            "422/422 [==============================] - 157s 371ms/step - loss: 0.0772 - accuracy: 0.9929 - val_loss: 0.3102 - val_accuracy: 0.9423\n",
            "Epoch 60/1000\n",
            "422/422 [==============================] - 162s 384ms/step - loss: 0.0732 - accuracy: 0.9953 - val_loss: 0.3116 - val_accuracy: 0.9441\n",
            "Epoch 61/1000\n",
            "422/422 [==============================] - 161s 381ms/step - loss: 0.0715 - accuracy: 0.9943 - val_loss: 0.3120 - val_accuracy: 0.9410\n",
            "Epoch 62/1000\n",
            "422/422 [==============================] - 160s 378ms/step - loss: 0.0751 - accuracy: 0.9935 - val_loss: 0.3032 - val_accuracy: 0.9453\n",
            "Epoch 63/1000\n",
            "422/422 [==============================] - 159s 377ms/step - loss: 0.0735 - accuracy: 0.9940 - val_loss: 0.3087 - val_accuracy: 0.9423\n",
            "Epoch 64/1000\n",
            "422/422 [==============================] - 158s 375ms/step - loss: 0.0791 - accuracy: 0.9923 - val_loss: 0.3180 - val_accuracy: 0.9399\n",
            "Epoch 65/1000\n",
            "422/422 [==============================] - 158s 374ms/step - loss: 0.0793 - accuracy: 0.9927 - val_loss: 0.3169 - val_accuracy: 0.9393\n",
            "Epoch 66/1000\n",
            "422/422 [==============================] - 159s 377ms/step - loss: 0.0766 - accuracy: 0.9931 - val_loss: 0.3394 - val_accuracy: 0.9347\n",
            "Epoch 67/1000\n",
            "422/422 [==============================] - 158s 375ms/step - loss: 0.0715 - accuracy: 0.9942 - val_loss: 0.3048 - val_accuracy: 0.9451\n",
            "\n",
            "Epoch 00067: ReduceLROnPlateau reducing learning rate to 1.0000000474974514e-05.\n",
            "Epoch 68/1000\n",
            "422/422 [==============================] - 158s 374ms/step - loss: 0.0659 - accuracy: 0.9953 - val_loss: 0.2916 - val_accuracy: 0.9450\n",
            "Epoch 69/1000\n",
            "422/422 [==============================] - 158s 374ms/step - loss: 0.0590 - accuracy: 0.9973 - val_loss: 0.2888 - val_accuracy: 0.9451\n",
            "Epoch 70/1000\n",
            "422/422 [==============================] - 156s 370ms/step - loss: 0.0560 - accuracy: 0.9976 - val_loss: 0.2864 - val_accuracy: 0.9459\n",
            "Epoch 71/1000\n",
            "422/422 [==============================] - 158s 373ms/step - loss: 0.0549 - accuracy: 0.9973 - val_loss: 0.2833 - val_accuracy: 0.9453\n",
            "Epoch 72/1000\n",
            "422/422 [==============================] - 157s 373ms/step - loss: 0.0506 - accuracy: 0.9982 - val_loss: 0.2824 - val_accuracy: 0.9466\n",
            "Epoch 73/1000\n",
            "422/422 [==============================] - 157s 371ms/step - loss: 0.0469 - accuracy: 0.9986 - val_loss: 0.2798 - val_accuracy: 0.9469\n",
            "Epoch 74/1000\n",
            "422/422 [==============================] - 156s 369ms/step - loss: 0.0452 - accuracy: 0.9988 - val_loss: 0.2792 - val_accuracy: 0.9459\n",
            "Epoch 75/1000\n",
            "422/422 [==============================] - 158s 375ms/step - loss: 0.0427 - accuracy: 0.9986 - val_loss: 0.2820 - val_accuracy: 0.9459\n",
            "Epoch 76/1000\n",
            "422/422 [==============================] - 157s 371ms/step - loss: 0.0415 - accuracy: 0.9981 - val_loss: 0.2806 - val_accuracy: 0.9454\n",
            "Epoch 77/1000\n",
            "422/422 [==============================] - 160s 379ms/step - loss: 0.0403 - accuracy: 0.9982 - val_loss: 0.2811 - val_accuracy: 0.9448\n",
            "Epoch 78/1000\n",
            "422/422 [==============================] - 157s 372ms/step - loss: 0.0391 - accuracy: 0.9983 - val_loss: 0.2812 - val_accuracy: 0.9456\n",
            "Epoch 79/1000\n",
            "422/422 [==============================] - 158s 375ms/step - loss: 0.0368 - accuracy: 0.9981 - val_loss: 0.2812 - val_accuracy: 0.9445\n",
            "Epoch 80/1000\n",
            "422/422 [==============================] - 156s 369ms/step - loss: 0.0342 - accuracy: 0.9983 - val_loss: 0.2804 - val_accuracy: 0.9433\n",
            "Epoch 81/1000\n",
            "422/422 [==============================] - 157s 371ms/step - loss: 0.0336 - accuracy: 0.9984 - val_loss: 0.2798 - val_accuracy: 0.9435\n",
            "Epoch 82/1000\n",
            "422/422 [==============================] - 156s 369ms/step - loss: 0.0313 - accuracy: 0.9984 - val_loss: 0.2849 - val_accuracy: 0.9445\n",
            "Epoch 83/1000\n",
            "422/422 [==============================] - 155s 368ms/step - loss: 0.0293 - accuracy: 0.9990 - val_loss: 0.2877 - val_accuracy: 0.9432\n",
            "\n",
            "Epoch 00083: ReduceLROnPlateau reducing learning rate to 1e-05.\n",
            "Epoch 84/1000\n",
            "422/422 [==============================] - 154s 365ms/step - loss: 0.0294 - accuracy: 0.9981 - val_loss: 0.2886 - val_accuracy: 0.9421\n",
            "Epoch 85/1000\n",
            "422/422 [==============================] - 158s 373ms/step - loss: 0.0295 - accuracy: 0.9979 - val_loss: 0.2912 - val_accuracy: 0.9426\n",
            "Epoch 86/1000\n",
            "422/422 [==============================] - 157s 373ms/step - loss: 0.0273 - accuracy: 0.9982 - val_loss: 0.2884 - val_accuracy: 0.9414\n",
            "Epoch 87/1000\n",
            "422/422 [==============================] - 156s 370ms/step - loss: 0.0265 - accuracy: 0.9986 - val_loss: 0.2876 - val_accuracy: 0.9421\n",
            "Epoch 88/1000\n",
            "422/422 [==============================] - 156s 369ms/step - loss: 0.0255 - accuracy: 0.9991 - val_loss: 0.2909 - val_accuracy: 0.9410\n",
            "Epoch 00088: early stopping\n"
          ],
          "name": "stdout"
        }
      ]
    },
    {
      "cell_type": "code",
      "metadata": {
        "colab": {
          "base_uri": "https://localhost:8080/",
          "height": 0
        },
        "id": "vFs08XIyfwDA",
        "outputId": "f509f654-396c-4c14-ca34-cb69c400d959"
      },
      "source": [
        "!ls"
      ],
      "execution_count": 48,
      "outputs": [
        {
          "output_type": "stream",
          "text": [
            "'facebook_health_cases (augmented).csv'   models   sample_data\n"
          ],
          "name": "stdout"
        }
      ]
    },
    {
      "cell_type": "code",
      "metadata": {
        "id": "rYdMM_ee9kYA"
      },
      "source": [
        "!cd models/"
      ],
      "execution_count": 52,
      "outputs": []
    },
    {
      "cell_type": "code",
      "metadata": {
        "id": "zSk_sqrp9xIU"
      },
      "source": [
        "train_acc = history.history['accuracy']\n",
        "train_loss = history.history['loss']\n",
        "\n",
        "val_acc = history.history['val_accuracy']\n",
        "val_loss = history.history['val_loss']"
      ],
      "execution_count": 50,
      "outputs": []
    },
    {
      "cell_type": "code",
      "metadata": {
        "colab": {
          "base_uri": "https://localhost:8080/",
          "height": 350
        },
        "id": "PokfnCQ59xF9",
        "outputId": "fed76e22-62ed-4706-df26-3b1444da005c"
      },
      "source": [
        "plt.figure(figsize=(20,5))\n",
        "ax = plt.subplot(1,2,1)\n",
        "ax.set_title(\"Model Loss\")\n",
        "plt.xlabel('Epochs')\n",
        "plt.ylabel('Loss')\n",
        "plt.plot(train_loss , label =\"Train Loss\")\n",
        "plt.plot(val_loss, label =\"Val Loss\")\n",
        "plt.legend()\n",
        "\n",
        "ax = plt.subplot(1,2,2)\n",
        "ax.set_title(\"Model Accuracy\")\n",
        "plt.xlabel('Epochs')\n",
        "plt.ylabel('Accuracy')\n",
        "plt.plot(train_acc, label = \"Train Accuracy\")\n",
        "plt.plot(val_acc, label = \"Val Accuracy\")\n",
        "plt.legend()\n",
        "plt.show();"
      ],
      "execution_count": 51,
      "outputs": [
        {
          "output_type": "display_data",
          "data": {
            "image/png": "[encoded data removed]",
            "text/plain": [
              "<Figure size 1440x360 with 2 Axes>"
            ]
          },
          "metadata": {
            "tags": [],
            "needs_background": "light"
          }
        }
      ]
    },
    {
      "cell_type": "code",
      "metadata": {
        "colab": {
          "base_uri": "https://localhost:8080/",
          "height": 0
        },
        "id": "wdL3E1auysDG",
        "outputId": "c2d9e5ff-5be9-4afc-bd66-f83399515105"
      },
      "source": [
        "evaluation = cnn_model.evaluate(train_data,train_tensor)\n",
        "print(\"Train Loss: %f\"%evaluation[0] , \"Train Accuracy: %f\"%evaluation[1])"
      ],
      "execution_count": 53,
      "outputs": [
        {
          "output_type": "stream",
          "text": [
            "1054/1054 [==============================] - 50s 48ms/step - loss: 0.0749 - accuracy: 0.9879\n",
            "Train Loss: 0.074931 Train Accuracy: 0.987865\n"
          ],
          "name": "stdout"
        }
      ]
    },
    {
      "cell_type": "code",
      "metadata": {
        "colab": {
          "base_uri": "https://localhost:8080/",
          "height": 0
        },
        "id": "97Vs8wIN-awo",
        "outputId": "51963c15-0c8e-43b7-b69f-12e9f893f0af"
      },
      "source": [
        "Y_test"
      ],
      "execution_count": 57,
      "outputs": [
        {
          "output_type": "execute_result",
          "data": {
            "text/plain": [
              "37139    positive\n",
              "19866    negative\n",
              "34580     neutral\n",
              "3601     negative\n",
              "15322    negative\n",
              "           ...   \n",
              "27737    positive\n",
              "27577    negative\n",
              "10689    positive\n",
              "36890    negative\n",
              "8501     positive\n",
              "Name: sentiment, Length: 8427, dtype: object"
            ]
          },
          "metadata": {
            "tags": []
          },
          "execution_count": 57
        }
      ]
    },
    {
      "cell_type": "code",
      "metadata": {
        "colab": {
          "base_uri": "https://localhost:8080/",
          "height": 0
        },
        "id": "rHBUGZP994Fv",
        "outputId": "0f52e53e-ccde-475b-d658-384cb5ad8037"
      },
      "source": [
        "test_labels = Y_test\n",
        "label_encoder = LabelEncoder()\n",
        "label_encoder.fit(Y_test)\n",
        "test_labels = label_encoder.transform(test_labels)\n",
        "\n",
        "test_tensor = to_categorical(np.array(test_labels))\n",
        "\n",
        "loss, accuracy = cnn_model.evaluate(test_data, test_tensor)\n",
        "print(\"Testing Accuracy:  {:.4f}\".format(accuracy))"
      ],
      "execution_count": 60,
      "outputs": [
        {
          "output_type": "stream",
          "text": [
            "Testing Accuracy:  0.9478\n"
          ],
          "name": "stdout"
        }
      ]
    },
    {
      "cell_type": "code",
      "metadata": {
        "colab": {
          "base_uri": "https://localhost:8080/",
          "height": 0
        },
        "id": "WPmVGPVm_RyQ",
        "outputId": "c39e685d-9ff7-45c6-e5dc-2753ec4025cd"
      },
      "source": [
        "loss, accuracy = best_weights_cnn.evaluate(test_data, test_tensor)\n",
        "print(\"Testing Accuracy:  {:.4f}\".format(accuracy))"
      ],
      "execution_count": 61,
      "outputs": [
        {
          "output_type": "stream",
          "text": [
            "264/264 [==============================] - 13s 50ms/step - loss: 0.2691 - accuracy: 0.9504\n",
            "Testing Accuracy:  0.9504\n"
          ],
          "name": "stdout"
        }
      ]
    },
    {
      "cell_type": "code",
      "metadata": {
        "colab": {
          "base_uri": "https://localhost:8080/",
          "height": 35
        },
        "id": "GU7TH8fT_bEC",
        "outputId": "f40f45d9-172e-49d6-d5d1-533d3624ec29"
      },
      "source": [
        "file_path"
      ],
      "execution_count": 62,
      "outputs": [
        {
          "output_type": "execute_result",
          "data": {
            "application/vnd.google.colaboratory.intrinsic+json": {
              "type": "string"
            },
            "text/plain": [
              "'models/cnn_weights.hdf5'"
            ]
          },
          "metadata": {
            "tags": []
          },
          "execution_count": 62
        }
      ]
    },
    {
      "cell_type": "code",
      "metadata": {
        "colab": {
          "base_uri": "https://localhost:8080/",
          "height": 17
        },
        "id": "1xs1WraQ_twE",
        "outputId": "ca0f5988-4936-4ad7-f6ac-e26593e98a94"
      },
      "source": [
        "files.download(file_path)"
      ],
      "execution_count": 63,
      "outputs": [
        {
          "output_type": "display_data",
          "data": {
            "application/javascript": [
              "\n",
              "    async function download(id, filename, size) {\n",
              "      if (!google.colab.kernel.accessAllowed) {\n",
              "        return;\n",
              "      }\n",
              "      const div = document.createElement('div');\n",
              "      const label = document.createElement('label');\n",
              "      label.textContent = `Downloading \"${filename}\": `;\n",
              "      div.appendChild(label);\n",
              "      const progress = document.createElement('progress');\n",
              "      progress.max = size;\n",
              "      div.appendChild(progress);\n",
              "      document.body.appendChild(div);\n",
              "\n",
              "      const buffers = [];\n",
              "      let downloaded = 0;\n",
              "\n",
              "      const channel = await google.colab.kernel.comms.open(id);\n",
              "      // Send a message to notify the kernel that we're ready.\n",
              "      channel.send({})\n",
              "\n",
              "      for await (const message of channel.messages) {\n",
              "        // Send a message to notify the kernel that we're ready.\n",
              "        channel.send({})\n",
              "        if (message.buffers) {\n",
              "          for (const buffer of message.buffers) {\n",
              "            buffers.push(buffer);\n",
              "            downloaded += buffer.byteLength;\n",
              "            progress.value = downloaded;\n",
              "          }\n",
              "        }\n",
              "      }\n",
              "      const blob = new Blob(buffers, {type: 'application/binary'});\n",
              "      const a = document.createElement('a');\n",
              "      a.href = window.URL.createObjectURL(blob);\n",
              "      a.download = filename;\n",
              "      div.appendChild(a);\n",
              "      a.click();\n",
              "      div.remove();\n",
              "    }\n",
              "  "
            ],
            "text/plain": [
              "<IPython.core.display.Javascript object>"
            ]
          },
          "metadata": {
            "tags": []
          }
        },
        {
          "output_type": "display_data",
          "data": {
            "application/javascript": [
              "download(\"download_5323d5db-878a-46fc-8c22-359b3a165b31\", \"cnn_weights.hdf5\", 24655128)"
            ],
            "text/plain": [
              "<IPython.core.display.Javascript object>"
            ]
          },
          "metadata": {
            "tags": []
          }
        }
      ]
    },
    {
      "cell_type": "code",
      "metadata": {
        "colab": {
          "base_uri": "https://localhost:8080/",
          "height": 0
        },
        "id": "L8nUVU5i93xj",
        "outputId": "95d26965-c299-43f7-c272-b074cbd60110"
      },
      "source": [
        "# with best weight\n",
        "best_weights_cnn = load_model(file_path)\n",
        "evaluation = best_weights_cnn.evaluate(train_data,train_tensor)\n",
        "print(\"Train Loss: %f\"%evaluation[0] , \"Train Accuracy: %f\"%evaluation[1])"
      ],
      "execution_count": 56,
      "outputs": [
        {
          "output_type": "stream",
          "text": [
            "1054/1054 [==============================] - 51s 48ms/step - loss: 0.0885 - accuracy: 0.9890\n",
            "Train Loss: 0.088476 Train Accuracy: 0.988963\n"
          ],
          "name": "stdout"
        }
      ]
    }
  ]
}